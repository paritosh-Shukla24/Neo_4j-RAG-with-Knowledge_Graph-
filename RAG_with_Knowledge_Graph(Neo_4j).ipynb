{
  "nbformat": 4,
  "nbformat_minor": 0,
  "metadata": {
    "colab": {
      "provenance": [],
      "authorship_tag": "ABX9TyOyFDvchzDxLLECKuZyGJQe",
      "include_colab_link": true
    },
    "kernelspec": {
      "name": "python3",
      "display_name": "Python 3"
    },
    "language_info": {
      "name": "python"
    },
    "widgets": {
      "application/vnd.jupyter.widget-state+json": {
        "6548507f4b0b476b9fd62935c7b383d5": {
          "model_module": "yfiles-jupyter-graphs",
          "model_name": "GraphModel",
          "model_module_version": "^1.7.2",
          "state": {
            "_context_pane_mapping": [
              {
                "id": "Neighborhood",
                "title": "Neighborhood"
              },
              {
                "id": "Data",
                "title": "Data"
              },
              {
                "id": "Search",
                "title": "Search"
              },
              {
                "id": "About",
                "title": "About"
              }
            ],
            "_data_importer": "neo4j",
            "_directed": true,
            "_dom_classes": [],
            "_edges": [
              {
                "id": 1152922604118474800,
                "start": 1,
                "end": 2,
                "properties": {
                  "label": "ALIAS"
                },
                "label": "ALIAS",
                "color": "#9E9E9E",
                "thickness_factor": 1,
                "directed": true
              },
              {
                "id": 1152924803141730300,
                "start": 1,
                "end": 10,
                "properties": {
                  "label": "SPOUSE"
                },
                "label": "SPOUSE",
                "color": "#9C27B0",
                "thickness_factor": 1,
                "directed": true
              },
              {
                "id": 1152928101676613600,
                "start": 1,
                "end": 2,
                "properties": {
                  "label": "SUCCESSOR"
                },
                "label": "SUCCESSOR",
                "color": "#2196F3",
                "thickness_factor": 1,
                "directed": true
              },
              {
                "id": 1152929201188241400,
                "start": 1,
                "end": 13,
                "properties": {
                  "label": "RIVAL"
                },
                "label": "RIVAL",
                "color": "#4CAF50",
                "thickness_factor": 1,
                "directed": true
              },
              {
                "id": 1152930300699869200,
                "start": 2,
                "end": 17,
                "properties": {
                  "label": "CONFLICT"
                },
                "label": "CONFLICT",
                "color": "#F44336",
                "thickness_factor": 1,
                "directed": true
              },
              {
                "id": 1152931400211497000,
                "start": 2,
                "end": 18,
                "properties": {
                  "label": "DIPLOMATIC_RELATION"
                },
                "label": "DIPLOMATIC_RELATION",
                "color": "#607D8B",
                "thickness_factor": 1,
                "directed": true
              },
              {
                "id": 1152932499723124700,
                "start": 2,
                "end": 19,
                "properties": {
                  "label": "BATTLE"
                },
                "label": "BATTLE",
                "color": "#673AB7",
                "thickness_factor": 1,
                "directed": true
              },
              {
                "id": 1152943494839402500,
                "start": 2,
                "end": 30,
                "properties": {
                  "label": "NAMED_AFTER"
                },
                "label": "NAMED_AFTER",
                "color": "#CDDC39",
                "thickness_factor": 1,
                "directed": true
              },
              {
                "id": 1152944594351030300,
                "start": 2,
                "end": 23,
                "properties": {
                  "label": "BELONGS_TO"
                },
                "label": "BELONGS_TO",
                "color": "#9E9E9E",
                "thickness_factor": 1,
                "directed": true
              },
              {
                "id": 6917556515431776000,
                "start": 2,
                "end": 45,
                "properties": {
                  "label": "ACTOR"
                },
                "label": "ACTOR",
                "color": "#9C27B0",
                "thickness_factor": 1,
                "directed": true
              },
              {
                "id": 6917556515431776000,
                "start": 2,
                "end": 46,
                "properties": {
                  "label": "ACTOR"
                },
                "label": "ACTOR",
                "color": "#9C27B0",
                "thickness_factor": 1,
                "directed": true
              },
              {
                "id": 6917556515431776000,
                "start": 2,
                "end": 47,
                "properties": {
                  "label": "ACTOR"
                },
                "label": "ACTOR",
                "color": "#9C27B0",
                "thickness_factor": 1,
                "directed": true
              },
              {
                "id": 6917556515431776000,
                "start": 2,
                "end": 48,
                "properties": {
                  "label": "ACTOR"
                },
                "label": "ACTOR",
                "color": "#9C27B0",
                "thickness_factor": 1,
                "directed": true
              },
              {
                "id": 6917597197362004000,
                "start": 2,
                "end": 143,
                "properties": {
                  "label": "HAD"
                },
                "label": "HAD",
                "color": "#2196F3",
                "thickness_factor": 1,
                "directed": true
              },
              {
                "id": 1152923703630102500,
                "start": 3,
                "end": 1,
                "properties": {
                  "label": "PARENT"
                },
                "label": "PARENT",
                "color": "#4CAF50",
                "thickness_factor": 1,
                "directed": true
              },
              {
                "id": 1155175503443787800,
                "start": 3,
                "end": 5,
                "properties": {
                  "label": "PARENT"
                },
                "label": "PARENT",
                "color": "#4CAF50",
                "thickness_factor": 1,
                "directed": true
              },
              {
                "id": 1157427303257473000,
                "start": 3,
                "end": 6,
                "properties": {
                  "label": "PARENT"
                },
                "label": "PARENT",
                "color": "#4CAF50",
                "thickness_factor": 1,
                "directed": true
              },
              {
                "id": 1159679103071158300,
                "start": 3,
                "end": 7,
                "properties": {
                  "label": "PARENT"
                },
                "label": "PARENT",
                "color": "#4CAF50",
                "thickness_factor": 1,
                "directed": true
              },
              {
                "id": 1161930902884843500,
                "start": 3,
                "end": 8,
                "properties": {
                  "label": "PARENT"
                },
                "label": "PARENT",
                "color": "#4CAF50",
                "thickness_factor": 1,
                "directed": true
              },
              {
                "id": 1164182702698528800,
                "start": 3,
                "end": 9,
                "properties": {
                  "label": "PARENT"
                },
                "label": "PARENT",
                "color": "#4CAF50",
                "thickness_factor": 1,
                "directed": true
              },
              {
                "id": 1152924803141730300,
                "start": 3,
                "end": 12,
                "properties": {
                  "label": "SPOUSE"
                },
                "label": "SPOUSE",
                "color": "#9C27B0",
                "thickness_factor": 1,
                "directed": true
              },
              {
                "id": 1152925902653358000,
                "start": 3,
                "end": 15,
                "properties": {
                  "label": "CHILD"
                },
                "label": "CHILD",
                "color": "#F44336",
                "thickness_factor": 1,
                "directed": true
              },
              {
                "id": 1152927002164985900,
                "start": 3,
                "end": 1,
                "properties": {
                  "label": "PREDECESSOR"
                },
                "label": "PREDECESSOR",
                "color": "#607D8B",
                "thickness_factor": 1,
                "directed": true
              },
              {
                "id": 1152923703630102500,
                "start": 4,
                "end": 1,
                "properties": {
                  "label": "PARENT"
                },
                "label": "PARENT",
                "color": "#4CAF50",
                "thickness_factor": 1,
                "directed": true
              },
              {
                "id": 1152988574816141300,
                "start": 7,
                "end": 142,
                "properties": {
                  "label": "OBTAINED"
                },
                "label": "OBTAINED",
                "color": "#673AB7",
                "thickness_factor": 1,
                "directed": true
              },
              {
                "id": 1152923703630102500,
                "start": 10,
                "end": 11,
                "properties": {
                  "label": "PARENT"
                },
                "label": "PARENT",
                "color": "#4CAF50",
                "thickness_factor": 1,
                "directed": true
              },
              {
                "id": 1152923703630102500,
                "start": 12,
                "end": 15,
                "properties": {
                  "label": "PARENT"
                },
                "label": "PARENT",
                "color": "#4CAF50",
                "thickness_factor": 1,
                "directed": true
              },
              {
                "id": 6917610391501537000,
                "start": 13,
                "end": 160,
                "properties": {
                  "label": "LED_CAMPAIGN_AGAINST"
                },
                "label": "LED_CAMPAIGN_AGAINST",
                "color": "#CDDC39",
                "thickness_factor": 1,
                "directed": true
              },
              {
                "id": 1153003967978930200,
                "start": 13,
                "end": 20,
                "properties": {
                  "label": "UNDER_MUGHAL_CONTROL_AFTER"
                },
                "label": "UNDER_MUGHAL_CONTROL_AFTER",
                "color": "#9E9E9E",
                "thickness_factor": 1,
                "directed": true
              },
              {
                "id": 1155255767792615400,
                "start": 13,
                "end": 155,
                "properties": {
                  "label": "UNDER_MUGHAL_CONTROL_AFTER"
                },
                "label": "UNDER_MUGHAL_CONTROL_AFTER",
                "color": "#9E9E9E",
                "thickness_factor": 1,
                "directed": true
              },
              {
                "id": 1157507567606300700,
                "start": 13,
                "end": 157,
                "properties": {
                  "label": "UNDER_MUGHAL_CONTROL_AFTER"
                },
                "label": "UNDER_MUGHAL_CONTROL_AFTER",
                "color": "#9E9E9E",
                "thickness_factor": 1,
                "directed": true
              },
              {
                "id": 1152936897769635800,
                "start": 17,
                "end": 22,
                "properties": {
                  "label": "ROUTE_DESTINATION"
                },
                "label": "ROUTE_DESTINATION",
                "color": "#9C27B0",
                "thickness_factor": 1,
                "directed": true
              },
              {
                "id": 1152933599234752500,
                "start": 18,
                "end": 24,
                "properties": {
                  "label": "BELONGING"
                },
                "label": "BELONGING",
                "color": "#2196F3",
                "thickness_factor": 1,
                "directed": true
              },
              {
                "id": 1152934698746380300,
                "start": 19,
                "end": 20,
                "properties": {
                  "label": "BATTLE_LOCATION"
                },
                "label": "BATTLE_LOCATION",
                "color": "#4CAF50",
                "thickness_factor": 1,
                "directed": true
              },
              {
                "id": 1152997370909163500,
                "start": 19,
                "end": 152,
                "properties": {
                  "label": "FUTILE_VICTORY_FOR"
                },
                "label": "FUTILE_VICTORY_FOR",
                "color": "#F44336",
                "thickness_factor": 1,
                "directed": true
              },
              {
                "id": 1153001768955674600,
                "start": 19,
                "end": 154,
                "properties": {
                  "label": "ENDED_CAMPAIGN_AT"
                },
                "label": "ENDED_CAMPAIGN_AT",
                "color": "#607D8B",
                "thickness_factor": 1,
                "directed": true
              },
              {
                "id": 1152935798258008000,
                "start": 20,
                "end": 21,
                "properties": {
                  "label": "NEARBY_LOCATION"
                },
                "label": "NEARBY_LOCATION",
                "color": "#673AB7",
                "thickness_factor": 1,
                "directed": true
              },
              {
                "id": 1152937997281263600,
                "start": 23,
                "end": 25,
                "properties": {
                  "label": "INVASION"
                },
                "label": "INVASION",
                "color": "#CDDC39",
                "thickness_factor": 1,
                "directed": true
              },
              {
                "id": 1152939096792891400,
                "start": 27,
                "end": 28,
                "properties": {
                  "label": "INVADER"
                },
                "label": "INVADER",
                "color": "#9E9E9E",
                "thickness_factor": 1,
                "directed": true
              },
              {
                "id": 6917607092966654000,
                "start": 28,
                "end": 20,
                "properties": {
                  "label": "SUCCESSFUL_ESCAPE_TO"
                },
                "label": "SUCCESSFUL_ESCAPE_TO",
                "color": "#9C27B0",
                "thickness_factor": 1,
                "directed": true
              },
              {
                "id": 1152940196304519200,
                "start": 30,
                "end": 31,
                "properties": {
                  "label": "SERVES"
                },
                "label": "SERVES",
                "color": "#2196F3",
                "thickness_factor": 1,
                "directed": true
              },
              {
                "id": 1152941295816147000,
                "start": 30,
                "end": 32,
                "properties": {
                  "label": "LOCATED_IN"
                },
                "label": "LOCATED_IN",
                "color": "#4CAF50",
                "thickness_factor": 1,
                "directed": true
              },
              {
                "id": 1155193095629832200,
                "start": 30,
                "end": 33,
                "properties": {
                  "label": "LOCATED_IN"
                },
                "label": "LOCATED_IN",
                "color": "#4CAF50",
                "thickness_factor": 1,
                "directed": true
              },
              {
                "id": 1152942395327774700,
                "start": 30,
                "end": 34,
                "properties": {
                  "label": "LOCATED_AT"
                },
                "label": "LOCATED_AT",
                "color": "#F44336",
                "thickness_factor": 1,
                "directed": true
              },
              {
                "id": 1152947892885913600,
                "start": 30,
                "end": 40,
                "properties": {
                  "label": "EQUIPPED_WITH"
                },
                "label": "EQUIPPED_WITH",
                "color": "#607D8B",
                "thickness_factor": 1,
                "directed": true
              },
              {
                "id": 1155199692699598800,
                "start": 30,
                "end": 41,
                "properties": {
                  "label": "EQUIPPED_WITH"
                },
                "label": "EQUIPPED_WITH",
                "color": "#607D8B",
                "thickness_factor": 1,
                "directed": true
              },
              {
                "id": 1157451492513284000,
                "start": 30,
                "end": 42,
                "properties": {
                  "label": "EQUIPPED_WITH"
                },
                "label": "EQUIPPED_WITH",
                "color": "#607D8B",
                "thickness_factor": 1,
                "directed": true
              },
              {
                "id": 1159703292326969300,
                "start": 30,
                "end": 43,
                "properties": {
                  "label": "EQUIPPED_WITH"
                },
                "label": "EQUIPPED_WITH",
                "color": "#607D8B",
                "thickness_factor": 1,
                "directed": true
              },
              {
                "id": 1152945693862658000,
                "start": 35,
                "end": 30,
                "properties": {
                  "label": "LANDED_AT"
                },
                "label": "LANDED_AT",
                "color": "#673AB7",
                "thickness_factor": 1,
                "directed": true
              },
              {
                "id": 1152946793374285800,
                "start": 36,
                "end": 30,
                "properties": {
                  "label": "PARKED_AT"
                },
                "label": "PARKED_AT",
                "color": "#CDDC39",
                "thickness_factor": 1,
                "directed": true
              }
            ],
            "_graph_layout": {},
            "_highlight": [],
            "_license": {},
            "_model_module": "yfiles-jupyter-graphs",
            "_model_module_version": "^1.7.2",
            "_model_name": "GraphModel",
            "_neighborhood": {},
            "_nodes": [
              {
                "id": 1,
                "properties": {
                  "id": "Pratap Singh",
                  "label": "Person:__Entity__"
                },
                "color": "#2196F3",
                "styles": {},
                "label": "Pratap Singh",
                "scale_factor": 1,
                "type": "#2196F3",
                "size": [
                  55,
                  55
                ],
                "position": [
                  0,
                  0
                ]
              },
              {
                "id": 2,
                "properties": {
                  "id": "Maharana Pratap",
                  "label": "Person:__Entity__"
                },
                "color": "#2196F3",
                "styles": {},
                "label": "Maharana Pratap",
                "scale_factor": 1,
                "type": "#2196F3",
                "size": [
                  55,
                  55
                ],
                "position": [
                  0,
                  0
                ]
              },
              {
                "id": 10,
                "properties": {
                  "id": "Ajabde Bai Punwar",
                  "label": "Person:__Entity__"
                },
                "color": "#2196F3",
                "styles": {},
                "label": "Ajabde Bai Punwar",
                "scale_factor": 1,
                "type": "#2196F3",
                "size": [
                  55,
                  55
                ],
                "position": [
                  0,
                  0
                ]
              },
              {
                "id": 13,
                "properties": {
                  "id": "Akbar",
                  "label": "Person:__Entity__"
                },
                "color": "#2196F3",
                "styles": {},
                "label": "Akbar",
                "scale_factor": 1,
                "type": "#2196F3",
                "size": [
                  55,
                  55
                ],
                "position": [
                  0,
                  0
                ]
              },
              {
                "id": 17,
                "properties": {
                  "id": "Mughal Emperor Akbar",
                  "label": "Person:__Entity__"
                },
                "color": "#2196F3",
                "styles": {},
                "label": "Mughal Emperor Akbar",
                "scale_factor": 1,
                "type": "#2196F3",
                "size": [
                  55,
                  55
                ],
                "position": [
                  0,
                  0
                ]
              },
              {
                "id": 18,
                "properties": {
                  "id": "Raja Man Singh I",
                  "label": "Person:__Entity__"
                },
                "color": "#2196F3",
                "styles": {},
                "label": "Raja Man Singh I",
                "scale_factor": 1,
                "type": "#2196F3",
                "size": [
                  55,
                  55
                ],
                "position": [
                  0,
                  0
                ]
              },
              {
                "id": 19,
                "properties": {
                  "id": "Haldighati",
                  "label": "Location:__Entity__"
                },
                "color": "#4CAF50",
                "styles": {},
                "label": "Haldighati",
                "scale_factor": 1,
                "type": "#4CAF50",
                "size": [
                  55,
                  55
                ],
                "position": [
                  0,
                  0
                ]
              },
              {
                "id": 30,
                "properties": {
                  "id": "Maharana Pratap Airport",
                  "label": "Airport:__Entity__"
                },
                "color": "#F44336",
                "styles": {},
                "label": "Maharana Pratap Airport",
                "scale_factor": 1,
                "type": "#F44336",
                "size": [
                  55,
                  55
                ],
                "position": [
                  0,
                  0
                ]
              },
              {
                "id": 23,
                "properties": {
                  "id": "Mewar",
                  "label": "Location:Region:__Entity__"
                },
                "color": "#607D8B",
                "styles": {},
                "label": "Mewar",
                "scale_factor": 1,
                "type": "#607D8B",
                "size": [
                  55,
                  55
                ],
                "position": [
                  0,
                  0
                ]
              },
              {
                "id": 45,
                "properties": {
                  "id": "Sharad Malhotra",
                  "label": "Person:__Entity__"
                },
                "color": "#2196F3",
                "styles": {},
                "label": "Sharad Malhotra",
                "scale_factor": 1,
                "type": "#2196F3",
                "size": [
                  55,
                  55
                ],
                "position": [
                  0,
                  0
                ]
              },
              {
                "id": 46,
                "properties": {
                  "id": "Rachana Parulkar",
                  "label": "Person:__Entity__"
                },
                "color": "#2196F3",
                "styles": {},
                "label": "Rachana Parulkar",
                "scale_factor": 1,
                "type": "#2196F3",
                "size": [
                  55,
                  55
                ],
                "position": [
                  0,
                  0
                ]
              },
              {
                "id": 47,
                "properties": {
                  "id": "Faisal Khan",
                  "label": "Person:__Entity__"
                },
                "color": "#2196F3",
                "styles": {},
                "label": "Faisal Khan",
                "scale_factor": 1,
                "type": "#2196F3",
                "size": [
                  55,
                  55
                ],
                "position": [
                  0,
                  0
                ]
              },
              {
                "id": 48,
                "properties": {
                  "id": "Roshni Walia",
                  "label": "Person:__Entity__"
                },
                "color": "#2196F3",
                "styles": {},
                "label": "Roshni Walia",
                "scale_factor": 1,
                "type": "#2196F3",
                "size": [
                  55,
                  55
                ],
                "position": [
                  0,
                  0
                ]
              },
              {
                "id": 143,
                "properties": {
                  "description": "Military career of Maharana Pratap",
                  "id": "Military Career",
                  "label": "Career"
                },
                "color": "#673AB7",
                "styles": {},
                "label": "Military Career",
                "scale_factor": 1,
                "type": "#673AB7",
                "size": [
                  55,
                  55
                ],
                "position": [
                  0,
                  0
                ]
              },
              {
                "id": 3,
                "properties": {
                  "id": "Udai Singh Ii",
                  "label": "Person:__Entity__"
                },
                "color": "#2196F3",
                "styles": {},
                "label": "Udai Singh Ii",
                "scale_factor": 1,
                "type": "#2196F3",
                "size": [
                  55,
                  55
                ],
                "position": [
                  0,
                  0
                ]
              },
              {
                "id": 5,
                "properties": {
                  "id": "Shakti Singh",
                  "label": "Person:__Entity__"
                },
                "color": "#2196F3",
                "styles": {},
                "label": "Shakti Singh",
                "scale_factor": 1,
                "type": "#2196F3",
                "size": [
                  55,
                  55
                ],
                "position": [
                  0,
                  0
                ]
              },
              {
                "id": 6,
                "properties": {
                  "id": "Vikram Singh",
                  "label": "Person:__Entity__"
                },
                "color": "#2196F3",
                "styles": {},
                "label": "Vikram Singh",
                "scale_factor": 1,
                "type": "#2196F3",
                "size": [
                  55,
                  55
                ],
                "position": [
                  0,
                  0
                ]
              },
              {
                "id": 7,
                "properties": {
                  "id": "Jagmal Singh",
                  "label": "Person:__Entity__"
                },
                "color": "#2196F3",
                "styles": {},
                "label": "Jagmal Singh",
                "scale_factor": 1,
                "type": "#2196F3",
                "size": [
                  55,
                  55
                ],
                "position": [
                  0,
                  0
                ]
              },
              {
                "id": 8,
                "properties": {
                  "id": "Chand Kanwar",
                  "label": "Person:__Entity__"
                },
                "color": "#2196F3",
                "styles": {},
                "label": "Chand Kanwar",
                "scale_factor": 1,
                "type": "#2196F3",
                "size": [
                  55,
                  55
                ],
                "position": [
                  0,
                  0
                ]
              },
              {
                "id": 9,
                "properties": {
                  "id": "Man Kanwar",
                  "label": "Person:__Entity__"
                },
                "color": "#2196F3",
                "styles": {},
                "label": "Man Kanwar",
                "scale_factor": 1,
                "type": "#2196F3",
                "size": [
                  55,
                  55
                ],
                "position": [
                  0,
                  0
                ]
              },
              {
                "id": 12,
                "properties": {
                  "id": "Rani Dheer Bai Bhatiyani",
                  "label": "Person:__Entity__"
                },
                "color": "#2196F3",
                "styles": {},
                "label": "Rani Dheer Bai Bhatiyani",
                "scale_factor": 1,
                "type": "#2196F3",
                "size": [
                  55,
                  55
                ],
                "position": [
                  0,
                  0
                ]
              },
              {
                "id": 15,
                "properties": {
                  "id": "Jagmal",
                  "label": "Person:__Entity__"
                },
                "color": "#2196F3",
                "styles": {},
                "label": "Jagmal",
                "scale_factor": 1,
                "type": "#2196F3",
                "size": [
                  55,
                  55
                ],
                "position": [
                  0,
                  0
                ]
              },
              {
                "id": 4,
                "properties": {
                  "id": "Jaiwanta Bai",
                  "label": "Person:__Entity__"
                },
                "color": "#2196F3",
                "styles": {},
                "label": "Jaiwanta Bai",
                "scale_factor": 1,
                "type": "#2196F3",
                "size": [
                  55,
                  55
                ],
                "position": [
                  0,
                  0
                ]
              },
              {
                "id": 142,
                "properties": {
                  "description": "Town obtained by Jagmal Singh",
                  "id": "Jahazpur",
                  "label": "Town"
                },
                "color": "#CDDC39",
                "styles": {},
                "label": "Jahazpur",
                "scale_factor": 1,
                "type": "#CDDC39",
                "size": [
                  55,
                  55
                ],
                "position": [
                  0,
                  0
                ]
              },
              {
                "id": 11,
                "properties": {
                  "id": "Amar Singh I",
                  "label": "Person:__Entity__"
                },
                "color": "#2196F3",
                "styles": {},
                "label": "Amar Singh I",
                "scale_factor": 1,
                "type": "#2196F3",
                "size": [
                  55,
                  55
                ],
                "position": [
                  0,
                  0
                ]
              },
              {
                "id": 160,
                "properties": {
                  "id": "Rana",
                  "label": "Person"
                },
                "color": "#9E9E9E",
                "styles": {},
                "label": "Rana",
                "scale_factor": 1,
                "type": "#9E9E9E",
                "size": [
                  55,
                  55
                ],
                "position": [
                  0,
                  0
                ]
              },
              {
                "id": 20,
                "properties": {
                  "id": "Gogunda",
                  "label": "Location:__Entity__"
                },
                "color": "#4CAF50",
                "styles": {},
                "label": "Gogunda",
                "scale_factor": 1,
                "type": "#4CAF50",
                "size": [
                  55,
                  55
                ],
                "position": [
                  0,
                  0
                ]
              },
              {
                "id": 155,
                "properties": {
                  "description": "not captured by the Mughals",
                  "id": "Udaipur",
                  "label": "Location"
                },
                "color": "#9C27B0",
                "styles": {},
                "label": "Udaipur",
                "scale_factor": 1,
                "type": "#9C27B0",
                "size": [
                  55,
                  55
                ],
                "position": [
                  0,
                  0
                ]
              },
              {
                "id": 157,
                "properties": {
                  "description": "under Mughal control",
                  "id": "Kumbhalgarh",
                  "label": "Location"
                },
                "color": "#9C27B0",
                "styles": {},
                "label": "Kumbhalgarh",
                "scale_factor": 1,
                "type": "#9C27B0",
                "size": [
                  55,
                  55
                ],
                "position": [
                  0,
                  0
                ]
              },
              {
                "id": 22,
                "properties": {
                  "id": "Gujarat",
                  "label": "Location:__Entity__"
                },
                "color": "#4CAF50",
                "styles": {},
                "label": "Gujarat",
                "scale_factor": 1,
                "type": "#4CAF50",
                "size": [
                  55,
                  55
                ],
                "position": [
                  0,
                  0
                ]
              },
              {
                "id": 24,
                "properties": {
                  "id": "Amer",
                  "label": "Location:__Entity__"
                },
                "color": "#4CAF50",
                "styles": {},
                "label": "Amer",
                "scale_factor": 1,
                "type": "#4CAF50",
                "size": [
                  55,
                  55
                ],
                "position": [
                  0,
                  0
                ]
              },
              {
                "id": 152,
                "properties": {
                  "description": "victorious",
                  "id": "Mughals",
                  "label": "Group"
                },
                "color": "#2196F3",
                "styles": {},
                "label": "Mughals",
                "scale_factor": 1,
                "type": "#2196F3",
                "size": [
                  55,
                  55
                ],
                "position": [
                  0,
                  0
                ]
              },
              {
                "id": 154,
                "properties": {
                  "description": "conquered Gogunda",
                  "id": "Man_Singh",
                  "label": "Person"
                },
                "color": "#9E9E9E",
                "styles": {},
                "label": "Man_Singh",
                "scale_factor": 1,
                "type": "#9E9E9E",
                "size": [
                  55,
                  55
                ],
                "position": [
                  0,
                  0
                ]
              },
              {
                "id": 21,
                "properties": {
                  "id": "Rajsamand",
                  "label": "Location:__Entity__"
                },
                "color": "#4CAF50",
                "styles": {},
                "label": "Rajsamand",
                "scale_factor": 1,
                "type": "#4CAF50",
                "size": [
                  55,
                  55
                ],
                "position": [
                  0,
                  0
                ]
              },
              {
                "id": 25,
                "properties": {
                  "id": "Shahbaz Khan Kamboh",
                  "label": "Person:__Entity__"
                },
                "color": "#2196F3",
                "styles": {},
                "label": "Shahbaz Khan Kamboh",
                "scale_factor": 1,
                "type": "#2196F3",
                "size": [
                  55,
                  55
                ],
                "position": [
                  0,
                  0
                ]
              },
              {
                "id": 27,
                "properties": {
                  "id": "Khan",
                  "label": "Person:__Entity__"
                },
                "color": "#2196F3",
                "styles": {},
                "label": "Khan",
                "scale_factor": 1,
                "type": "#2196F3",
                "size": [
                  55,
                  55
                ],
                "position": [
                  0,
                  0
                ]
              },
              {
                "id": 28,
                "properties": {
                  "id": "Pratap",
                  "label": "Person:__Entity__"
                },
                "color": "#2196F3",
                "styles": {},
                "label": "Pratap",
                "scale_factor": 1,
                "type": "#2196F3",
                "size": [
                  55,
                  55
                ],
                "position": [
                  0,
                  0
                ]
              },
              {
                "id": 31,
                "properties": {
                  "id": "Udaipur",
                  "label": "__Entity__:City"
                },
                "color": "#4CAF50",
                "styles": {},
                "label": "Udaipur",
                "scale_factor": 1,
                "type": "#4CAF50",
                "size": [
                  55,
                  55
                ],
                "position": [
                  0,
                  0
                ]
              },
              {
                "id": 32,
                "properties": {
                  "id": "Rajasthan",
                  "label": "State:__Entity__"
                },
                "color": "#F44336",
                "styles": {},
                "label": "Rajasthan",
                "scale_factor": 1,
                "type": "#F44336",
                "size": [
                  55,
                  55
                ],
                "position": [
                  0,
                  0
                ]
              },
              {
                "id": 33,
                "properties": {
                  "id": "India",
                  "label": "Country:__Entity__"
                },
                "color": "#607D8B",
                "styles": {},
                "label": "India",
                "scale_factor": 1,
                "type": "#607D8B",
                "size": [
                  55,
                  55
                ],
                "position": [
                  0,
                  0
                ]
              },
              {
                "id": 34,
                "properties": {
                  "id": "Dabok",
                  "label": "Location:__Entity__"
                },
                "color": "#4CAF50",
                "styles": {},
                "label": "Dabok",
                "scale_factor": 1,
                "type": "#4CAF50",
                "size": [
                  55,
                  55
                ],
                "position": [
                  0,
                  0
                ]
              },
              {
                "id": 40,
                "properties": {
                  "id": "Distance Measuring Equipment",
                  "label": "__Entity__:Navigation equipment"
                },
                "color": "#673AB7",
                "styles": {},
                "label": "Distance Measuring Equipment",
                "scale_factor": 1,
                "type": "#673AB7",
                "size": [
                  55,
                  55
                ],
                "position": [
                  0,
                  0
                ]
              },
              {
                "id": 41,
                "properties": {
                  "id": "Dvor",
                  "label": "__Entity__:Navigation equipment"
                },
                "color": "#673AB7",
                "styles": {},
                "label": "Dvor",
                "scale_factor": 1,
                "type": "#673AB7",
                "size": [
                  55,
                  55
                ],
                "position": [
                  0,
                  0
                ]
              },
              {
                "id": 42,
                "properties": {
                  "id": "Non-Directional Beacon",
                  "label": "__Entity__:Navigation equipment"
                },
                "color": "#673AB7",
                "styles": {},
                "label": "Non-Directional Beacon",
                "scale_factor": 1,
                "type": "#673AB7",
                "size": [
                  55,
                  55
                ],
                "position": [
                  0,
                  0
                ]
              },
              {
                "id": 43,
                "properties": {
                  "id": "Cat-I Instrument Landing System",
                  "label": "__Entity__:Navigation equipment"
                },
                "color": "#673AB7",
                "styles": {},
                "label": "Cat-I Instrument Landing System",
                "scale_factor": 1,
                "type": "#673AB7",
                "size": [
                  55,
                  55
                ],
                "position": [
                  0,
                  0
                ]
              },
              {
                "id": 35,
                "properties": {
                  "id": "Piper Super Cub",
                  "label": "Aircraft:__Entity__"
                },
                "color": "#CDDC39",
                "styles": {},
                "label": "Piper Super Cub",
                "scale_factor": 1,
                "type": "#CDDC39",
                "size": [
                  55,
                  55
                ],
                "position": [
                  0,
                  0
                ]
              },
              {
                "id": 36,
                "properties": {
                  "id": "Boeing 737",
                  "label": "Aircraft:__Entity__"
                },
                "color": "#CDDC39",
                "styles": {},
                "label": "Boeing 737",
                "scale_factor": 1,
                "type": "#CDDC39",
                "size": [
                  55,
                  55
                ],
                "position": [
                  0,
                  0
                ]
              }
            ],
            "_overview": {
              "enabled": null,
              "overview_set": false
            },
            "_selected_graph": [
              [],
              []
            ],
            "_sidebar": {
              "enabled": true,
              "start_with": ""
            },
            "_view_count": null,
            "_view_module": "yfiles-jupyter-graphs",
            "_view_module_version": "^1.7.2",
            "_view_name": "GraphView",
            "layout": "IPY_MODEL_48dcd0537f7e4972afca65ac9474b17f",
            "tabbable": null,
            "tooltip": null
          }
        },
        "48dcd0537f7e4972afca65ac9474b17f": {
          "model_module": "@jupyter-widgets/base",
          "model_name": "LayoutModel",
          "model_module_version": "2.0.0",
          "state": {
            "_model_module": "@jupyter-widgets/base",
            "_model_module_version": "2.0.0",
            "_model_name": "LayoutModel",
            "_view_count": null,
            "_view_module": "@jupyter-widgets/base",
            "_view_module_version": "2.0.0",
            "_view_name": "LayoutView",
            "align_content": null,
            "align_items": null,
            "align_self": null,
            "border_bottom": null,
            "border_left": null,
            "border_right": null,
            "border_top": null,
            "bottom": null,
            "display": null,
            "flex": null,
            "flex_flow": null,
            "grid_area": null,
            "grid_auto_columns": null,
            "grid_auto_flow": null,
            "grid_auto_rows": null,
            "grid_column": null,
            "grid_gap": null,
            "grid_row": null,
            "grid_template_areas": null,
            "grid_template_columns": null,
            "grid_template_rows": null,
            "height": "800px",
            "justify_content": null,
            "justify_items": null,
            "left": null,
            "margin": null,
            "max_height": null,
            "max_width": null,
            "min_height": null,
            "min_width": null,
            "object_fit": null,
            "object_position": null,
            "order": null,
            "overflow": null,
            "padding": null,
            "right": null,
            "top": null,
            "visibility": null,
            "width": "100%"
          }
        }
      }
    }
  },
  "cells": [
    {
      "cell_type": "markdown",
      "metadata": {
        "id": "view-in-github",
        "colab_type": "text"
      },
      "source": [
        "<a href=\"https://colab.research.google.com/github/paritosh-Shukla24/Neo_4j-RAG-with-Knowledge_Graph-/blob/main/RAG_with_Knowledge_Graph(Neo_4j).ipynb\" target=\"_parent\"><img src=\"https://colab.research.google.com/assets/colab-badge.svg\" alt=\"Open In Colab\"/></a>"
      ]
    },
    {
      "cell_type": "code",
      "execution_count": 2,
      "metadata": {
        "colab": {
          "base_uri": "https://localhost:8080/"
        },
        "id": "_LPVnB1G5Tya",
        "outputId": "a03e6a4b-8bd7-4e8f-c0ff-9855ca1ca861"
      },
      "outputs": [
        {
          "output_type": "stream",
          "name": "stdout",
          "text": [
            "Collecting langchain\n",
            "  Using cached langchain-0.2.6-py3-none-any.whl (975 kB)\n",
            "Collecting langchain-core\n",
            "  Using cached langchain_core-0.2.11-py3-none-any.whl (337 kB)\n",
            "Collecting langchain-community\n",
            "  Using cached langchain_community-0.2.6-py3-none-any.whl (2.2 MB)\n",
            "Collecting langchain-openai\n",
            "  Downloading langchain_openai-0.1.14-py3-none-any.whl (45 kB)\n",
            "\u001b[2K     \u001b[90m━━━━━━━━━━━━━━━━━━━━━━━━━━━━━━━━━━━━━━━━\u001b[0m \u001b[32m45.9/45.9 kB\u001b[0m \u001b[31m819.0 kB/s\u001b[0m eta \u001b[36m0:00:00\u001b[0m\n",
            "\u001b[?25hCollecting langchain-experimental\n",
            "  Downloading langchain_experimental-0.0.62-py3-none-any.whl (202 kB)\n",
            "\u001b[2K     \u001b[90m━━━━━━━━━━━━━━━━━━━━━━━━━━━━━━━━━━━━━━━━\u001b[0m \u001b[32m202.7/202.7 kB\u001b[0m \u001b[31m4.2 MB/s\u001b[0m eta \u001b[36m0:00:00\u001b[0m\n",
            "\u001b[?25hRequirement already satisfied: PyYAML>=5.3 in /usr/local/lib/python3.10/dist-packages (from langchain) (6.0.1)\n",
            "Requirement already satisfied: SQLAlchemy<3,>=1.4 in /usr/local/lib/python3.10/dist-packages (from langchain) (2.0.31)\n",
            "Requirement already satisfied: aiohttp<4.0.0,>=3.8.3 in /usr/local/lib/python3.10/dist-packages (from langchain) (3.9.5)\n",
            "Requirement already satisfied: async-timeout<5.0.0,>=4.0.0 in /usr/local/lib/python3.10/dist-packages (from langchain) (4.0.3)\n",
            "Collecting langchain-text-splitters<0.3.0,>=0.2.0 (from langchain)\n",
            "  Downloading langchain_text_splitters-0.2.2-py3-none-any.whl (25 kB)\n",
            "Collecting langsmith<0.2.0,>=0.1.17 (from langchain)\n",
            "  Downloading langsmith-0.1.83-py3-none-any.whl (127 kB)\n",
            "\u001b[2K     \u001b[90m━━━━━━━━━━━━━━━━━━━━━━━━━━━━━━━━━━━━━━━━\u001b[0m \u001b[32m127.5/127.5 kB\u001b[0m \u001b[31m5.2 MB/s\u001b[0m eta \u001b[36m0:00:00\u001b[0m\n",
            "\u001b[?25hRequirement already satisfied: numpy<2,>=1 in /usr/local/lib/python3.10/dist-packages (from langchain) (1.25.2)\n",
            "Requirement already satisfied: pydantic<3,>=1 in /usr/local/lib/python3.10/dist-packages (from langchain) (2.8.0)\n",
            "Requirement already satisfied: requests<3,>=2 in /usr/local/lib/python3.10/dist-packages (from langchain) (2.31.0)\n",
            "Requirement already satisfied: tenacity!=8.4.0,<9.0.0,>=8.1.0 in /usr/local/lib/python3.10/dist-packages (from langchain) (8.4.2)\n",
            "Collecting jsonpatch<2.0,>=1.33 (from langchain-core)\n",
            "  Downloading jsonpatch-1.33-py2.py3-none-any.whl (12 kB)\n",
            "Requirement already satisfied: packaging<25,>=23.2 in /usr/local/lib/python3.10/dist-packages (from langchain-core) (24.1)\n",
            "Collecting dataclasses-json<0.7,>=0.5.7 (from langchain-community)\n",
            "  Downloading dataclasses_json-0.6.7-py3-none-any.whl (28 kB)\n",
            "Collecting openai<2.0.0,>=1.32.0 (from langchain-openai)\n",
            "  Downloading openai-1.35.10-py3-none-any.whl (328 kB)\n",
            "\u001b[2K     \u001b[90m━━━━━━━━━━━━━━━━━━━━━━━━━━━━━━━━━━━━━━━━\u001b[0m \u001b[32m328.3/328.3 kB\u001b[0m \u001b[31m6.0 MB/s\u001b[0m eta \u001b[36m0:00:00\u001b[0m\n",
            "\u001b[?25hCollecting tiktoken<1,>=0.7 (from langchain-openai)\n",
            "  Downloading tiktoken-0.7.0-cp310-cp310-manylinux_2_17_x86_64.manylinux2014_x86_64.whl (1.1 MB)\n",
            "\u001b[2K     \u001b[90m━━━━━━━━━━━━━━━━━━━━━━━━━━━━━━━━━━━━━━━━\u001b[0m \u001b[32m1.1/1.1 MB\u001b[0m \u001b[31m8.6 MB/s\u001b[0m eta \u001b[36m0:00:00\u001b[0m\n",
            "\u001b[?25hRequirement already satisfied: aiosignal>=1.1.2 in /usr/local/lib/python3.10/dist-packages (from aiohttp<4.0.0,>=3.8.3->langchain) (1.3.1)\n",
            "Requirement already satisfied: attrs>=17.3.0 in /usr/local/lib/python3.10/dist-packages (from aiohttp<4.0.0,>=3.8.3->langchain) (23.2.0)\n",
            "Requirement already satisfied: frozenlist>=1.1.1 in /usr/local/lib/python3.10/dist-packages (from aiohttp<4.0.0,>=3.8.3->langchain) (1.4.1)\n",
            "Requirement already satisfied: multidict<7.0,>=4.5 in /usr/local/lib/python3.10/dist-packages (from aiohttp<4.0.0,>=3.8.3->langchain) (6.0.5)\n",
            "Requirement already satisfied: yarl<2.0,>=1.0 in /usr/local/lib/python3.10/dist-packages (from aiohttp<4.0.0,>=3.8.3->langchain) (1.9.4)\n",
            "Collecting marshmallow<4.0.0,>=3.18.0 (from dataclasses-json<0.7,>=0.5.7->langchain-community)\n",
            "  Downloading marshmallow-3.21.3-py3-none-any.whl (49 kB)\n",
            "\u001b[2K     \u001b[90m━━━━━━━━━━━━━━━━━━━━━━━━━━━━━━━━━━━━━━━━\u001b[0m \u001b[32m49.2/49.2 kB\u001b[0m \u001b[31m6.7 MB/s\u001b[0m eta \u001b[36m0:00:00\u001b[0m\n",
            "\u001b[?25hCollecting typing-inspect<1,>=0.4.0 (from dataclasses-json<0.7,>=0.5.7->langchain-community)\n",
            "  Downloading typing_inspect-0.9.0-py3-none-any.whl (8.8 kB)\n",
            "Collecting jsonpointer>=1.9 (from jsonpatch<2.0,>=1.33->langchain-core)\n",
            "  Downloading jsonpointer-3.0.0-py2.py3-none-any.whl (7.6 kB)\n",
            "Collecting orjson<4.0.0,>=3.9.14 (from langsmith<0.2.0,>=0.1.17->langchain)\n",
            "  Downloading orjson-3.10.6-cp310-cp310-manylinux_2_17_x86_64.manylinux2014_x86_64.whl (141 kB)\n",
            "\u001b[2K     \u001b[90m━━━━━━━━━━━━━━━━━━━━━━━━━━━━━━━━━━━━━━━━\u001b[0m \u001b[32m141.1/141.1 kB\u001b[0m \u001b[31m10.1 MB/s\u001b[0m eta \u001b[36m0:00:00\u001b[0m\n",
            "\u001b[?25hRequirement already satisfied: anyio<5,>=3.5.0 in /usr/local/lib/python3.10/dist-packages (from openai<2.0.0,>=1.32.0->langchain-openai) (3.7.1)\n",
            "Requirement already satisfied: distro<2,>=1.7.0 in /usr/lib/python3/dist-packages (from openai<2.0.0,>=1.32.0->langchain-openai) (1.7.0)\n",
            "Collecting httpx<1,>=0.23.0 (from openai<2.0.0,>=1.32.0->langchain-openai)\n",
            "  Downloading httpx-0.27.0-py3-none-any.whl (75 kB)\n",
            "\u001b[2K     \u001b[90m━━━━━━━━━━━━━━━━━━━━━━━━━━━━━━━━━━━━━━━━\u001b[0m \u001b[32m75.6/75.6 kB\u001b[0m \u001b[31m8.0 MB/s\u001b[0m eta \u001b[36m0:00:00\u001b[0m\n",
            "\u001b[?25hRequirement already satisfied: sniffio in /usr/local/lib/python3.10/dist-packages (from openai<2.0.0,>=1.32.0->langchain-openai) (1.3.1)\n",
            "Requirement already satisfied: tqdm>4 in /usr/local/lib/python3.10/dist-packages (from openai<2.0.0,>=1.32.0->langchain-openai) (4.66.4)\n",
            "Requirement already satisfied: typing-extensions<5,>=4.7 in /usr/local/lib/python3.10/dist-packages (from openai<2.0.0,>=1.32.0->langchain-openai) (4.12.2)\n",
            "Requirement already satisfied: annotated-types>=0.4.0 in /usr/local/lib/python3.10/dist-packages (from pydantic<3,>=1->langchain) (0.7.0)\n",
            "Requirement already satisfied: pydantic-core==2.20.0 in /usr/local/lib/python3.10/dist-packages (from pydantic<3,>=1->langchain) (2.20.0)\n",
            "Requirement already satisfied: charset-normalizer<4,>=2 in /usr/local/lib/python3.10/dist-packages (from requests<3,>=2->langchain) (3.3.2)\n",
            "Requirement already satisfied: idna<4,>=2.5 in /usr/local/lib/python3.10/dist-packages (from requests<3,>=2->langchain) (3.7)\n",
            "Requirement already satisfied: urllib3<3,>=1.21.1 in /usr/local/lib/python3.10/dist-packages (from requests<3,>=2->langchain) (2.0.7)\n",
            "Requirement already satisfied: certifi>=2017.4.17 in /usr/local/lib/python3.10/dist-packages (from requests<3,>=2->langchain) (2024.6.2)\n",
            "Requirement already satisfied: greenlet!=0.4.17 in /usr/local/lib/python3.10/dist-packages (from SQLAlchemy<3,>=1.4->langchain) (3.0.3)\n",
            "Requirement already satisfied: regex>=2022.1.18 in /usr/local/lib/python3.10/dist-packages (from tiktoken<1,>=0.7->langchain-openai) (2024.5.15)\n",
            "Requirement already satisfied: exceptiongroup in /usr/local/lib/python3.10/dist-packages (from anyio<5,>=3.5.0->openai<2.0.0,>=1.32.0->langchain-openai) (1.2.1)\n",
            "Collecting httpcore==1.* (from httpx<1,>=0.23.0->openai<2.0.0,>=1.32.0->langchain-openai)\n",
            "  Downloading httpcore-1.0.5-py3-none-any.whl (77 kB)\n",
            "\u001b[2K     \u001b[90m━━━━━━━━━━━━━━━━━━━━━━━━━━━━━━━━━━━━━━━━\u001b[0m \u001b[32m77.9/77.9 kB\u001b[0m \u001b[31m9.3 MB/s\u001b[0m eta \u001b[36m0:00:00\u001b[0m\n",
            "\u001b[?25hCollecting h11<0.15,>=0.13 (from httpcore==1.*->httpx<1,>=0.23.0->openai<2.0.0,>=1.32.0->langchain-openai)\n",
            "  Downloading h11-0.14.0-py3-none-any.whl (58 kB)\n",
            "\u001b[2K     \u001b[90m━━━━━━━━━━━━━━━━━━━━━━━━━━━━━━━━━━━━━━━━\u001b[0m \u001b[32m58.3/58.3 kB\u001b[0m \u001b[31m6.7 MB/s\u001b[0m eta \u001b[36m0:00:00\u001b[0m\n",
            "\u001b[?25hCollecting mypy-extensions>=0.3.0 (from typing-inspect<1,>=0.4.0->dataclasses-json<0.7,>=0.5.7->langchain-community)\n",
            "  Downloading mypy_extensions-1.0.0-py3-none-any.whl (4.7 kB)\n",
            "Installing collected packages: orjson, mypy-extensions, marshmallow, jsonpointer, h11, typing-inspect, tiktoken, jsonpatch, httpcore, langsmith, httpx, dataclasses-json, openai, langchain-core, langchain-text-splitters, langchain-openai, langchain, langchain-community, langchain-experimental\n",
            "Successfully installed dataclasses-json-0.6.7 h11-0.14.0 httpcore-1.0.5 httpx-0.27.0 jsonpatch-1.33 jsonpointer-3.0.0 langchain-0.2.6 langchain-community-0.2.6 langchain-core-0.2.11 langchain-experimental-0.0.62 langchain-openai-0.1.14 langchain-text-splitters-0.2.2 langsmith-0.1.83 marshmallow-3.21.3 mypy-extensions-1.0.0 openai-1.35.10 orjson-3.10.6 tiktoken-0.7.0 typing-inspect-0.9.0\n"
          ]
        }
      ],
      "source": [
        "!pip install langchain langchain-core langchain-community langchain-openai langchain-experimental"
      ]
    },
    {
      "cell_type": "markdown",
      "source": [
        " ![image.png](data:image/png;base64,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)\n",
        "\n"
      ],
      "metadata": {
        "id": "gRCpieEn5n_b"
      }
    },
    {
      "cell_type": "code",
      "source": [
        "from google.colab import userdata\n",
        "OPENAI_API_KEY=userdata.get('OPENAI_API_KEY')\n"
      ],
      "metadata": {
        "id": "VCozZs166DS1"
      },
      "execution_count": 4,
      "outputs": []
    },
    {
      "cell_type": "code",
      "source": [
        "from langchain_community.graphs import Neo4jGraph"
      ],
      "metadata": {
        "id": "zrmpsGuU9hnE"
      },
      "execution_count": 6,
      "outputs": []
    },
    {
      "cell_type": "code",
      "source": [
        "import os\n"
      ],
      "metadata": {
        "id": "0yNnkyjHAxF3"
      },
      "execution_count": 16,
      "outputs": []
    },
    {
      "cell_type": "code",
      "source": [
        "pip install tiktoken yfiles_jupyter_graphs"
      ],
      "metadata": {
        "colab": {
          "base_uri": "https://localhost:8080/"
        },
        "id": "1_tJo1AaCaHO",
        "outputId": "c67d2ffe-e28d-4653-b61d-30b8f6e89662"
      },
      "execution_count": 22,
      "outputs": [
        {
          "output_type": "stream",
          "name": "stdout",
          "text": [
            "Requirement already satisfied: tiktoken in /usr/local/lib/python3.10/dist-packages (0.7.0)\n",
            "Collecting yfiles_jupyter_graphs\n",
            "  Downloading yfiles_jupyter_graphs-1.7.2-py3-none-any.whl (15.5 MB)\n",
            "\u001b[2K     \u001b[90m━━━━━━━━━━━━━━━━━━━━━━━━━━━━━━━━━━━━━━━━\u001b[0m \u001b[32m15.5/15.5 MB\u001b[0m \u001b[31m40.7 MB/s\u001b[0m eta \u001b[36m0:00:00\u001b[0m\n",
            "\u001b[?25hRequirement already satisfied: regex>=2022.1.18 in /usr/local/lib/python3.10/dist-packages (from tiktoken) (2024.5.15)\n",
            "Requirement already satisfied: requests>=2.26.0 in /usr/local/lib/python3.10/dist-packages (from tiktoken) (2.31.0)\n",
            "Collecting ipywidgets>=8.0.0 (from yfiles_jupyter_graphs)\n",
            "  Downloading ipywidgets-8.1.3-py3-none-any.whl (139 kB)\n",
            "\u001b[2K     \u001b[90m━━━━━━━━━━━━━━━━━━━━━━━━━━━━━━━━━━━━━━━━\u001b[0m \u001b[32m139.4/139.4 kB\u001b[0m \u001b[31m10.8 MB/s\u001b[0m eta \u001b[36m0:00:00\u001b[0m\n",
            "\u001b[?25hCollecting comm>=0.1.3 (from ipywidgets>=8.0.0->yfiles_jupyter_graphs)\n",
            "  Downloading comm-0.2.2-py3-none-any.whl (7.2 kB)\n",
            "Requirement already satisfied: ipython>=6.1.0 in /usr/local/lib/python3.10/dist-packages (from ipywidgets>=8.0.0->yfiles_jupyter_graphs) (7.34.0)\n",
            "Requirement already satisfied: traitlets>=4.3.1 in /usr/local/lib/python3.10/dist-packages (from ipywidgets>=8.0.0->yfiles_jupyter_graphs) (5.7.1)\n",
            "Collecting widgetsnbextension~=4.0.11 (from ipywidgets>=8.0.0->yfiles_jupyter_graphs)\n",
            "  Downloading widgetsnbextension-4.0.11-py3-none-any.whl (2.3 MB)\n",
            "\u001b[2K     \u001b[90m━━━━━━━━━━━━━━━━━━━━━━━━━━━━━━━━━━━━━━━━\u001b[0m \u001b[32m2.3/2.3 MB\u001b[0m \u001b[31m41.2 MB/s\u001b[0m eta \u001b[36m0:00:00\u001b[0m\n",
            "\u001b[?25hRequirement already satisfied: jupyterlab-widgets~=3.0.11 in /usr/local/lib/python3.10/dist-packages (from ipywidgets>=8.0.0->yfiles_jupyter_graphs) (3.0.11)\n",
            "Requirement already satisfied: charset-normalizer<4,>=2 in /usr/local/lib/python3.10/dist-packages (from requests>=2.26.0->tiktoken) (3.3.2)\n",
            "Requirement already satisfied: idna<4,>=2.5 in /usr/local/lib/python3.10/dist-packages (from requests>=2.26.0->tiktoken) (3.7)\n",
            "Requirement already satisfied: urllib3<3,>=1.21.1 in /usr/local/lib/python3.10/dist-packages (from requests>=2.26.0->tiktoken) (2.0.7)\n",
            "Requirement already satisfied: certifi>=2017.4.17 in /usr/local/lib/python3.10/dist-packages (from requests>=2.26.0->tiktoken) (2024.6.2)\n",
            "Requirement already satisfied: setuptools>=18.5 in /usr/local/lib/python3.10/dist-packages (from ipython>=6.1.0->ipywidgets>=8.0.0->yfiles_jupyter_graphs) (67.7.2)\n",
            "Collecting jedi>=0.16 (from ipython>=6.1.0->ipywidgets>=8.0.0->yfiles_jupyter_graphs)\n",
            "  Downloading jedi-0.19.1-py2.py3-none-any.whl (1.6 MB)\n",
            "\u001b[2K     \u001b[90m━━━━━━━━━━━━━━━━━━━━━━━━━━━━━━━━━━━━━━━━\u001b[0m \u001b[32m1.6/1.6 MB\u001b[0m \u001b[31m63.0 MB/s\u001b[0m eta \u001b[36m0:00:00\u001b[0m\n",
            "\u001b[?25hRequirement already satisfied: decorator in /usr/local/lib/python3.10/dist-packages (from ipython>=6.1.0->ipywidgets>=8.0.0->yfiles_jupyter_graphs) (4.4.2)\n",
            "Requirement already satisfied: pickleshare in /usr/local/lib/python3.10/dist-packages (from ipython>=6.1.0->ipywidgets>=8.0.0->yfiles_jupyter_graphs) (0.7.5)\n",
            "Requirement already satisfied: prompt-toolkit!=3.0.0,!=3.0.1,<3.1.0,>=2.0.0 in /usr/local/lib/python3.10/dist-packages (from ipython>=6.1.0->ipywidgets>=8.0.0->yfiles_jupyter_graphs) (3.0.47)\n",
            "Requirement already satisfied: pygments in /usr/local/lib/python3.10/dist-packages (from ipython>=6.1.0->ipywidgets>=8.0.0->yfiles_jupyter_graphs) (2.16.1)\n",
            "Requirement already satisfied: backcall in /usr/local/lib/python3.10/dist-packages (from ipython>=6.1.0->ipywidgets>=8.0.0->yfiles_jupyter_graphs) (0.2.0)\n",
            "Requirement already satisfied: matplotlib-inline in /usr/local/lib/python3.10/dist-packages (from ipython>=6.1.0->ipywidgets>=8.0.0->yfiles_jupyter_graphs) (0.1.7)\n",
            "Requirement already satisfied: pexpect>4.3 in /usr/local/lib/python3.10/dist-packages (from ipython>=6.1.0->ipywidgets>=8.0.0->yfiles_jupyter_graphs) (4.9.0)\n",
            "Requirement already satisfied: parso<0.9.0,>=0.8.3 in /usr/local/lib/python3.10/dist-packages (from jedi>=0.16->ipython>=6.1.0->ipywidgets>=8.0.0->yfiles_jupyter_graphs) (0.8.4)\n",
            "Requirement already satisfied: ptyprocess>=0.5 in /usr/local/lib/python3.10/dist-packages (from pexpect>4.3->ipython>=6.1.0->ipywidgets>=8.0.0->yfiles_jupyter_graphs) (0.7.0)\n",
            "Requirement already satisfied: wcwidth in /usr/local/lib/python3.10/dist-packages (from prompt-toolkit!=3.0.0,!=3.0.1,<3.1.0,>=2.0.0->ipython>=6.1.0->ipywidgets>=8.0.0->yfiles_jupyter_graphs) (0.2.13)\n",
            "Installing collected packages: widgetsnbextension, jedi, comm, ipywidgets, yfiles_jupyter_graphs\n",
            "  Attempting uninstall: widgetsnbextension\n",
            "    Found existing installation: widgetsnbextension 3.6.6\n",
            "    Uninstalling widgetsnbextension-3.6.6:\n",
            "      Successfully uninstalled widgetsnbextension-3.6.6\n",
            "  Attempting uninstall: ipywidgets\n",
            "    Found existing installation: ipywidgets 7.7.1\n",
            "    Uninstalling ipywidgets-7.7.1:\n",
            "      Successfully uninstalled ipywidgets-7.7.1\n",
            "Successfully installed comm-0.2.2 ipywidgets-8.1.3 jedi-0.19.1 widgetsnbextension-4.0.11 yfiles_jupyter_graphs-1.7.2\n"
          ]
        }
      ]
    },
    {
      "cell_type": "markdown",
      "source": [],
      "metadata": {
        "id": "Upw9wkCcAwzb"
      }
    },
    {
      "cell_type": "code",
      "source": [
        "pip install neo4j"
      ],
      "metadata": {
        "colab": {
          "base_uri": "https://localhost:8080/"
        },
        "id": "1QDrlMhM-BTr",
        "outputId": "6a86985c-e759-4bad-b27b-b80b6905b324"
      },
      "execution_count": 8,
      "outputs": [
        {
          "output_type": "stream",
          "name": "stdout",
          "text": [
            "Collecting neo4j\n",
            "  Downloading neo4j-5.22.0-py3-none-any.whl (293 kB)\n",
            "\u001b[2K     \u001b[90m━━━━━━━━━━━━━━━━━━━━━━━━━━━━━━━━━━━━━━━━\u001b[0m \u001b[32m293.5/293.5 kB\u001b[0m \u001b[31m5.8 MB/s\u001b[0m eta \u001b[36m0:00:00\u001b[0m\n",
            "\u001b[?25hRequirement already satisfied: pytz in /usr/local/lib/python3.10/dist-packages (from neo4j) (2023.4)\n",
            "Installing collected packages: neo4j\n",
            "Successfully installed neo4j-5.22.0\n"
          ]
        }
      ]
    },
    {
      "cell_type": "code",
      "source": [
        "NEO4J_URI=\"neo4j+s://2ac84557.databases.neo4j.io\"\n",
        "NEO4J_USERNAME=\"neo4j\"\n",
        "NEO4J_PASSWORD=\"zeozKJP7J2HDm54yC1LC-NLxmWa6VkaYg0YdB8CH_mM\"\n",
        "AURA_INSTANCEID=\"2ac84557\"\n",
        "AURA_INSTANCENAME=\"Instance01\""
      ],
      "metadata": {
        "id": "At5L5wCa_30l"
      },
      "execution_count": 14,
      "outputs": []
    },
    {
      "cell_type": "code",
      "source": [
        "os.environ[\"OPENAI_API_KEY\"] = OPENAI_API_KEY\n",
        "os.environ[\"NEO4J_URI\"] = NEO4J_URI\n",
        "os.environ[\"NEO4J_USERNAME\"] = NEO4J_USERNAME\n",
        "os.environ[\"NEO4J_PASSWORD\"] = NEO4J_PASSWORD"
      ],
      "metadata": {
        "id": "1FGhr4gZA2FX"
      },
      "execution_count": 17,
      "outputs": []
    },
    {
      "cell_type": "code",
      "source": [
        "graph=Neo4jGraph()"
      ],
      "metadata": {
        "id": "kxe8kcoh9wpq"
      },
      "execution_count": 18,
      "outputs": []
    },
    {
      "cell_type": "code",
      "source": [
        "%pip install --upgrade --quiet  wikipedia"
      ],
      "metadata": {
        "colab": {
          "base_uri": "https://localhost:8080/"
        },
        "id": "7aloZvcY_iYm",
        "outputId": "b1c0812d-28a2-4072-d506-e1f351b94b60"
      },
      "execution_count": 11,
      "outputs": [
        {
          "output_type": "stream",
          "name": "stdout",
          "text": [
            "  Preparing metadata (setup.py) ... \u001b[?25l\u001b[?25hdone\n",
            "  Building wheel for wikipedia (setup.py) ... \u001b[?25l\u001b[?25hdone\n"
          ]
        }
      ]
    },
    {
      "cell_type": "code",
      "source": [
        "from langchain.document_loaders import WikipediaLoader\n",
        "raw_documents=WikipediaLoader(query=\"Maharana Pratap\").load()"
      ],
      "metadata": {
        "id": "VQHRJC_P93_9"
      },
      "execution_count": 20,
      "outputs": []
    },
    {
      "cell_type": "code",
      "source": [
        "raw_documents"
      ],
      "metadata": {
        "colab": {
          "base_uri": "https://localhost:8080/"
        },
        "id": "M6iKOoog_nwE",
        "outputId": "7456cf6a-7da4-4578-fb71-4505cd692f5a"
      },
      "execution_count": 21,
      "outputs": [
        {
          "output_type": "execute_result",
          "data": {
            "text/plain": [
              "[Document(metadata={'title': 'Maharana Pratap', 'summary': 'Pratap Singh I (c. 9 May 1540 – 19 January 1597), popularly known as Maharana Pratap (IPA: [məɦaːˈɾaːɳaː pɾəˈtaːp] ), was a king of Kingdom of Mewar, in north-western India in the present-day state of Rajasthan. He is notable for leading the Rajput resistance against the expansionist policy of the Mughal Emperor Akbar including the Battle of Haldighati.', 'source': 'https://en.wikipedia.org/wiki/Maharana_Pratap'}, page_content=\"Pratap Singh I (c. 9 May 1540 – 19 January 1597), popularly known as Maharana Pratap (IPA: [məɦaːˈɾaːɳaː pɾəˈtaːp] ), was a king of Kingdom of Mewar, in north-western India in the present-day state of Rajasthan. He is notable for leading the Rajput resistance against the expansionist policy of the Mughal Emperor Akbar including the Battle of Haldighati.\\n\\n\\n== Early life and accession ==\\nMaharana Pratap was born to Udai Singh II of Mewar and Jaiwanta Bai in 1540, the year in which Udai Singh ascended to the throne after defeating Vanvir Singh. His younger brothers were Shakti Singh, Vikram Singh and Jagmal Singh. Pratap also had two stepsisters: Chand Kanwar and Man Kanwar. His chief consort was Ajabde Bai Punwar of Bijolia. Their eldest son was Amar Singh I. He belonged to the royal family of Mewar. After the death of Udai Singh in 1572, Rani Dheer Bai Bhatiyani wanted her son Jagmal to succeed him but senior courtiers preferred Pratap, as the eldest son, to be their king. The desire of the nobles prevailed and Pratap ascended the throne as Maharana Pratap, the 54th ruler of Mewar in the line of the Sisodia Rajputs. He was crowned in Gogunda on the auspicious day of Holi. Jagmal swore revenge and left for Ajmer, to join the armies of Akbar, and obtained the town of Jahazpur as a Jagir as a gift in return for his help.\\n\\n\\n== Military career ==\\n\\n\\n=== Background ===\\nPratap Singh, gained distinction for his refusal to form any political alliance with the Mughal Empire and his resistance to Mughal domination. The conflicts between Pratap Singh and Akbar led to the Battle of Haldighati.\\n\\n\\n=== Battle of Haldighati ===\\n\\nThe Siege of Chittorgarh in 1567-1568 had led to the loss of the fertile eastern belt of Mewar to the Mughals. However, the rest of the wooded and hilly kingdom in the Aravalli range was still under the control of Maharana Pratap. Mughal Emperor Akbar was intent on securing a stable route to Gujarat through Mewar; when Pratap Singh was crowned king (Maharana) in 1572, Akbar sent a number of envoys, including one by Raja Man Singh I of Amer, entreating him to become a vassal like many other rulers in Rajputana. When Pratap refused to personally submit to Akbar and several attempts to diplomatically settle the issue failed, war became inevitable.\\nThe forces of Pratap Singh and Mughal and Rajput general Man Singh met on 18 June 1576 beyond a narrow mountain pass at Haldighati near Gogunda, modern day Rajsamand in Rajasthan. This came to be known as the Battle of Haldighati. Pratap Singh fielded a force of around 3000 cavalry and 400 Bhil archers. Man Singh commanded an army numbering around 10,000 men.  After a fierce battle lasting more than three hours, Pratap found himself wounded and the day lost. He managed to retreat to the hills and lived to fight another day. The Mughals were victorious and inflicted significant casualties among the forces of Mewar but failed to capture Maharana Pratap.\\nHaldighati was a futile victory for the Mughals, as they were unable to kill or capture Pratap, or any of his close family members in Udaipur. While the sources also claim that Pratap was able to make a successful escape, Man Singh managed to conquer Gogunda within a week after Haldighati then ended his campaign. Subsequently, Akbar himself led a sustained campaign against the Rana in September 1576, and soon, Gogunda, Udaipur, and Kumbhalgarh were all under Mughal control.\\n\\n\\n=== Post-Haldighati Mughal invasions ===\\n\\nShahbaz Khan Kamboh led multiple invasions that resulted in the subjugation of key areas in Mewar, such as Kumbhalgarh, Mandalgarh, Gogunda, and Central Mewar, bringing them permanently under Mughal rule. The Mughal Empire established its supremacy in Mewar after Shahbaz Khan's invasions. This ultimately led to a significant weakening of Pratap's power, forcing him to retreat to his hilly abode.\\n\\n\\n== Patronage of art ==\\nMaharana Pratap's court at Chavand had given shelter to many poets, artists, writers and artisans. The\"),\n",
              " Document(metadata={'title': 'Maharana Pratap Airport', 'summary': \"Maharana Pratap Airport (IATA: UDR, ICAO: VAUD) is a domestic airport serving Udaipur, Rajasthan, India. It is situated at Dabok, located 22 km (14 mi) east of Udaipur. The airport is named after Maharana Pratap who was a Maharana (ruler) of the princely state of Mewar, in north-western India.\\nThe airstrip was used for the first time when a 4-seater Piper Super Cub landed in the airport on 16 November 1957. The airport's new passenger terminal commenced operations in February 2008.\", 'source': 'https://en.wikipedia.org/wiki/Maharana_Pratap_Airport'}, page_content=\"Maharana Pratap Airport (IATA: UDR, ICAO: VAUD) is a domestic airport serving Udaipur, Rajasthan, India. It is situated at Dabok, located 22 km (14 mi) east of Udaipur. The airport is named after Maharana Pratap who was a Maharana (ruler) of the princely state of Mewar, in north-western India.\\nThe airstrip was used for the first time when a 4-seater Piper Super Cub landed in the airport on 16 November 1957. The airport's new passenger terminal commenced operations in February 2008.\\n\\n\\n== Structure ==\\n\\nThe airport is spread over 504 acres. It has one 2,743 metre long runway. Its 250 by 150-metre apron provides parking space for five Boeing 737 and Airbus A320 type aircraft at a time. A new apron is also constructed on the left side of the existing apron for executive and private aircraft. The new terminal building, measuring 12,000 sq.m., was constructed at a cost of ₹80 crore. The terminal has two aerobridges, 4 check-in counters and can handle 600 passengers during peak hours. The airport is equipped with modern navigational and landing aids like Distance Measuring Equipment (DME), DVOR, and Non-Directional Beacon (NDB) and is equipped with a CAT-I Instrument Landing System (ILS).\\n\\n\\n== Airlines and destinations ==\\n\\n\\n== Statistics ==\\n\\n\\n== See also ==\\nAirports in India\\nUdaipur\\nUdaipur City Bus Depot\\nUdaipur City railway station\\n\\n\\n== References ==\\n\\n\\n== External links ==\\n Media related to Maharana Pratap Airport at Wikimedia Commons\\n\\nMaharana Pratap Airport at Airports Authority of India\"),\n",
              " Document(metadata={'title': 'Bharat Ka Veer Putra – Maharana Pratap', 'summary': 'Bharat Ka Veer Putra – Maharana Pratap (transl.\\u2009 Brave Son of India – Maharana Pratap) is an Indian historical fiction series produced by Contiloe Entertainment. It is based on the life of Maharana Pratap, a sixteenth century ruler of Mewar kingdom. It starred Sharad Malhotra, Rachana Parulkar, Faisal Khan and Roshni Walia.\\nThe series premiered on 27 May 2013. Amitabh Bachchan narrated the introductory part of the series in first episode tracing the background of Mewar family and their resistance to Foreign Invasions.\\nThe series received positive reviews and won numerous awards and nominations. The final episode of the series aired on 10 December 2015.', 'source': 'https://en.wikipedia.org/wiki/Bharat_Ka_Veer_Putra_%E2%80%93_Maharana_Pratap'}, page_content=\"Bharat Ka Veer Putra – Maharana Pratap (transl.\\u2009 Brave Son of India – Maharana Pratap) is an Indian historical fiction series produced by Contiloe Entertainment. It is based on the life of Maharana Pratap, a sixteenth century ruler of Mewar kingdom. It starred Sharad Malhotra, Rachana Parulkar, Faisal Khan and Roshni Walia.\\nThe series premiered on 27 May 2013. Amitabh Bachchan narrated the introductory part of the series in first episode tracing the background of Mewar family and their resistance to Foreign Invasions.\\nThe series received positive reviews and won numerous awards and nominations. The final episode of the series aired on 10 December 2015.\\n\\n\\n== Cast ==\\n\\n\\n=== Main ===\\nSharad Malhotra as Maharana Pratap - Udai Singh and Jaiwanta Bai's son; Ajabde Punwar and Phool Bai's husband; Amar Singh's father\\nFaisal Khan as young Maharana Pratap\\nRachana Parulkar as Maharani Ajabde Punwar - Rao Mamrakh Punwar and Hansa Bai's daughter; Pratap's first wife and chief consort; Amar Singh's mother\\nRoshni Walia as young Ajabde Punwar\\nKrip Suri/Avinesh Rekhi as Jalal-ud-din Muhammad Akbar - Mughal emperor; Ruqaiya Sultan, Salima Sultan and Harka Bai's husband\\nSahil Deshmukh Khan / Arish Bhiwandiwala / Vishal Jethwa as young Akbar\\nShakti Anand as Maharana Udai Singh II - Jaiwanta Bai, Dheer Bai, Sajja Bai and Veer Bai's husband; Pratap, Shakti, Vikram, Jagmal, Chand and Maan's father\\nRajshree Thakur as Maharani Jaiwanta Bai Songara - Udai Singh's first wife and chief consort; Pratap's mother; Amar Singh's grandmother\\nHeena Parmar as Rani Phool Bai Rathore - Ramchandra Rathore's daughter; Pratap's fifth wife; Amar Singh's step-mother\\nJannat Zubair Rahmani as young Phool Bai Rathore\\nAashka Goradia as Rani Dheer Bai Bhatiyani - Udai Singh's third and favourite wife; Jagmal, Chand and Maan's mother\\nJineet Rath  as Maharana Amar Singh I - Pratap and Ajabde's son; Udai Singh and Jaivanta Bai's grandson; 14th Maharana of Mewar\\n\\n\\n=== Recurring ===\\nKhuram Khan as Jagmal Singh - Udai Singh and Dheer Bai's son; Pratap's step-brother\\nDivyaalakshmi as Rani Sajja Bai Solankini - Uday Singh's second wife; Shakti Singh and Vikramdev's mother; Pratap's Step mother\\nVineet Kumar as Shakti Singh - Udai Singh and Sajjabai's son; Vikramdev's brother; Pratap's step-brother\\nDhruv Sangwan as Young Shakti Singh\\nSarika Dhillon as Rani Veer Bai Jhala - Udai Singh's fourth wife; Pratap's step-mother\\nTriyug Mantri as Pandit Chakrapani Mishra - Pratap's childhood friend and his Darbari-Pandit in the court; Saubhagyavati's husband\\nYash Karia as young Pandit Chakrapani Mishra\\nYash Mistry as Vikramdev Singh - Udai Singh and Sajjabai's son; Shakti's brother; Pratap's step-brother\\nVaishali Takkar / Vinita Mahesh as Rajkumari Maan Kanwar - Udai Singh and Dheer Bai's daughter; Pratap's step-sister\\nDeeksha K Sonalkar as Rajkumari Chaand Kanwar - Udai Singh and Dheer Bai's daughter; Pratap's step-sister\\nTunisha Sharma as young Chaand Kanwar\\nBakul Thakkar as Rao Mamrakh Punwar - Governor of Bijolia; Rani Hansa Bai's husband; Maharani Ajabde's father\\nAnjali Rana as Rani Hansa Bai - Rao Mamrakh Punwar's wife; Maharani Ajabde's mother\\nRajeev Bharadwaj as Rawat Sai Das Chundawat - Udai Singh and Mewar's chief, Governor of Salumber\\nShaize Kazmi as Rawat Krishna Das Chundawat - Udai Singh and Mewar's chief, Nephew of Rawat Sai Das Chundawat, Governor of Salumber\\nAnkur Nayyar as Acharya Raghvendra; Mewar's Guru\\nNirbhay Wadhwa as Hakim Khan Sur - Pratap's army commander  in Battle of Haldighati\\nRushiraj Pawar as Patta Chundawat - Ajabde's sworn brother; Mewar's army commander, governor of Kelwa\\nAnand Goradia as Rao Surtan Singh - Governor of Bundi\\nVed Thapar  as Jaimal Rathore - Mewar's army commander\\nTasha Kapoor as Harka Bai / Heer Bai - Princess of Amer. Akbar's wife and third empress consort\\nFalaq Naaz as Ruqaiya Sultan Begum - Princess of Munghal empire. Akbar's cousin and first wife and chief consort.\\nRiya Deepsi as Salima Sultan Begum - Princess of Mughal Empire. Akbar's cousin\"),\n",
              " Document(metadata={'title': 'Maharana Pratap Sagar', 'summary': 'Maharana Pratap Sagar, also known as Pong Reservoir or Pong Dam Lake is a large reservoir in Fatehpur, Jawali and Dehra tehsil of Kangra district of the state of Himachal Pradesh in India. It was created in 1975, by building the highest earthfill dam in India on the Beas River in the wetland zone of the Siwalik Hills. Named in the honour of Maharana Pratap (1540–1597), the reservoir or the lake is a well-known wildlife sanctuary and one of the 49 international wetland sites declared in India by the Ramsar Convention.\\nThe reservoir covers an area of 24,529 hectares (60,610 acres), and the wetlands portion is 15,662 hectares (38,700 acres).\\nThe Pong Reservoir and Gobindsagar Reservoir are the two most important fishing reservoirs in the Himalayan foothills of Himachal Pradesh. These reservoirs are the leading sources of fish within the Himalayan states. Several towns and villages were submerged in the reservoir and many families were displaced as a result.', 'source': 'https://en.wikipedia.org/wiki/Maharana_Pratap_Sagar'}, page_content='Maharana Pratap Sagar, also known as Pong Reservoir or Pong Dam Lake is a large reservoir in Fatehpur, Jawali and Dehra tehsil of Kangra district of the state of Himachal Pradesh in India. It was created in 1975, by building the highest earthfill dam in India on the Beas River in the wetland zone of the Siwalik Hills. Named in the honour of Maharana Pratap (1540–1597), the reservoir or the lake is a well-known wildlife sanctuary and one of the 49 international wetland sites declared in India by the Ramsar Convention.\\nThe reservoir covers an area of 24,529 hectares (60,610 acres), and the wetlands portion is 15,662 hectares (38,700 acres).\\nThe Pong Reservoir and Gobindsagar Reservoir are the two most important fishing reservoirs in the Himalayan foothills of Himachal Pradesh. These reservoirs are the leading sources of fish within the Himalayan states. Several towns and villages were submerged in the reservoir and many families were displaced as a result.\\n\\n\\n== Location ==\\nThe closest railway stations to the project are Mukerian, at 30 km (18.6 mi), and Pathankot, at 32 km (19.9 mi). Nagrota Surian and Jawali, located on the periphery of the reservoir, are connected by a narrow gauge railway line, on the Kangra railway line, which connects Pathankot to Jogindernagar.\\nThe reservoir is connected by a good network of roads to major cities in Himachal Pradesh and Punjab.\\nDistance from the main cities\\n\\nDistance from Shimla – 233.2 km (144.9 mi)\\nDistance from Chandigarh – 272.9 km (169.5 mi)\\nDistance from Amritsar – 110 km (68.4 mi)\\nDistance from Dharamsala – 55 km (34.2 mi)\\nDistance from Kangra – 50 km (31.1 mi)\\nDistance from Chintapurni – 18 km (11.3 mi)\\nDistance from Jwalamukhi  – 12 km (7.45 mi)\\n\\nApart from the airports at Chandigrah and Amritsar which are far off, the closest airport to the reservoir is Pathankot and Gaggal.\\nMaharana Pratap Lake to Bharmar Distance 12 km.\\n\\n\\n== Topography ==\\nThe reservoir is bounded by the rugged Dhauladhar mountain range, the low foothills of the Himalaya on the northern edge of the Indo-Gangetic plains, and the mountain streams cutting through valleys.\\n\\n\\n== Hydrology and engineering features ==\\n\\n\\n=== Hydrology ===\\nThe Beas River, on which the Pong Dam is located, is one of the five major rivers of the Indus basin. The river flows from the Beas Kund near Rohtang Pass, in the upper Himalayas, and traverses generally in a north–south direction until Largi, from where it turns sharply at nearly a right angle and flows in a westerly direction up to the Pong Dam. The river traverses a total length of about 116 km (72 mi) from the source to the Pong Dam.\\nThe reservoir drains a catchment area of 12,561 km2 (4,850 sq mi), out of which the permanent snow catchment is 780 km2 (301 sq mi). Monsoon rainfall between July and September is a major source of water supply into the reservoir, apart from snow and glacier melt. The project area experiences hot summers, with maximum temperature of 40 °C (104 °F), with hot and humid climate. Winters are fairly cold and mostly dry. The dam acts as a sponge for flood flows, and reservoir regulation prevents the inundation of surrounding upland areas from routine flooding during the monsoon season.\\nThe reservoir stretch is 42 km long (26 mi) with a maximum width of 19 km (11.8 mi), and with a mean depth of 35.7 m (117 ft). While the surface water temperature varies between 22.2–25.1 °C (72.0–77.2 °F), the incoming river water has a temperature range of 6–26 °C (42.8–78.8 °F).\\n\\n\\n=== Engineering features ===\\nSubsequent to the partition of India, the waters of the Indus river system were allocated river wise, with certain stipulations, as per the Indus Water Treaty (1960), between India and Pakistan. India got exclusive use of the three eastern rivers (the Ravi, the Beas and the Satluj) and Pakistan got the exclusive use of the three western rivers (the Indus, the Jhelum and the Chenab). Following this treaty, India prepared a master plan to utilize the waters of 3 rivers w'),\n",
              " Document(metadata={'title': 'Kingdom of Mewar', 'summary': \"The Kingdom of Mewar, also called Medapata, was an independent kingdom that existed in the Rajputana region of the Indian Subcontinent and later became a dominant state in medieval India. The kingdom was initially founded and ruled by the Guhila dynasty followed by the Sisodiya Dynasty. The earliest kingdom was centered around the south-central part of Rajasthan, state of India. It was bordered by the Aravali Range to the northwest, Ajmer to the north, Gujarat, Vagad and Malwa regions to the south and the Hadoti region to the east.\\nMewar first gained prominence in the reign of Bappa Rawal (7th century A.D) who along with many powers of that time defeated the Arab powers trying to occupy the Indian Subcontinent. Later, the kingdom became a vassal to Imperial Pratihars then to the Parmara Dynasty and Chauhans. The Kingdom transformed into an independent state in the early 10th century A.D. and was continuously engaged in many wars against the neighboring polities. From the reign of Rawal Jaitra, Mewar was also facing the continuous expansion of the Delhi Sultanate. However, this came to an end, When in 1303 Delhi Sultanate's forces under Sultan Alauddin Khalji, besieged and occupied Chittorgarh, killing the most of the branch of the Guhila dynasty.\\nLater, Maharana Hammir, a scion of the cadet Sisodiya dynasty (junior branch of Guhilas) re-occupied Mewar in 1326  However, a firm hold was established when an invading army of the Delhi Sultanate was repulsed at the Battle of Singoli (1336). In the coming years, the kingdom became the most powerful state in the Northern India most notably under Maharana Kumbha and his grandson Maharana Sanga. At its peak, it controlled parts of Sindh, Haryana, Rajasthan, Gujarat, Madhya Pradesh, and Uttar Pradesh. Mewar achieved this by gaining a streak of success against its neighboring Hindu Kingdoms and Islamic Sultanates, particularly in Mewar- Malwa Conflict and Mewar-Delhi Conflicts. The kingdom declined after the Battle of Khanwa with the Mughals. Despite this, it continued to resist Mughal Expansion under Maharana Udai Singh II and Maharana Pratap. Maharana Pratap decisively defeated the Mughals in Battle of Dewair (1582) compelling the surrender of 36,000 Mughal soldiers. Following this great triumph, he conquered most of Mewar in his later reign. After Pratap's death, a constant struggle ensued between Mughals and Pratap's son Rana Amar Singh I which eventually led to a peace treaty through which Mewar became a vassal to the Mughals. Even during this brief period of vassalization, Rana Raj Singh I and his successors revolted and led numerous successful campaigns including the Rathore revolt and Rajput - Mughal war of 1708-1710 against the Mughal empire, ultimately resulting in a victory for Mewar along with its independence. The kingdom afterward came under the Maratha influence and started paying Chauth. The kingdom accepted British suzerainty in 1818 and it continued till 1947, after which Bhupal Singh signed the Instrument of Accession to India and joined the Union of India.\\nMewar's legacy lies in its prolonged struggle against the Islamic invasion. The kingdom is witness to three Jauhars (Self-Immolation). It is also known for producing kings of high caliber such as Bappa Rawal, Khuman II, Rawal Jaitra, Maharana Hammir, Maharana Kumbha, Maharana Sanga, Maharana Pratap, Maharana Amar Singh, Maharana Raj Singh and Maharana Fateh Singh along with queens such as Padmavati and Karnavati and scholars such as Mirabai. Shivaji, the great Maratha also claimed to be descended from the Sisodiya clan.The Kingdom of Mewar, although a Hindu state, patronized Jainism and Buddhism. Among the Mewar's, Rajasthan Heritage Sites are Kumbhalgarh, Acchalgarh, Chittorgarh, Nagda-Ahar, Ranakpur Temple, Pichola Lake, Rajsamand Lake, Jaisamand Lake, Lake Palace, Sahasra Bahu Temples, Kirti Stambha and, most notably the Vijay Stambha (described variously as the jewel of Rajput art in India), which is also compared to Roman and Islamic architecture of Trajan's Column and Qutub Minar. Udaipur, also known as the city of lakes and one of the largest cities of the North India was also founded by the Rana of Mewar, Udai Singh II.\", 'source': 'https://en.wikipedia.org/wiki/Kingdom_of_Mewar'}, page_content=\"The Kingdom of Mewar, also called Medapata, was an independent kingdom that existed in the Rajputana region of the Indian Subcontinent and later became a dominant state in medieval India. The kingdom was initially founded and ruled by the Guhila dynasty followed by the Sisodiya Dynasty. The earliest kingdom was centered around the south-central part of Rajasthan, state of India. It was bordered by the Aravali Range to the northwest, Ajmer to the north, Gujarat, Vagad and Malwa regions to the south and the Hadoti region to the east.\\nMewar first gained prominence in the reign of Bappa Rawal (7th century A.D) who along with many powers of that time defeated the Arab powers trying to occupy the Indian Subcontinent. Later, the kingdom became a vassal to Imperial Pratihars then to the Parmara Dynasty and Chauhans. The Kingdom transformed into an independent state in the early 10th century A.D. and was continuously engaged in many wars against the neighboring polities. From the reign of Rawal Jaitra, Mewar was also facing the continuous expansion of the Delhi Sultanate. However, this came to an end, When in 1303 Delhi Sultanate's forces under Sultan Alauddin Khalji, besieged and occupied Chittorgarh, killing the most of the branch of the Guhila dynasty.\\nLater, Maharana Hammir, a scion of the cadet Sisodiya dynasty (junior branch of Guhilas) re-occupied Mewar in 1326  However, a firm hold was established when an invading army of the Delhi Sultanate was repulsed at the Battle of Singoli (1336). In the coming years, the kingdom became the most powerful state in the Northern India most notably under Maharana Kumbha and his grandson Maharana Sanga. At its peak, it controlled parts of Sindh, Haryana, Rajasthan, Gujarat, Madhya Pradesh, and Uttar Pradesh. Mewar achieved this by gaining a streak of success against its neighboring Hindu Kingdoms and Islamic Sultanates, particularly in Mewar- Malwa Conflict and Mewar-Delhi Conflicts. The kingdom declined after the Battle of Khanwa with the Mughals. Despite this, it continued to resist Mughal Expansion under Maharana Udai Singh II and Maharana Pratap. Maharana Pratap decisively defeated the Mughals in Battle of Dewair (1582) compelling the surrender of 36,000 Mughal soldiers. Following this great triumph, he conquered most of Mewar in his later reign. After Pratap's death, a constant struggle ensued between Mughals and Pratap's son Rana Amar Singh I which eventually led to a peace treaty through which Mewar became a vassal to the Mughals. Even during this brief period of vassalization, Rana Raj Singh I and his successors revolted and led numerous successful campaigns including the Rathore revolt and Rajput - Mughal war of 1708-1710 against the Mughal empire, ultimately resulting in a victory for Mewar along with its independence. The kingdom afterward came under the Maratha influence and started paying Chauth. The kingdom accepted British suzerainty in 1818 and it continued till 1947, after which Bhupal Singh signed the Instrument of Accession to India and joined the Union of India.\\nMewar's legacy lies in its prolonged struggle against the Islamic invasion. The kingdom is witness to three Jauhars (Self-Immolation). It is also known for producing kings of high caliber such as Bappa Rawal, Khuman II, Rawal Jaitra, Maharana Hammir, Maharana Kumbha, Maharana Sanga, Maharana Pratap, Maharana Amar Singh, Maharana Raj Singh and Maharana Fateh Singh along with queens such as Padmavati and Karnavati and scholars such as Mirabai. Shivaji, the great Maratha also claimed to be descended from the Sisodiya clan.The Kingdom of Mewar, although a Hindu state, patronized Jainism and Buddhism. Among the Mewar's, Rajasthan Heritage Sites are Kumbhalgarh, Acchalgarh, Chittorgarh, Nagda-Ahar, Ranakpur Temple, Pichola Lake, Rajsamand Lake, Jaisamand Lake, Lake Palace, Sahasra Bahu Temples, Kirti Stambha and, most notably the Vijay Stambha (described variously as the jewel of Rajput art in India), which is also compar\"),\n",
              " Document(metadata={'title': 'Maharana Pratap Inter State Bus Terminus', 'summary': 'The Maharana Pratap Interstate Bus Terminus (Maharana Pratap ISBT), popularly known as Kashmere Gate Interstate Bus Terminus (Kashmere Gate ISBT), located in Delhi, is the oldest and one of the biggest Inter-State Bus Terminals in India. It operates bus services between Delhi and the neighbouring states and union territories of Haryana, Jammu and Kashmir, Ladakh, Punjab, Himachal Pradesh, Uttar Pradesh, Rajasthan and Uttarakhand. Spanning about 5.3 acres, it handles over 1,800 buses a day.', 'source': 'https://en.wikipedia.org/wiki/Maharana_Pratap_Inter_State_Bus_Terminus'}, page_content='The Maharana Pratap Interstate Bus Terminus (Maharana Pratap ISBT), popularly known as Kashmere Gate Interstate Bus Terminus (Kashmere Gate ISBT), located in Delhi, is the oldest and one of the biggest Inter-State Bus Terminals in India. It operates bus services between Delhi and the neighbouring states and union territories of Haryana, Jammu and Kashmir, Ladakh, Punjab, Himachal Pradesh, Uttar Pradesh, Rajasthan and Uttarakhand. Spanning about 5.3 acres, it handles over 1,800 buses a day.\\n\\n\\n== History ==\\nMaharana Pratap ISBT was opened in 1976. It served as the only ISBT in Delhi till 1993 when it was transferred to the Transport Department, after which two new ISBTs were created in Sarai Kale Khan and Anand Vihar to de-congest the overcrowded Maharana Pratap ISBT. It was renovated in 2011-2012 by DIMTS at a cost of ₹ 70 crores, and inaugurated in 2013 by then Chief Minister of Delhi, Sheila Dikshit.\\n\\n\\n== Services ==\\nThe terminus has 45 departure bus bays, eight idle bus bays and 13 arrival bus bays, all catering to interstate buses or buses to other ISBTs in Delhi. Local buses for other parts of the capital are being operated from the mini bus stand which is known as DTC Block.\\n\\n\\n== Facilities ==\\nThe departure block, waiting area and food court are centrally air-conditioned. Reverse osmosis plants have been installed to supply clean drinking water to the passengers. A high-speed, secured Wi-Fi zone allows passengers to remain connected. To keep the building environmentally friendly a sewage treatment plant has been installed with the capacity of 1000 cubic meters per day. The sewage water is treated and recycled to be used in the air-conditioning plant and for the purpose of horticulture and flushing toilets. A new parking management system has also been developed which is capable of storing data of buses entering and exiting the premises. High-resolution CCTV cameras have also been installed for surveillance.\\n\\n\\n== See also ==\\n\\n\\n== References ==\\n\\n\\n== External links ==\\n\\nGoogle. \"Kashmere Gate ISBT\" (Map). Google Maps. Google.'),\n",
              " Document(metadata={'title': 'Sharad Malhotra', 'summary': 'Sharad Malhotra (born 9 January 1983) is an Indian actor, who primarily works in Hindi television and Hindi films. He made his acting debut in 2004 with the role of Prince Goldy in Princess Dollie Aur Uska Magic Bag. His first major role was the lead role of Sagarpratap Singh in Banoo Main Teri Dulhann.\\nSharad had his breakthrough with the role of Maharana Pratap Singh in Bharat Ka Veer Putra – Maharana Pratap and is noted for his portrayal of Rishi Singh Bedi in Kasam Tere Pyaar Ki and Veeranshu Singhania in Naagin 5.\\nHe made his film debut in 2012 with From Sydney with Love.', 'source': 'https://en.wikipedia.org/wiki/Sharad_Malhotra'}, page_content=\"Sharad Malhotra (born 9 January 1983) is an Indian actor, who primarily works in Hindi television and Hindi films. He made his acting debut in 2004 with the role of Prince Goldy in Princess Dollie Aur Uska Magic Bag. His first major role was the lead role of Sagarpratap Singh in Banoo Main Teri Dulhann.\\nSharad had his breakthrough with the role of Maharana Pratap Singh in Bharat Ka Veer Putra – Maharana Pratap and is noted for his portrayal of Rishi Singh Bedi in Kasam Tere Pyaar Ki and Veeranshu Singhania in Naagin 5.\\nHe made his film debut in 2012 with From Sydney with Love.\\n\\n\\n== Early life ==\\nSharad Malhotra was born on 9 January 1983 in Mumbai, Maharashtra and was brought up in Kolkata, he did his B.Com from St. Xavier's College. In 2003, he won Face Of The Year in Kolkata from where his journey started.\\nBesides modeling and acting, Sharad is also enthusiastic about kickboxing, horse riding, and swimming.\\n\\n\\n== Personal life ==\\nHe dated actress Divyanka Tripathi for seven years before they broke up in 2015.\\nHe then dated actress Pooja Bisht, for almost two years but they broke up in 2018.\\nHe married Ripci Bhatia on 20 April 2019.\\n\\n\\n== Career ==\\n\\n\\n=== 2004–2013: Debut and early career ===\\nMalhotra attending acting workshop and did modelling after he came to Mumbai. He was the first male model to do a jewellery campaign. Malhotra started his career with India's Best Cinestars Ki Khoj as a Contestant in 2004. He then made his acting debut in the same year as Prince Goldy in Princess Dollie Aur Uska Magic Bag and had a cameo in Kabhie To Nazar Milao.\\nHe had his first major role in 2006 with Banoo Main Teri Dulhan where he played the lead role of Sagar opposite Divyanka Tripathi and was later seen as Amar Upadhyay also. The show was successful. The show ended in mid-2009. In 2008, he was also a part of a dance reality show named Yeh hai Jalwa, which had various popular television celebrities, including Ronit Roy, Shweta Tiwari and Rakhi Sawant.\\nPost Banu main Teri Dulhan, he took a break from his TV career and went on to attend New York Film Academy in the year 2009. In 2010, he appeared as a contestant on Nachle Ve with Saroj Khan. In 2012, He made his film debut with the role of Rohit Khurana in From Sydney with Love.\\n\\n\\n=== 2014–2020: Breakthrough and success ===\\n\\nSharad returned to acting in 2014 and had his breakthrough with the role of Maharana Pratap in Sony TV's Bharat Ka Veer Putra – Maharana Pratap opposite Rachana Parulkar. The show ended in 2015, it was successful and received praises, also winning awards. He later participated in Box Cricket League and was the Captain of Kolkata Baabu Moshayes in season 2.\\nIn 2016, Malhotra played the lead role of Rishi in the show Kasam Tere Pyaar Ki. He also played the role of Ranbir Kapoor on the same show. It was also broadcast in the UK due to its popularity.\\nMalhotra also appeared in two Hindi films in 2016, My Father Godfather playing Prakash and Ek Tera Saath playing Kuwar Aditya Pratap Singh. In 2017, he appeared in his first music video Paas Baitho Na.\\nHe also appeared as a guest on Comedy Nights Bachao. He next portrayed Raunak Singh in Star Bharat's Muskaan from 2018-2020.\\n\\n\\n=== 2021–present: Acclaim and further career ===\\n\\nIn August 2020, he joined the cast of Naagin 5, portraying the prince of shape-shifting cheels named Veeranshu Singhania.Malhotra played the role as the Grey Shaded hero.\\nIn March 2021, his music video Bepanah Pyar with Vyrl Originals was released, followed by Beypanah Ishq in August 2021. In the same year he appeared with Helly Shah in a peppy song Halo Re Halo and with Adaa Khan in a romantic song Door Ho Gaya.\\n\\nIn October 2021, he started portraying the role of Bakshi Jagabandhu in StarPlus's historical drama Vidrohi. It was his second historic character. The show went off-air after 5 month in March 2022. In February 2022, he appeared in a short film Not Out along with Karan Wahi, where they both played the role of two best friends.\\n\\n\\n== In the medi\"),\n",
              " Document(metadata={'title': 'Battle of Haldighati', 'summary': 'The battle of Haldighati was fought on 18 June 1576 between the Mewar forces led by Maharana Pratap, and the Mughal forces led by Man Singh I of Amber. The Mughals carried the day after inflicting significant casualties on Mewar forces, although they failed to capture Pratap, who reluctantly retreated persuaded by his fellow commanders.\\nThe siege of Chittorgarh in 1568 had led to the loss of the fertile eastern belt of Mewar to the Mughals. However, the rest of the wooded and hilly kingdom was still under the control of the Sisodias. Akbar was intent on securing a stable route to Gujarat through Mewar; when Pratap Singh was crowned king (Rana) in 1572, Akbar sent a number of envoys entreating the Rana to become a vassal like many other Rajput leaders in the region. However, Pratap refused to enter into a treaty, which led to the battle.\\nThe site of the battle was a narrow mountain pass at Haldighati near Gogunda in Rajasthan. Sources differ on the strength of the respective armies but probably the Mughals outnumbered the Mewar forces by a factor of four to one. Despite initial successes by the Mewaris, the tide slowly turned against them and Pratap found himself wounded and the day lost. A few of his men under Jhala Man Singh covered his retreat in a rearguard action. The Mewar troops were not chased in their retreat by Man Singh for which he was banished from the Mughal court for some time by Akbar.\\nDespite the reverse at Haldighati, Pratap continued his resistance against the Mughals through guerrilla warfare, and by the time of his death had  regained much of his ancestral kingdom.\\n\\n', 'source': 'https://en.wikipedia.org/wiki/Battle_of_Haldighati'}, page_content='The battle of Haldighati was fought on 18 June 1576 between the Mewar forces led by Maharana Pratap, and the Mughal forces led by Man Singh I of Amber. The Mughals carried the day after inflicting significant casualties on Mewar forces, although they failed to capture Pratap, who reluctantly retreated persuaded by his fellow commanders.\\nThe siege of Chittorgarh in 1568 had led to the loss of the fertile eastern belt of Mewar to the Mughals. However, the rest of the wooded and hilly kingdom was still under the control of the Sisodias. Akbar was intent on securing a stable route to Gujarat through Mewar; when Pratap Singh was crowned king (Rana) in 1572, Akbar sent a number of envoys entreating the Rana to become a vassal like many other Rajput leaders in the region. However, Pratap refused to enter into a treaty, which led to the battle.\\nThe site of the battle was a narrow mountain pass at Haldighati near Gogunda in Rajasthan. Sources differ on the strength of the respective armies but probably the Mughals outnumbered the Mewar forces by a factor of four to one. Despite initial successes by the Mewaris, the tide slowly turned against them and Pratap found himself wounded and the day lost. A few of his men under Jhala Man Singh covered his retreat in a rearguard action. The Mewar troops were not chased in their retreat by Man Singh for which he was banished from the Mughal court for some time by Akbar.\\nDespite the reverse at Haldighati, Pratap continued his resistance against the Mughals through guerrilla warfare, and by the time of his death had  regained much of his ancestral kingdom.\\n\\n\\n== Background ==\\nAfter his accession to the throne, Akbar had steadily settled his relationship with most of the Rajput states, with the exception of Mewar, acknowledged as the leading state in Rajasthan. The Rana of Mewar, who was also the head of the distinguished Sisodia clan, had refused to submit to the Mughal. This had led to the siege of Chittorgarh in 1568, during the reign of Udai Singh II, ending with the loss of a sizeable area of fertile territory in the eastern half of Mewar to the Mughals. When Rana Pratap succeeded his father on the throne of Mewar, Akbar dispatched a series of diplomatic embassies to him, entreating the Rajput king to become his vassal. Besides his desire to resolve this longstanding issue, Akbar wanted the woody and hilly terrain of Mewar under his control to secure lines of communication with Gujarat.\\nThe first emissary was Jalal Khan Qurchi, a favoured servant of Akbar, who was unsuccessful in his mission. Next, Akbar sent Man Singh of Amber (later, Jaipur), a fellow Rajput of the Kachhwa clan, whose fortunes had soared under the Mughals. But he too failed to convince Pratap. Raja Bhagwant Das was Akbar\\'s third choice who too failed to prompt Pratap in a treaty. According to the Abul Fazl version, Pratap was swayed sufficiently to don a robe presented by Akbar and sent his young son, Amar Singh, to the Mughal court. However, this account of Abu-Fazal is a exaggeration as it is not corroborated even by the contemporary Persian chronicles, this account is not mentioned by Abd al-Qadir Badayuni and Nizamuddin Ahmad in their works. Further, In Tuzk-e-Jahangiri, Jahangir, stated that eldest son of Mewar king never visited the Mughal court prior to the treaty concluded in 1615 CE.\\nA final emissary, Todar Mal, was sent to Mewar without any favourable outcome. With diplomacy having failed, war was inevitable.\\n\\n\\n== Prelude ==\\nRana Pratap, who had been secure in the rock-fortress of Kumbhalgarh, set up his base in the town of Gogunda near Udaipur. Akbar deputed the Kachhwa, Man Singh, to battle with his clan\\'s hereditary adversaries, the Sisodias of Mewar. Man Singh set up his base at Mandalgarh, where he mobilised his army and set out for Gogunda. Around 14 miles (23 km) north of Gogunda lay the village of Khamnor, separated from Gogunda by a spur of the Aravalli Range called \"Haldighati\" for its rocks which, when cru'),\n",
              " Document(metadata={'title': 'Udai Singh II', 'summary': 'Udai Singh II (4 August 1522 – 28 February 1572) was the 12th Maharana of the Kingdom of Mewar and the founder of the city of Udaipur in the present-day state of Rajasthan, India. He was the fourth son of Rana Sanga and Rani Karnavati, a princess of Bundi.', 'source': 'https://en.wikipedia.org/wiki/Udai_Singh_II'}, page_content=\"Udai Singh II (4 August 1522 – 28 February 1572) was the 12th Maharana of the Kingdom of Mewar and the founder of the city of Udaipur in the present-day state of Rajasthan, India. He was the fourth son of Rana Sanga and Rani Karnavati, a princess of Bundi.\\n\\n\\n== Early life ==\\nUdai Singh was born in Chittor in August 1522. After the death of his father, Rana Sanga, Ratan Singh II was crowned King. Ratan Singh II was assassinated in 1531. He was succeeded by his brother Maharana Vikramaditya Singh. During the reign of Vikramaditya, when the Muzaffarid Sultan of Gujarat Bahadur Shah sacked Chittor in 1535, Udai Singh was sent to Bundi for safety. In 1537, Banvir killed Vikramaditya and usurped the throne. He tried to kill Udai Singh as well, but Udai's nurse Panna Dai sacrificed her own son Chandan to save him from his uncle Banvir and took him to Kumbhalgarh. He lived secretly in Kumbhalgarh for two years, disguised as a nephew of the governor Asha Shah Depura (Maheshwari Majahan).\\n\\n\\n== Personal life ==\\nUdai Singh had 24 sons. His first wife, Maharani Jaivanta Bai Songara, a Chauhan princess of Jalore, gave birth to his eldest son, Maharana Pratap. His second wife, Sajja Bai Solankini, a daughter of Rao Prithvi Singh Solanki of Toda, gave birth to his sons Shakti Singh and Vikram Dev Singh. Dheer Bai Bhattiyani, a princess of Jaisalmer, daughter of Rawal Lunkaran Bhatti and sister of Umade Bhattiyani, was his favourite wife and was the mother of his sons, Jagmal Singh, Kunwar Agar Singh and Kunwar Pachyad Singh. Dheerbai also bore him two daughters. Rani Veer Bai Jhala was the mother of Kunwar Sagar Singh and Kunwar Rai Singh. \\n\\n\\n== Reign ==\\n\\nIn 1540, he was crowned in Kumbhalgarh by the nobles of Mewar. His eldest son Maharana Pratap from his first wife, Maharani Jaivantabai Songara (daughter of Akheiraj Songara of Jalore), was born in the same year.\\nIn 1544 Sher Shah Suri invaded Marwar after defeating Maldev at Sammel. Udai Singh had just dealt with the civil war in Mewar and did not have the resources to fight the Sur Empire, he thus surrendered Chittor to Sher Shah Suri on the terms that Sher Shah does not harm the people of Mewar. Sher Shah also accepted the terms as he knew that the siege would be long and costly.\\nUdai Singh and his council felt that Chittor was too vulnerable and thus planned to shift Mewar's capital to a safer location. In 1559 work started in the Girwa portion of Mewar and in the same year a man-made lake was made to promote cultivation. The lake was completed in 1562 and the new capital soon came to be known as Udaipur.\\nIn 1557, Udai was defeated by Maldev Rathore at the Battle of Harmada and lost Merta to him.\\nIn 1562, Udai gave refuge to Baz Bahadur, the last ruler of the Malwa Sultanate, whose kingdom had been annexed by Akbar into the Mughal Empire. \\nIn September 1567, his son Shakti Singh came to him from Dhaulpur and told him of Akbar's plan to capture Chittor. According to Kaviraj Shyamaldas, Udai Singh called a council of war. The nobles advised him to take refuge along with the princes in the hills, leaving a garrison at Chittor. On 23 October 1567 Akbar formed his camp near Chittor. Udai Singh retired to Gogunda (which later became his temporary capital) leaving Chittor in the hands of his loyal chieftains Rao Jaimal and Patta. Akbar captured Chittor after a four-month-long siege on 23 February 1568; the siege culminated in a brutal sacking of the city, leaving Chittor's garrison and 25-40,000 civilians dead. With Chittor lost to the Mughals, Udai would later shift his capital to Udaipur. \\nHe died in 1572 in Gogunda. After his death, Jagmal tried to seize the throne but the nobles of Mewar prevented Jagmal from succeeding and placed Maharana Pratap Singh on the throne on 1 March 1572.\\n\\n\\n== In popular culture ==\\nIn the 2008 romance drama film Jodhaa Akbar, a partly fictionalised version of Udai Singh II is portrayed by actor Surendra Pal.\\nIn the 2013 television serial, Bharat Ka Veer Putra – M\"),\n",
              " Document(metadata={'title': 'Shakti Singh (16th century Indian noble)', 'summary': 'Shakti Singh Sisodia Mewar was the son of Maharana Udai Singh II Sisodia and Rani Sajja Bai Solanki. He was a Kshatriya Rajput and was younger brother of famous Maharana Pratap, He was also the eponymous founder of the Shaktawat clan of Sisodia Rajputs.', 'source': 'https://en.wikipedia.org/wiki/Shakti_Singh_(16th_century_Indian_noble)'}, page_content=\"Shakti Singh Sisodia Mewar was the son of Maharana Udai Singh II Sisodia and Rani Sajja Bai Solanki. He was a Kshatriya Rajput and was younger brother of famous Maharana Pratap, He was also the eponymous founder of the Shaktawat clan of Sisodia Rajputs.\\n\\n\\n== Early life ==\\nHe was the second son of Maharana Udai Singh II of Mewar born from his second wife Sajja Bai Solanki. He was born just months later after his elder brother Maharana Pratap. He had hostile relations with his father. Some sources say he was expelled from Mewar by his father.\\n\\n\\n== Meeting with Akbar ==\\nWhen Mughal Emperor Akbar was marching towards Chittor to capture it, he invited Shakti Singh for meeting at Dhaulpur, he accepted the proposal and they met on 31 August 1567 but when Akbar explained his plan to capture Chittaurgarh and offered him throne of Mewar against his own family in a hope that people of Mewar will not resist akbar if Shakti Singh will be crowned. Shakti Singh left the meeting in anger without Akbar's permission and at midnight he ran away from Dhaulpur where Shakti was encamped to inform his father about Akbar's plan to capture Chittor to save Chittor fort, this angered Akbar resulting immediate change of Akbar's plan to attack Malwa and he marched his army towards Chittaurgarh .  Only because of Shakti Singh his father was able to make preparations for Mughal attack. However, Chittor was sacked in Siege of Chittorgarh (1567–1568)\\n\\n\\n== Later life ==\\nHis father died at Gogunda on 28 February 1572 and his elder brother Maharana Pratap was crowned as the Rana of Mewar on 1 March 1572 by nobles of Mewar. Some sources say he was again expelled this time by his brother due to mistaken death of Raj Purohit Narayanandas by Shakti. He went into the service of Dungarpur Rawal Askaran between 1572-1576, there he killed any noble named Jagmal due to his hot temper. He then went to Mughal service however there are no records of him fighting in any war for Mughals. In 1576 the Battle of Haldighati, he returned to his brother Maharana Pratap's side giving his own horse after the famous Chetak collapsed near Banas River to Maharana Pratap to retreat in the hills. He also killed Khurasan Khan and Multan Khan who were chasing Pratap.\\n\\n\\n== After Pratap ==\\nHe died in 1594.\\nLater under the rule of Maharana Amar Singh I (son of maharana pratap) Shakti Singhji ruled from Bhainsrorgarh, later on Shakti Singh's 11 out of 17 sons were martyred fighting against Mughal invaders for their motherland Mewar. Rawat Achaldas of Kannauj(Mewar) and later Baansi, was the leader of Mewar Forces during his times. Battle of Untala is a famous incident of self sacrifice for Maharan's cause in these tough times for Mewar.\\nThis couplet is very famous among Mewari people which praises Shakti -\\nशक्ता थारी शक्ति नु हरि जाने ना कोई, \\nशुरा थारी हुँकार सु महाकाल निकट ना आए  \\nHis descendants are known as the Shaktawats.\\n\\n\\n== Portrayal in adaptions ==\\nIn Indian historical  serial Bharat Ka Veer Putra - Maharana Pratap, adult Shakti Singh is portrayed by Vineet Kumar.\\n\\n\\n== References ==\"),\n",
              " Document(metadata={'title': 'Amar Singh I', 'summary': 'Maharana Amar Singh I, the Maharana ruler of Mewar Kingdom (March 16, 1559 – January 26, 1620), was the eldest son and successor of Maharana Pratap I. He was the 14th Rana of Mewar, ruling from January 19, 1597 till his death on January 26, 1620.', 'source': 'https://en.wikipedia.org/wiki/Amar_Singh_I'}, page_content=\"Maharana Amar Singh I, the Maharana ruler of Mewar Kingdom (March 16, 1559 – January 26, 1620), was the eldest son and successor of Maharana Pratap I. He was the 14th Rana of Mewar, ruling from January 19, 1597 till his death on January 26, 1620.\\n\\n\\n== Birth and coronation ==\\nAmar Singh I was the eldest son of Maharana Pratap I. He was born in the old capital fortress of Chittor on 16 March 1559 to his father's chief queen Ajabde Punwar, who belonged to the Parmarji of Bijolia a fiefdom under Mewar the same year, when foundation of the new capital city of Udaipur was laid by his grandfather, Udai Singh II. Amar Singh I succeeded Maharana Pratap upon his death on 19 January 1597 and was the ruler of Mewar till his death on 26 January 1620.\\n\\n\\n== Conflict with Mughals ==\\n\\nBy the end his reign Rana Pratap was able to recover much of his ancestral kingdom as attested by the contemporaneous epigraphic evidences, which included all 36 outposts of Mewar apart from Chittor and Mandalgarh which continued to remain under the Mughals.\\n\\n\\n=== Against Akbar ===\\n\\nAfter Pratap death, Akbar despatched a strong force with Raja Man Singh, Shah Kuli Khan and other senior Mansabdars under the nominal command of Prince Salim (later Emperor Jahangir). Rana Amar Singh, following his father's policy, sought refuge in the hilly regions of western Mewar. His forces resisted the Mughals, launching surprise attacks on their outposts. Sultan Khan Ghori, stationed at Bagor, was unexpectedly attacked and killed. Later, Prince Salim arrived in Udaipur and ordered his commanders to intensify efforts against the Mewar forces. In response, Maharana launched a counter-attack near Malpura, plundering several towns. Additionally, he conducted a  night raid on a Mughal outposts. The Mughal campaign ended inconclusively as Man Singh was called to Bengal without significant achievements. Akbar towards the end of his reign, he invested Sagar, a son of Rana Udai Singh II, with the title of Rana and designed to set him on the throne of Chittor. Akbar was actually preparing to send a force under Khusrau Mirza to install Sagar, but before this could be done, he died.\\n\\n\\n=== Against Jahangir ===\\n\\nShortly after his accession in 1606, Jahangir sent an army of 20,000 cavalry to attack Mewar. Parviz Mirza was only the figurative commander while in reality the de facto commander was Jahangir who directed Asaf Khan. Amar led a hard fought battle to defend his territory and personally killed the Mughal commander Sultan Khan and his horse by spear which went through both. In 1608, an army under Mahabat Khan was sent to Mewar through Mandal and Chittor. This army was defeated and had to retreat because of continuous raids by Rajput forces. In 1609, Mahabat Khan was replaced with Abdullah Khan who was able to achieve initial success from 1609 to 1611. In an attack by Abdullah Khan on Chavand about 2000-3000 Rajputs staying there fought till death and Amar Singh was forced to abandon the capital. Abdullah Khan was eventually defeated by Mewari forces at Battle of Ranakpur in 1611 rendering his expedition as total failure.\\nHe was then dispatched as governor of Gujarat in 1611 and at his request Raja Basu was appointed to the command of the Mughul army in Rajasthan. But apparently he was defeated too and failed to meet the objectives. He was recalled and Khan A‘zam Mirza Aziz Koka sent in 1613 to replace him. Upon his request for assistance, in 1613, Jahangir himself came to Rajputana to supervise the campaign. His son Khurram led the campaign on the ground. Rajputs were easily able to seek refuge in the hilly tracks of Rajputana and the Mughals largely failed to penetrate it. They were finally able to penetrate it in 1614 when they engaged with Mewar forces and established outposts. Many attempts were made by Jahangir to make settlements with the Maharana and the final attempt in 1615 succeeded when Amar Singh agreed to meet with Prince Khurram.\\n\\n\\n== Peace treaty ==\\n\\nAfter Mewar was devas\"),\n",
              " Document(metadata={'title': 'Chetak', 'summary': 'Chetak or Cetak is the name given in traditional literature to the horse ridden by Maharana Pratap at the Battle of Haldighati, fought on 18 June 1576 at Haldighati, in the Aravalli Mountains of Rajasthan, in western India.:\\u200a45\\u200a', 'source': 'https://en.wikipedia.org/wiki/Chetak'}, page_content='Chetak or Cetak is the name given in traditional literature to the horse ridden by Maharana Pratap at the Battle of Haldighati, fought on 18 June 1576 at Haldighati, in the Aravalli Mountains of Rajasthan, in western India.:\\u200a45\\u200a\\n\\n\\n== The story ==\\n\\nHistorical sources do not name the horse ridden by Maharana Pratap at the Battle of Haldighati on 18 June 1576, nor do they attribute any unusual feat or achievement to it.:\\u200a45\\u200a \\nAccording to tradition, the horse was called Chetak. The Danti Charan traders from Surendranagar district of Kathiawar are said to have presented two Kathiawari colts, one of which was Chetak, to Rana Pratap. It is believed that Pratap chose him based on the spirit displayed by Natak when he was tested for swiftness of response. Although wounded, Chetak carried Pratap safely away from the battle, but then died of his wounds. The story is recounted in court poems of Mewar from the seventeenth century onwards. The horse is first named Cetak in an eighteenth-century ballad, Khummana-Raso.:\\u200a45\\u200a The story was published in 1829 by Lieutenant-Colonel James Tod, a colonial officer who had been political officer to the Mewari court, in the first volume of his Annals and Antiquities of Rajast\\'han or the Central and Western Rajpoot States of India.:\\u200a46\\u200a:\\u200a339\\u200a His account was based on the Khummana-Raso, and became the most commonly followed version of the tale.:\\u200a45\\u200a In it, the horse is named Chytuc, and is once referred to as the \"blue horse\". Pratap is at one point called the \"rider of the blue horse\".:\\u200a339\\u200a\\nThe story spread beyond Rajasthan, to Bengal and elsewhere. There, Pratap was seen as a symbol of resistance against invasion and, by extension, of nationalist resistance to British colonial occupation.:\\u200a47\\u200a\\n\\n\\n== Commemoration ==\\n\\nSeveral statues and monuments to Pratap and Chetak have been raised. An equestrian statue was placed in Moti Magri Park in Udaipur by Bhagwant Singh of Mewar (r. 1955–1984);:\\u200a47\\u200a another overlooks the city of Jodhpur.:\\u200a47\\u200a The Chetak Smarak at Haldighati in Rajsamand District marks the spot where Chetak supposedly fell.\\nThe helicopter HAL Chetak which is a licensed model of the Aérospatiale Alouette III is named after the horse.\\n\\n\\n== See also ==\\nList of historical horses\\n\\n\\n== References =='),\n",
              " Document(metadata={'title': 'Udaipur', 'summary': 'Udaipur (Hindi: IPA: [ʊdəjpʊɾ], ) (ISO 15919: Udayapura) is a city in the north-western Indian state of Rajasthan, about 415 km (258 mi) south of the state capital Jaipur. It serves as the administrative headquarters of Udaipur district. It is the historic capital of the kingdom of Mewar in the former Rajputana Agency. It was founded in 1559 by Udai Singh II of the Sisodia clan of Rajputs, when he shifted his capital from the city of Chittorgarh to Udaipur after Chittorgarh was besieged by Akbar. It remained as the capital city till 1818 when it became a British princely state, and thereafter the Mewar province became a part of Rajasthan when India gained independence in 1947. It is also known as the City of Lakes, as it is surrounded by five major artificial lakes.\\nThe city is located in the southernmost part of Rajasthan, near the Gujarat border. It is surrounded by the Aravali Range, which separates it from the Thar Desert. It is placed close to the median point between two major Indian metro cities, around 660 km from Delhi and 800 km from Mumbai. Besides, connectivity with Gujarat ports provide Udaipur a strategic geographical advantage. Udaipur is well connected with nearby cities and states by means of road, rail and air transportation facilities. The city is served by the Maharana Pratap Airport. Common languages spoken include Hindi, English and Rajasthani (Mewari).\\nDubbed \"the most romantic spot on the continent of India\" by British administrator James Tod, Udaipur is a tourist destination and is known for its history, culture, scenic locations and the Rajput-era palaces. It has seven lakes surrounding the city. Five of the major lakes, namely Fateh Sagar Lake, Lake Pichola, Swaroop Sagar Lake, Rangsagar, and Doodh Talai Lake, have been included under the restoration project of the National Lake Conservation Plan (NLCP) of the Government of India. Besides lakes, Udaipur is also known for its historic forts and palaces, museums, galleries, natural locations and gardens, architectural temples, as well as traditional fairs, festivals and structures. Due to the several lakes present here, it is sometimes dubbed \"Venice of the East\". Udaipur economy is primarily driven by tourism, though minerals, marble processing, chemical manufacturing and development, electronic manufacturing and the handicraft industry are also contributors. Udaipur hosts several state and regional public offices, including offices of Director of Mines and Geology, Commissioner of Excise, Commissioner of Tribal Area Development, Hindustan Zinc Limited, and Rajasthan State Mines and Mineral Corporation Limited. Besides, Udaipur is rising as educational hub as well, with 5 Universities, 14 colleges and more than 160 high schools. Udaipur is home to IIM Udaipur, the fifth best management institution in the country according to NIRF ranking released by the MHRD.\\n\\n', 'source': 'https://en.wikipedia.org/wiki/Udaipur'}, page_content='Udaipur (Hindi: IPA: [ʊdəjpʊɾ], ) (ISO 15919: Udayapura) is a city in the north-western Indian state of Rajasthan, about 415 km (258 mi) south of the state capital Jaipur. It serves as the administrative headquarters of Udaipur district. It is the historic capital of the kingdom of Mewar in the former Rajputana Agency. It was founded in 1559 by Udai Singh II of the Sisodia clan of Rajputs, when he shifted his capital from the city of Chittorgarh to Udaipur after Chittorgarh was besieged by Akbar. It remained as the capital city till 1818 when it became a British princely state, and thereafter the Mewar province became a part of Rajasthan when India gained independence in 1947. It is also known as the City of Lakes, as it is surrounded by five major artificial lakes.\\nThe city is located in the southernmost part of Rajasthan, near the Gujarat border. It is surrounded by the Aravali Range, which separates it from the Thar Desert. It is placed close to the median point between two major Indian metro cities, around 660 km from Delhi and 800 km from Mumbai. Besides, connectivity with Gujarat ports provide Udaipur a strategic geographical advantage. Udaipur is well connected with nearby cities and states by means of road, rail and air transportation facilities. The city is served by the Maharana Pratap Airport. Common languages spoken include Hindi, English and Rajasthani (Mewari).\\nDubbed \"the most romantic spot on the continent of India\" by British administrator James Tod, Udaipur is a tourist destination and is known for its history, culture, scenic locations and the Rajput-era palaces. It has seven lakes surrounding the city. Five of the major lakes, namely Fateh Sagar Lake, Lake Pichola, Swaroop Sagar Lake, Rangsagar, and Doodh Talai Lake, have been included under the restoration project of the National Lake Conservation Plan (NLCP) of the Government of India. Besides lakes, Udaipur is also known for its historic forts and palaces, museums, galleries, natural locations and gardens, architectural temples, as well as traditional fairs, festivals and structures. Due to the several lakes present here, it is sometimes dubbed \"Venice of the East\". Udaipur economy is primarily driven by tourism, though minerals, marble processing, chemical manufacturing and development, electronic manufacturing and the handicraft industry are also contributors. Udaipur hosts several state and regional public offices, including offices of Director of Mines and Geology, Commissioner of Excise, Commissioner of Tribal Area Development, Hindustan Zinc Limited, and Rajasthan State Mines and Mineral Corporation Limited. Besides, Udaipur is rising as educational hub as well, with 5 Universities, 14 colleges and more than 160 high schools. Udaipur is home to IIM Udaipur, the fifth best management institution in the country according to NIRF ranking released by the MHRD.\\n\\n\\n== History ==\\n\\n\\n=== Prehistoric Era ===\\nThe Ahar River bank was inhabited in about 2000 BCE. There are footprints of two different civilizations, which provides claims about earliest inhabitants of the Ahar culture: the first ones are the Bhil/Bheels, the indigenous tribes originated at this place, and are still residing in the area in large numbers. The second footprints were of Rajputs, who once entered the enclosed valley, and then continued to live in this place for centuries.\\n\\n\\n=== Establishment as a city ===\\n\\nUdaipur was founded in 1559, by Maharana Udai Singh II in the fertile circular Girwa Valley to the southwest of Nagda, on the Banas River. The city was established as the new capital of the Mewar kingdom. This area already had a thriving trading town, Ayad, which had served as the capital of Mewar in the 10th through 12th centuries. The Girwa region was thus already well known to Chittorgarh rulers who moved to it whenever the vulnerable tableland Chittaurgarh was threatened with enemy attacks. Rana Udai Singh II, in the wake of the 16th-century emergence of artillery warfare, decide'),\n",
              " Document(metadata={'title': 'Roshni Walia', 'summary': 'Roshni Walia (born 20 September 2002) is an Indian actress. She began her career with television advertisements and made her acting debut with Main Lakshmi Tere Aangan Ki. She is also known for her roles in Bharat Ka Veer Putra – Maharana Pratap as Maharani Ajabde, and Tara Mane in Tara From Satara.', 'source': 'https://en.wikipedia.org/wiki/Roshni_Walia'}, page_content='Roshni Walia (born 20 September 2002) is an Indian actress. She began her career with television advertisements and made her acting debut with Main Lakshmi Tere Aangan Ki. She is also known for her roles in Bharat Ka Veer Putra – Maharana Pratap as Maharani Ajabde, and Tara Mane in Tara From Satara.\\n\\n\\n== Early life ==\\nRoshni Walia was born on 20 September 2002 in Prayagraj, Uttar Pradesh, India. She currently resides in Mumbai. Her mother is Sweety Walia, and she has an older sister named Noor Walia. Walia\\'s maternal grandfather was an army officer.\\n\\n\\n== Career ==\\nRoshni Walia began her career in the entertainment industry with television commercials. Her first advertisement was for Nutree\\'s Nuggets, where she earned 7,000 rupees at the age of seven. \\nHer television debut was in 2012 with the Life OK drama series Main Lakshmi Tere Aangan Ki, where she portrayed the character Jiyana. In the same year, she appeared in the film My Friend Ganesha 4 as Lucky.\\nIn 2013, Walia portrayed Maitri in the Indian horror TV series \"Khauff Begins... Ringa Ringa Roses,\" which aired on Life OK from November 30, 2013, to January 19, 2014. Her character, Maitri, believed her father to be a superhero who combats supernatural forces, contributing to the show\\'s storyline of action, horror, and thriller elements. \\nWalia played the role of young Ganga Singh in the Indian drama series \"Balika Vadhu – Kacchi Umar Ke Pakke Rishte.\" Her character, Ganga, was portrayed during her childhood years in the show, which aired from 2013 to 2014. Ganga was the daughter of Ratan Singh and later became involved in significant storylines within the series.\\nWalia portrayed the role of young Sati in the mythological drama series \"Devon Ke Dev...Mahadev\". In the show, she depicted the childhood of Sati, the daughter of Daksha and Prasuti.\\nIn 2014, Walia gained popularity for her role in the acclaimed television series \"Bharat Ka Veer Putra – Maharana Pratap,\" where she portrayed young Maharani Ajabde Punwar, the first wife of Maharana Pratap. She appeared in episodes 168 to 289, marking a significant period in her acting career.This performance earned her a nomination for Best Child Actor - Female at the 13th Indian Telly Awards.\\nIn 2015, Walia portrayed Young Survi in the television drama series \"Yeh Vaada Raha,\" which aired on Zee TV from 2015 to 2017. Her role contributed to the show\\'s narrative focused on romance, drama, and family dynamics set in Maharashtra.\\nin 2019, Walia portrayed the main character, Tara Mane, in the Indian family drama television series \"Tara From Satara,\" which premiered on 19 August 2019 on Sony Entertainment Television. In the series, she plays a young girl from Satara who is passionate about Bollywood dance, despite her father\\'s opposition.\\n\\n\\n== Filmography ==\\n\\n\\n=== Films ===\\n\\n\\n=== Television ===\\n\\n\\n=== Music videos ===\\n\\n\\n== Awards and nominations ==\\n\\n\\n== References ==\\n\\n\\n== External links ==\\n\\nRoshni Walia at IMDb'),\n",
              " Document(metadata={'title': 'Maharana Pratap: The First Freedom Fighter', 'summary': \"Maharana Pratap: The First Freedom Fighter is an Indian epic film based on Maharana Pratap of Mewar (a state in north-western India).The film is directed and produced by Dr. Pradeep Kumawat from Udaipur, Rajasthan. It is the first time that a film has been made on the history of Maharana Pratap. The film's sound track includes one of the last songs sung by Late Jagjit Singh.\\nOn 18 January 2012, the then President of India, Pratibha Patil unveiled the Music of the film.\\nThe story centers around the warrior Maharana Pratap and his conflicts with Akbar and Man Singh I, leading to the Battle of Haldighati.\\nMaharana Pratap wins the battle of haldighati\\nThe film was released in major parts of Rajasthan on 12 October 2012.\\nIn May 2022, the film was released on the OTT platform MX Player.\", 'source': 'https://en.wikipedia.org/wiki/Maharana_Pratap:_The_First_Freedom_Fighter'}, page_content='Maharana Pratap: The First Freedom Fighter is an Indian epic film based on Maharana Pratap of Mewar (a state in north-western India).The film is directed and produced by Dr. Pradeep Kumawat from Udaipur, Rajasthan. It is the first time that a film has been made on the history of Maharana Pratap. The film\\'s sound track includes one of the last songs sung by Late Jagjit Singh.\\nOn 18 January 2012, the then President of India, Pratibha Patil unveiled the Music of the film.\\nThe story centers around the warrior Maharana Pratap and his conflicts with Akbar and Man Singh I, leading to the Battle of Haldighati.\\nMaharana Pratap wins the battle of haldighati\\nThe film was released in major parts of Rajasthan on 12 October 2012.\\nIn May 2022, the film was released on the OTT platform MX Player.\\n\\n\\n== Plot ==\\nThe story of Maharana Pratap starts with the narrator Ramanbhai who narrates the epic of Maharana Pratap and initiates the history of the Mewar kingdom. When Vallabhi (Gujarat) was attacked by the Maan Mori in a battle attempt, Rawal Mahendra-II died and his queen Pushpawati somehow escaped from that attack and went to the Nagda area (near Udaipur). Later she died, giving her child to a Brahmin family. The son of the queen Pushpawati grew up young and was popularly known as Bappa Rawal (Kalbhoj). One day Bappa Rawal met Maharshi Harti Rashi (a sage) and with the profound blessings of the sage Harit Rashi, Bappa established the Great kingdom of Mewar. Narrator Kaviraj Shyamaldas proceeds further in the story as follows: Rana Ratan Singh\\'s wife queen Padmini, who was an iconic paramount of beauty in historical times, faced bad consequences due to Allauddin Khilji intrigue and deception of forceful control over Chittorgarh as well as over queen Padmini. At the end the conflict between Padmini and Allauddhin Khilji led the last queen Padmini to sacrifice herself for the self-respect and honour of the dynasty by jumping alive in the heap of fire inside the palace at fort Chittor (the activity is popularly known as \\'Saka/\\'Jauhar\\').\\nNarrator Kaviraj Shyamaldas\\'s pen stops at the incident of king Udai Singh\\'s feeding his mother Panna Gurjari. The maid\\'s son Banveer (dasi\\'s son) who killed Rana Vikramaditya, was intending to kill Udai Singh in his childhood as well. Pannadhay then sacrificed her own son who was at the same age as Udai Singh and Banveer killed her son by having the impression that the sleeping child was Udai Singh. She saw her own son dying in front of her eyes. This sacrifice of Pannadhay is remembered in the history, which ultimately saved the dynasty of Mewar.\\nAs the story goes further. Maharana Udai Singh, father of Maharana Pratap was compelled to depart the fort of Chittorgarh. On the other hand, queen Jaiwnti bai who was the first wife of Maharana Udai Singh was facing an ignoring attitude from Udai Singh. The Maharana Udai Singh was immensely fascinated towards queen Bhattiyani. The diplomatic queen Bhattiyani passionately devised a plan to establish Jagmal (her son) on the throne of Mewar so as to make him the king. After the death of Udai Singh, the elder son Pratap was not offered the royal seat of the kingdom of Mewar. In the meantime, all the noble heads came to know about Jagamal being made the heir. Apparently ministers within the kingdom discussed the dismissal of Jagmal. Rawat Krishna Das and Rawat Sanga suggested that \"pratap is the eldest son, and worthy also, hence, he should be the Maharana.\" After completing the last rites, the noble chieftains helped Pratap occupy the Royal Throne and spoke to Jagamal – \"In your capacity as the younger brother, your seat is in front of the Royal Throne\". Thus, on 28 February 1572 Pratap\\'s coronation was performed at Gogunda (place near Udaipur) just after the funeral of Udai Singh. Pratap\\'s coronation was held at Rana Bawari and he was enthroned on royal seat of the kingdom of Mewar unanimously in 1572.\\nMaharana Pratap was leading the way with his knighthood, chivalry and ar'),\n",
              " Document(metadata={'title': 'Pratap Singh II', 'summary': 'Maharana Pratap Singh II  (27 July 1724 – 10 January 1754), was the Maharana of Mewar Kingdom (r. 1751–1754).His reign is marked with decline of the alpha status of the Sisodia house of Mewar in Rajputana both economically and politically.', 'source': 'https://en.wikipedia.org/wiki/Pratap_Singh_II'}, page_content='Maharana Pratap Singh II  (27 July 1724 – 10 January 1754), was the Maharana of Mewar Kingdom (r. 1751–1754).His reign is marked with decline of the alpha status of the Sisodia house of Mewar in Rajputana both economically and politically.\\n\\n\\n== References =='),\n",
              " Document(metadata={'title': 'Vishal Jethwa', 'summary': 'Vishal Jethwa (born 6 July 1994) is an Indian television and film actor. He is known for portraying Akbar on Bharat Ka Veer Putra – Maharana Pratap which aired on Sony TV, and Sunny in Mardaani 2.\\n\\n', 'source': 'https://en.wikipedia.org/wiki/Vishal_Jethwa'}, page_content=\"Vishal Jethwa (born 6 July 1994) is an Indian television and film actor. He is known for portraying Akbar on Bharat Ka Veer Putra – Maharana Pratap which aired on Sony TV, and Sunny in Mardaani 2.\\n\\n\\n== Early life ==\\nJethwa is a Gujarati. He was born to Naresh and Preeti Jethwa on 6 July 1994. He completed his graduation from Thakur College of Science and Commerce.\\n\\n\\n== Career ==\\nVishal started his acting career in 2013 by landing a lead role of Akbar on Bharat Ka Veer Putra – Maharana Pratap. In 2015, he was roped in to play Bali in Sankatmochan Mahabali Hanuman. In 2016, he landed an important role of a terrorist on Diya Aur Baati Hum as Chota Packet. In the same year, he bagged the role of Nasir on Peshwa Bajirao. In August 2017, he replaced actor Bhavesh Balchandani to play the role of Krishna on Chakradhari Ajay Krishna. He also has appears in Colors TV's Thapki Pyar Ki as Prince and Ghatotkacha that will air on Life OK.\\nIn his Hindi film debut, Jethwa was cast as the main antagonist in the 2019 film Mardaani 2. His performance was well received by the critics and the audience.\\nIn 2022, he featured in Disney+ Hotstar's medical thriller series Human alongside Shefali Shah and Kirti Kulhari. Later that year, he played the title role in Revathi's slice of life drama film, Salaam Venky, co-starring Kajol, Rajeev Khandelwal, Rahul Bose, Prakash Raj and Aahana Kumra.\\nIn May 2023, Jethwa played a pivotal role in Vidyut Jammwal's IB71. He also featured as Hassan Ali, in Tiger 3.\\n\\n\\n== Filmography ==\\n\\n\\n=== Films ===\\n\\n\\n=== Television ===\\n\\n\\n=== Music videos ===\\n\\n\\n== Awards and nominations ==\\n\\n\\n== References ==\\n\\n\\n== External links ==\\nVishal Jethwa at IMDb\\nVishal Jethwa on Instagram\"),\n",
              " Document(metadata={'title': 'Maharana Pratap University of Agriculture and Technology', 'summary': 'Maharana Pratap University of Agriculture and Technology is situated in Udaipur city of Rajasthan state in India. The government of Rajasthan founded this university by the bifurcation of Rajasthan Agriculture University, Bikaner on 1 November 1999. Since then it has been the principal academic institution supporting mainly south and south-eastern parts of Rajasthan, taking the national responsibility of identifying, designing, preparing and adapting new techniques in the field of production technology for agricultural development. Its jurisdiction is spread over 7 districts of Rajasthan: Banswara, Bhilwara, Chittorgarh, Dungarpur, Pratapgarh, Rajsamand, and Udaipur.\\nApart from six constituent colleges, the university comprises Agricultural Research Stations, Agricultural Research Sub Stations, Livestock Research Station, Dry Land Farming Research Station and Krishi Vigyan Kendras.\\nNarendra Singh Rathore was appointed vice chancellor in 2019. and  currently Dr. Ajit Kumar Karnatak has been appointed the Vice Chancellor of (MPUAT) on October 15, 2022.', 'source': 'https://en.wikipedia.org/wiki/Maharana_Pratap_University_of_Agriculture_and_Technology'}, page_content='Maharana Pratap University of Agriculture and Technology is situated in Udaipur city of Rajasthan state in India. The government of Rajasthan founded this university by the bifurcation of Rajasthan Agriculture University, Bikaner on 1 November 1999. Since then it has been the principal academic institution supporting mainly south and south-eastern parts of Rajasthan, taking the national responsibility of identifying, designing, preparing and adapting new techniques in the field of production technology for agricultural development. Its jurisdiction is spread over 7 districts of Rajasthan: Banswara, Bhilwara, Chittorgarh, Dungarpur, Pratapgarh, Rajsamand, and Udaipur.\\nApart from six constituent colleges, the university comprises Agricultural Research Stations, Agricultural Research Sub Stations, Livestock Research Station, Dry Land Farming Research Station and Krishi Vigyan Kendras.\\nNarendra Singh Rathore was appointed vice chancellor in 2019. and  currently Dr. Ajit Kumar Karnatak has been appointed the Vice Chancellor of (MPUAT) on October 15, 2022. \\n\\n\\n== Constituent colleges ==\\nThe university comprises six constituent colleges:\\n\\nRajasthan College of Agriculture, Udaipur\\nCollege of Dairy & Food Technology, Udaipur\\nCollege of Technology & Engineering, Udaipur\\nCollege of Fisheries, Udaipur\\nCollege of community and applied sciences, Udaipur\\nCollege of Agriculture, Bhilwara\\n\\n\\n== References ==\\n\\n\\n== External links ==\\nOfficial website'),\n",
              " Document(metadata={'title': 'Haldighati', 'summary': \"Haldighati is a historical mountain pass between Khamnore and Balicha village situated at Aravalli Range of Rajasthan in western India which connects Rajsamand and Udaipur districts. Haldighati also known as Haldighati Darra.The pass is located at a distance of 44 kilometres from Udaipur and 367 kilometres from Jaipur. The name 'Haldighati' is believed to have originated from the turmeric-coloured yellow soil  of the area. (Turmeric is haldi in Hindi).\", 'source': 'https://en.wikipedia.org/wiki/Haldighati'}, page_content=\"Haldighati is a historical mountain pass between Khamnore and Balicha village situated at Aravalli Range of Rajasthan in western India which connects Rajsamand and Udaipur districts. Haldighati also known as Haldighati Darra.The pass is located at a distance of 44 kilometres from Udaipur and 367 kilometres from Jaipur. The name 'Haldighati' is believed to have originated from the turmeric-coloured yellow soil  of the area. (Turmeric is haldi in Hindi).\\n\\n\\n== History ==\\nThe mountain pass is a significant historical location. Rakt Talai in Khamnore is the site of the Battle of Haldighati, which took place in 18 June 1576 between of the Kingdom of Mewar and the Mughal Army led by Kunwar Man Singh. Maharana Pratap led the armed forces of Mewar against the Mughals who fought under the command of Mughal emperor Akbar's general Man Singh I of Amber.\\n\\n\\n== Memorial ==\\n\\nMaharana Pratap's horse Chetak played a pivotal role in the Battle of Haldighati. Chetak was fatally wounded in this battle and died on 18 June 1576. Maharana Pratap erected a small monument for his horse at the place where Chetak fell down. The cenotaph still exists at Haldighati.\\nThe Government of India commissioned the construction of Maharana Pratap National Memorial in the year 1997, and in June 2009 the monument was finally opened. The memorial features a bronze statue of the Maharana astride Chetak. Although it is still waiting for announcement as National Monument.\\n\\n\\n== Tourism ==\\nHaldighati is also known for its charity rose product and the mud art of Molela. Much emphasis is being laid for promoting a private cottage industry by the  Department of Tourism.\\n\\n\\n== References ==\\n\\n\\n== External links ==\\n\\nDetails about Haldighati battle ground\"),\n",
              " Document(metadata={'title': 'Maharana Pratap Sports College', 'summary': 'Maharana Pratap Sports College is a sports academy and a college in Raipur, Dehradun, Uttarakhand. It offers sports training in six sports, Athletics, Football, Volleyball, Boxing, Cricket and Field hockey in sixth to twelfth standard and with the curriculum of Uttarakhand Board. It was only sports college in the state until the establishment of Hari Singh Thapa Sports College at Pithoragarh.', 'source': 'https://en.wikipedia.org/wiki/Maharana_Pratap_Sports_College'}, page_content='Maharana Pratap Sports College is a sports academy and a college in Raipur, Dehradun, Uttarakhand. It offers sports training in six sports, Athletics, Football, Volleyball, Boxing, Cricket and Field hockey in sixth to twelfth standard and with the curriculum of Uttarakhand Board. It was only sports college in the state until the establishment of Hari Singh Thapa Sports College at Pithoragarh.\\n\\n\\n== Sports facilities ==\\nMultipurpose Indoor Stadium\\nRajiv Gandhi International Cricket Stadium, Dehradun\\nAstroturf Hockey Ground\\nAthletic field\\nCricket Ground\\nFootball Ground\\n\\n\\n== References ==\\n\\n\\n== External links ==\\nOfficial website'),\n",
              " Document(metadata={'title': 'Tunisha Sharma', 'summary': \"Tunisha Sharma (4 January 2002 – 24 December 2022) was an Indian television and film actress. She made her acting debut with Bharat Ka Veer Putra – Maharana Pratap as Chand Kawar in 2015. Sharma is best known for having played Rajkumari Ahankara in Chakravartin Ashoka Samrat, Zara/Babli in Ishq Subhan Allah and Aadhya Verma in Internet Wala Love.\\nSharma made her film debut with Fitoor playing Young Firdaus and later played Young Diya in Baar Baar Dekho. In both these films, she played Katrina Kaif's younger version.\", 'source': 'https://en.wikipedia.org/wiki/Tunisha_Sharma'}, page_content=\"Tunisha Sharma (4 January 2002 – 24 December 2022) was an Indian television and film actress. She made her acting debut with Bharat Ka Veer Putra – Maharana Pratap as Chand Kawar in 2015. Sharma is best known for having played Rajkumari Ahankara in Chakravartin Ashoka Samrat, Zara/Babli in Ishq Subhan Allah and Aadhya Verma in Internet Wala Love.\\nSharma made her film debut with Fitoor playing Young Firdaus and later played Young Diya in Baar Baar Dekho. In both these films, she played Katrina Kaif's younger version.\\n\\n\\n== Early life ==\\nSharma was born on 4 January 2002 in Chandigarh to Vanita Sharma. In her initial years of work, she was diagnosed with depression and anxiety issues.\\n\\n\\n== Career ==\\nSharma started her career with Sony Entertainment Television's Maharana Pratap as Chand Kanwar. She went on to play Rajkumari Ahankara in Colors TV's Chakravartin Ashoka Samrat. In 2016, she made her film debut as Young Firdaus in Fitoor. In the same year, she played Young Dia in Baar Baar Dekho and Mini in Kahaani 2: Durga Rani Singh.\\nIn 2017, Sharma played Mehtab Kaur in Sher-e-Punjab: Maharaja Ranjit Singh. From 2018 to 2019, she played Aadhya Verma in Colors TV's Internet Wala Love.\\nIn 2019, she appeared in Zee TV's Ishq Subhan Allah as Zara/Babli. In 2021, she was seen in season 2 of SAB TV's Hero – Gayab Mode On as ASP Aditi. In 2022, she played the lead role in Sony SAB show Ali Baba: Dastaan-E-Kabul Chapter 1 opposite Sheezan Khan.\\nShe is slated to appear posthumously in Abbas–Mustan's film 3 Monkeys.\\n\\n\\n== Death ==\\nOn 24 December 2022, in a studio in Naigaon, Maharashtra, Sharma hanged herself in the make-up room of co-star Sheezan Khan on the set of the television serial Ali Baba: Dastaan-E-Kabul Chapter 1. She was taken to a hospital where she was declared dead on arrival (DOA). Sheezan Khan was booked for abetment to suicide and was arrested after her mother filed a case against him; Sharma and Khan had reportedly been in a relationship but had broken up shortly before her death.\\n\\n\\n== Filmography ==\\n\\n\\n=== Television ===\\n\\n\\n=== Films ===\\n\\n\\n=== Web series ===\\n\\n\\n=== Music videos ===\\n\\n\\n== References ==\\n\\n\\n== External links ==\\nTunisha Sharma at IMDb\"),\n",
              " Document(metadata={'title': 'City Palace, Udaipur', 'summary': 'City Palace (Raj Mahal), Udaipur is a palace complex situated in the city of Udaipur in the Indian state of Rajasthan. It was built over a period of nearly 400 years, with contributions from several rulers of the Mewar dynasty. Its construction began in 1553, started by Maharana Udai Singh II of the Sisodia Rajput family as he shifted his capital from the erstwhile Chittor to the newfound city of Udaipur. The palace is located on the east bank of Lake Pichola and has several palaces built within its complex.\\nThe City Palace in Udaipur was built in a flamboyant style and is considered the largest of its type in the state of Rajasthan. It was built atop a hill, in a fusion of the Rajasthani Rajput architecture  providing a panoramic view of the city and its surroundings. Overlooking Lake Pichola, several historic monuments like the Lake Palace, Jag Mandir, Jagdish Temple, Monsoon Palace, and Neemach Mata temple, are all in the vicinity of the palace complex. Nestled within the Aravali mountain range, these landmarks are also associated with popular culture.', 'source': 'https://en.wikipedia.org/wiki/City_Palace,_Udaipur'}, page_content=\"City Palace (Raj Mahal), Udaipur is a palace complex situated in the city of Udaipur in the Indian state of Rajasthan. It was built over a period of nearly 400 years, with contributions from several rulers of the Mewar dynasty. Its construction began in 1553, started by Maharana Udai Singh II of the Sisodia Rajput family as he shifted his capital from the erstwhile Chittor to the newfound city of Udaipur. The palace is located on the east bank of Lake Pichola and has several palaces built within its complex.\\nThe City Palace in Udaipur was built in a flamboyant style and is considered the largest of its type in the state of Rajasthan. It was built atop a hill, in a fusion of the Rajasthani Rajput architecture  providing a panoramic view of the city and its surroundings. Overlooking Lake Pichola, several historic monuments like the Lake Palace, Jag Mandir, Jagdish Temple, Monsoon Palace, and Neemach Mata temple, are all in the vicinity of the palace complex. Nestled within the Aravali mountain range, these landmarks are also associated with popular culture.\\n\\n\\n== History ==\\nThe City Palace was built concurrently with the establishment of the Udaipur city by Maharana Udai Singh II and his successor Maharanas over a period of the next 400 years. The Maharanas lived and administered their kingdom from this palace, thereby making the palace complex an important historic landmark.\\nThe Mewar kingdom was flourished initially in Nagda (30 kilometres (19 mi) to the north of Udaipur), established in 568 AD by Guhil, the first Maharana of Mewar. In the 8th century, the capital was moved to Chittor, a hilltop fort from where the Sisodias ruled for 800 years. Maharana Udai Singh II inherited the Mewar kingdom at Chittor in 1537 but by that time there were signs of losing control of the fort in wars with the Mughals. Udai Singh II, therefore, chose the site near Lake Pichola for his new kingdom as the location was well protected on all sides by forests, lakes and the Aravalli hills. He had chosen this site for his new capital, much before the sacking of Chittor by Emperor Akbar, on the advice of a hermit he had met during one of his hunting expeditions.\\nThe earliest royal structure he built here was the Royal courtyard or 'Rai Angan', which was the beginning of the building of the City Palace complex. The court was built at the location where the hermit had advised Maharana to build his new capital.\\nAfter Udai Singh's death in 1572, his son Maharana Pratap took the reins of power at Udaipur. Later, in the famous Battle of Haldighati, which end on stalemate against the Mughal Emperor Akbar in the year 1576. After the death of Maharana Pratap, Amar Singh I took the reins of power at Udaipur.\\nBut with the increasing Marathas attacks by 1761, Udaipur and the Mewar state were in dire straits and in ruins. By 1818, Maharana Bhim Singh signed a treaty with the British accepting their protection against the other empires. After the Indian independence in 1947, the Mewar Kingdom, along with other princely states of Rajasthan, merged with the democratic India, in 1949. The Mewar Kings subsequently also lost their special royal privileges and titles. The successive Maharanas, however, retained their ownership of the palaces in Udaipur and converted parts of the palace complex into heritage hotels.\\nThe palace of Udaipur is a glorious symbol of Mewar.\\n\\n\\n== Architecture ==\\n\\nThe series of palaces in the city palace complex, behind an exquisite facade of 244 metres (801 ft) length and 30.4 metres (100 ft) height, were built on a ridge on the east of lake Pichola. The complex is located in Udaipur city at 24.576°N 73.68°E\\ufeff / 24.576; 73.68, which is set with an average elevation of 598 metres (1,962 ft). They were built over a long period, from 1559 onwards, by 22 generations of Sisodia Rajputs. Several Maharanas starting with Udai Singh II, have contributed to this edifice, which comprises an agglomeration of structures, including 11 small separate palaces. Th\"),\n",
              " Document(metadata={'title': 'Maharana Pratap Horticultural University', 'summary': 'Maharana Pratap Horticultural University, Karnal (MHU) was established by the Government of Haryana at Anjanthali Village in Nilokheri sub-district of Karnal district of India. It is 21 km north of Karnal on NH1 leading to Ambala.', 'source': 'https://en.wikipedia.org/wiki/Maharana_Pratap_Horticultural_University'}, page_content='Maharana Pratap Horticultural University, Karnal (MHU) was established by the Government of Haryana at Anjanthali Village in Nilokheri sub-district of Karnal district of India. It is 21 km north of Karnal on NH1 leading to Ambala.\\n\\n\\n== History ==\\nOn 28 November 2016,  the university came into existence via Haryana Vidhan Sabha legislature. On  18 April 2017, Chief Minister Manohar Lal Khattar\\'s  administration renamed it after the Maharana Pratap.\\n\\n\\n== The university ==\\n\\n\\n=== Objective ===\\nIt was established for research and development of horticulture.\\n\\n\\n=== Campus ===\\n\\n\\n==== Main campus ====\\nMain campus is in Anjanthali village in Nilokheri tehsil of Karnal after 97 acres land of HAU\\'s Regional Research Station was transferred to the Horticulture university.  University has \"Regional Research Stations\" at Ambala, Jind and Jhajjar.\\n\\n\\n==== Regional research stations ====\\n\\n\\n===== Captain Pawan Kumar Extension campus, Jind =====\\nCaptain Pawan Kumar Extension campus is being constructed at Badhana village in Jind district for which INR46 crore (460 million) was released in 2018.\\nRMRC murthal mushroom research center\\n\\n\\n===== Regional Research Station, Ambala =====\\nIt is located at Naraingarh in Ambala district.\\n\\n\\n===== Regional Research Station, Jhajjar =====\\nIt is located at Jhajjar district.\\n\\n\\n=== Collaboration ===\\nUniversity is establishing a regional cold chain centre in collaboration with United Kingdom.\\n\\n\\n=== Related initiatives ===\\nInternational Terminal Market for Fruits and Vegetables at near by  Ganaur on Grand Trunk Road in Sonepat district is being established on 600 acres which will be larger than . Centre for excellence for horticulture are being established in each district of Haryana, along with 340 horticulture villages. Govt is also promoting an agricultural produce brand called Haryana Fresh.\\n\\n\\n== See also ==\\nList of institutions of higher education in Haryana\\n\\n\\n== References =='),\n",
              " Document(metadata={'title': 'Rachana Parulkar', 'summary': 'Rachanaa Parulkar is an Indian actress who works in Hindi television. She made her acting debut in 2009 with Saat Phere - Saloni Ka Safar portraying Savri Singh. Parulkar is best known for her portrayal of Kalpana Jadhav Singhania in Ek Mutthi Aasmaan and Maharani Ajabde Punwar in Bharat Ka Veer Putra – Maharana Pratap.', 'source': 'https://en.wikipedia.org/wiki/Rachana_Parulkar'}, page_content='Rachanaa Parulkar is an Indian actress who works in Hindi television. She made her acting debut in 2009 with Saat Phere - Saloni Ka Safar portraying Savri Singh. Parulkar is best known for her portrayal of Kalpana Jadhav Singhania in Ek Mutthi Aasmaan and Maharani Ajabde Punwar in Bharat Ka Veer Putra – Maharana Pratap.\\n\\n\\n== Personal life ==\\nParulkar is a trained Kathak dancer and a student of Uma Dogra. She completed her training from Uma Dogra\\'s School of Kathak.\\n\\n\\n== Career ==\\nParulkar made her acting debut in 2009 with Saat Phere - Saloni Ka Safar portraying Savri Singh. She then appeared as Rano in Kis Desh Mein Hai Meraa Dil, the same year.\\nFrom 2010 to 2012, she portrayed Akruti in Sapnon Se Bhare Naina alongside Dishank Arora. In 2012, she appeared in an episode of Gumrah as Kanak Dagar.\\nParulkar portrayal of Kalpana \"Kalpi\" Jadhav Singhania in Ek Mutthi Aasmaan opposite Ashish Chaudhary from 2013 to 2014, proved as a major turning point in her career.\\nParulkar achieved further success with her portrayal of Maharani Ajabde Punwar opposite Sharad Malhotra in Bharat Ka Veer Putra – Maharana Pratap from 2014 to 2015.\\nIn 2019, she portrayed Parvati in  Namah alongside Tarun Khanna. She also appeared in an uncredited role in Gunjan Saxena: The Kargil Girl.\\nSince 2022, Parulkar is seen portraying Shivani Pawar in Maddam Sir.\\n\\n\\n== Media image ==\\nIn UK-based newspaper Eastern Eye\\'s 50 Sexiest Asian Women List, Parulkar ranked 29th in 2014 and ranked 40th in 2015.\\n\\n\\n== Filmography ==\\n\\n\\n=== Television ===\\n\\n\\n=== Films ===\\n\\n\\n== Awards and nominations ==\\n\\n\\n== References ==\\n\\n\\n== External links ==\\nRachana Parulkar at IMDb'),\n",
              " Document(metadata={'title': 'Ajabde', 'summary': \"Ajabde Punwar (c. 1 March 1542 – 20 January 1591), popularly known as Maharani Ajabde, was the queen of Kingdom of Mewar. Ajabde is the chief consort and first wife of Maharana Pratap, and the mother of Amar Singh I. She was known for her beauty, intelligence and influence in Pratap's life.\", 'source': 'https://en.wikipedia.org/wiki/Ajabde'}, page_content='Ajabde Punwar (c. 1 March 1542 – 20 January 1591), popularly known as Maharani Ajabde, was the queen of Kingdom of Mewar. Ajabde is the chief consort and first wife of Maharana Pratap, and the mother of Amar Singh I. She was known for her beauty, intelligence and influence in Pratap\\'s life.\\n\\n\\n== Birth and family ==\\nAjabde was born on 1 March 1542 in Bijolia, Bhilwara to Rao Mamrakh Punwar, the ruler of Bijolia and his queen Hansa Bai. Ajabde belonged to the family of Parmars and her father was a fiefdom under Mewar. HS Bhati, author of Yug Purush Maharana Pratap, describes her as the granddaughter of Rao Asarwan Punwar and daughter of Mamarkh.\\n\\n\\n== Marriage and children ==\\nAjabde\\'s father Rao Mamrakh Punwar and Maharana Pratap\\'s father Udai Singh II took the decision to get their children married. Ajabde and Pratap were married at a young age and she was his first wife. Pratap later had ten more marriages, as a result of political alliance. Throughout her life, Ajabde remained Pratap\\'s favourite consort and had an impact on all his decisions.\\nAjabde and Maharana Pratap had two sons. She first gave birth to Amar Singh I, who later became the 14th Rana of Mewar, post his father\\'s death. Ajabde later gave birth to her younger son, Bhagwan Das. She is also the grandmother of Karan Singh II.\\n\\n\\n=== Religion ===\\nAccording to the Pushtimarg literature, Ajabde accepted Pushtimarg and became a devotee of Vitthalanatha. The Pushtimarg literature of Vallabha Sampradaya, recognizes her as an epitome of devotion.\\n\\n\\n== Maharani of Mewar ==\\n\\nAfter the death of Udai Singh in 1572, Rani Dheer Bai Bhatiyani wanted her son Jagmal to succeed him but senior courtiers preferred Pratap, as the eldest son, to be their king. The desire of the nobles prevailed and Pratap ascended the throne as the 54th ruler of Mewar in the line of the Sisodia Rajputs. He was crowned in Gogunda on the auspicious day of Holi. Alongside Pratap, Ajabde became the Maharani of Mewar, succeeding his mother, Jaiwanta Bai Songara.\\nHistorian Chandrashekhar Sharma mentions about Pratap taking suggestions from Ajabde on various occasions, because of her deep knowledge about political issues. Ajabde would advise Pratap on all his administrative decision and also took important decision of the Mewar household.\\n\\n\\n=== Battle of Haldighati ===\\nAjabde prominently maintained her position as the Maharani of Mewar, and managed the state affairs in the absence of Pratap during wartime. After the Battle of Haldighati, the Mughals under Akbar, captured Mewar\\'s capital, Chittorgarh. Ajabde accompanied Pratap to the forest along with the other members of the family.\\n\\n\\n== Later life and death ==\\nMaharana Pratap later established his capital at Chavand in 1585, and it became the new seat of the Kingdom of Mewar. He later recover much of his ancestral kingdom, which included all 36 outpost of Mewar apart from Chittor and Mandalgarh. Ajabde died in the year 1591. The cause of her death remains unknown. But according to many historians, she died at the palace in Chavand.\\n\\n\\n== Influence and cultural depiction ==\\n\\nAjabde is among the most influential queens of Mewar, often being compared to Rani Karnavati, Meerabai and Jaiwanta Bai. Historian James Tod in his book, Annals and Antiquities of Rajasthan mentioned about her being a \"respectable figure\" in the Mewar Kingdom, who had \"significant impact\" on Maharana Pratap\\'s life and decisions.\\nMaharana Pratap built the Sheesh Mahal at the City Palace, Udaipur for Ajabde. The complex also has various paintings depicting Pratap and Ajabde\\'s life.\\n\\n\\n== In popular culture ==\\nAjabde has been portrayed in films and television adaptation of Maharana Pratap\\'s life.\\n\\nIn the 2015 series, Bharat Ka Veer Putra – Maharana Pratap, Ajabde was portrayed by Roshni Walia and Rachana Parulkar.\\nIn the upcoming series Maharana, Ajabde is portrayed by Ridhima Pandit.\\n\\n\\n== References ==\\n\\n\\n== Sources ==\\nMajumdar, R. C., ed. (1974). History and Culture of the Indian People. Vol. V')]"
            ]
          },
          "metadata": {},
          "execution_count": 21
        }
      ]
    },
    {
      "cell_type": "code",
      "source": [
        "from langchain.text_splitter import TokenTextSplitter\n",
        "text_splitter=TokenTextSplitter(chunk_size=512,chunk_overlap=20)\n",
        "documents=text_splitter.split_documents(raw_documents[:3])"
      ],
      "metadata": {
        "id": "xmqyK3fd_Xrh"
      },
      "execution_count": 23,
      "outputs": []
    },
    {
      "cell_type": "code",
      "source": [
        "from langchain_openai import ChatOpenAI\n",
        "llm=ChatOpenAI(temperature=0,model_name=\"gpt-3.5-turbo-0125\")"
      ],
      "metadata": {
        "id": "tWGNgb7EFCxe"
      },
      "execution_count": 24,
      "outputs": []
    },
    {
      "cell_type": "code",
      "source": [
        "from langchain_experimental.graph_transformers import LLMGraphTransformer\n",
        "llm_transformer=LLMGraphTransformer(llm=llm)"
      ],
      "metadata": {
        "id": "AAcpWapzMRdd"
      },
      "execution_count": 25,
      "outputs": []
    },
    {
      "cell_type": "code",
      "source": [
        "graph_documents=llm_transformer.convert_to_graph_documents(documents)"
      ],
      "metadata": {
        "id": "MQF1yMWTMsXV"
      },
      "execution_count": 26,
      "outputs": []
    },
    {
      "cell_type": "code",
      "source": [
        "graph_documents"
      ],
      "metadata": {
        "colab": {
          "base_uri": "https://localhost:8080/"
        },
        "id": "tVwQ-4CLM55m",
        "outputId": "8e6e0fed-0334-4e69-c86c-0a80ba9d5ce7"
      },
      "execution_count": 27,
      "outputs": [
        {
          "output_type": "execute_result",
          "data": {
            "text/plain": [
              "[GraphDocument(nodes=[Node(id='Pratap Singh', type='Person'), Node(id='Maharana Pratap', type='Person'), Node(id='Udai Singh Ii', type='Person'), Node(id='Jaiwanta Bai', type='Person'), Node(id='Shakti Singh', type='Person'), Node(id='Vikram Singh', type='Person'), Node(id='Jagmal Singh', type='Person'), Node(id='Chand Kanwar', type='Person'), Node(id='Man Kanwar', type='Person'), Node(id='Ajabde Bai Punwar', type='Person'), Node(id='Amar Singh I', type='Person'), Node(id='Rani Dheer Bai Bhatiyani', type='Person'), Node(id='Akbar', type='Person'), Node(id='Vanvir Singh', type='Person'), Node(id='Jagmal', type='Person'), Node(id='Rani Dheer Bai Bhatiyani', type='Person')], relationships=[Relationship(source=Node(id='Pratap Singh', type='Person'), target=Node(id='Maharana Pratap', type='Person'), type='ALIAS'), Relationship(source=Node(id='Udai Singh Ii', type='Person'), target=Node(id='Pratap Singh', type='Person'), type='PARENT'), Relationship(source=Node(id='Jaiwanta Bai', type='Person'), target=Node(id='Pratap Singh', type='Person'), type='PARENT'), Relationship(source=Node(id='Udai Singh Ii', type='Person'), target=Node(id='Shakti Singh', type='Person'), type='PARENT'), Relationship(source=Node(id='Udai Singh Ii', type='Person'), target=Node(id='Vikram Singh', type='Person'), type='PARENT'), Relationship(source=Node(id='Udai Singh Ii', type='Person'), target=Node(id='Jagmal Singh', type='Person'), type='PARENT'), Relationship(source=Node(id='Udai Singh Ii', type='Person'), target=Node(id='Chand Kanwar', type='Person'), type='PARENT'), Relationship(source=Node(id='Udai Singh Ii', type='Person'), target=Node(id='Man Kanwar', type='Person'), type='PARENT'), Relationship(source=Node(id='Pratap Singh', type='Person'), target=Node(id='Ajabde Bai Punwar', type='Person'), type='SPOUSE'), Relationship(source=Node(id='Ajabde Bai Punwar', type='Person'), target=Node(id='Amar Singh I', type='Person'), type='PARENT'), Relationship(source=Node(id='Udai Singh Ii', type='Person'), target=Node(id='Rani Dheer Bai Bhatiyani', type='Person'), type='SPOUSE'), Relationship(source=Node(id='Udai Singh Ii', type='Person'), target=Node(id='Jagmal', type='Person'), type='CHILD'), Relationship(source=Node(id='Rani Dheer Bai Bhatiyani', type='Person'), target=Node(id='Jagmal', type='Person'), type='PARENT'), Relationship(source=Node(id='Udai Singh Ii', type='Person'), target=Node(id='Pratap Singh', type='Person'), type='PREDECESSOR'), Relationship(source=Node(id='Pratap Singh', type='Person'), target=Node(id='Maharana Pratap', type='Person'), type='SUCCESSOR'), Relationship(source=Node(id='Pratap Singh', type='Person'), target=Node(id='Akbar', type='Person'), type='RIVAL')], source=Document(metadata={'title': 'Maharana Pratap', 'summary': 'Pratap Singh I (c. 9 May 1540 – 19 January 1597), popularly known as Maharana Pratap (IPA: [məɦaːˈɾaːɳaː pɾəˈtaːp] ), was a king of Kingdom of Mewar, in north-western India in the present-day state of Rajasthan. He is notable for leading the Rajput resistance against the expansionist policy of the Mughal Emperor Akbar including the Battle of Haldighati.', 'source': 'https://en.wikipedia.org/wiki/Maharana_Pratap'}, page_content='Pratap Singh I (c. 9 May 1540 – 19 January 1597), popularly known as Maharana Pratap (IPA: [məɦaːˈɾaːɳaː pɾəˈtaːp] ), was a king of Kingdom of Mewar, in north-western India in the present-day state of Rajasthan. He is notable for leading the Rajput resistance against the expansionist policy of the Mughal Emperor Akbar including the Battle of Haldighati.\\n\\n\\n== Early life and accession ==\\nMaharana Pratap was born to Udai Singh II of Mewar and Jaiwanta Bai in 1540, the year in which Udai Singh ascended to the throne after defeating Vanvir Singh. His younger brothers were Shakti Singh, Vikram Singh and Jagmal Singh. Pratap also had two stepsisters: Chand Kanwar and Man Kanwar. His chief consort was Ajabde Bai Punwar of Bijolia. Their eldest son was Amar Singh I. He belonged to the royal family of Mewar. After the death of Udai Singh in 1572, Rani Dheer Bai Bhatiyani wanted her son Jagmal to succeed him but senior courtiers preferred Pratap, as the eldest son, to be their king. The desire of the nobles prevailed and Pratap ascended the throne as Maharana Pratap, the 54th ruler of Mewar in the line of the Sisodia Rajputs. He was crowned in Gogunda on the auspicious day of Holi. Jagmal swore revenge and left for Ajmer, to join the armies of Akbar, and obtained the town of Jahazpur as a Jagir as a gift in return for his help.\\n\\n\\n== Military career ==\\n\\n\\n=== Background ===\\nPratap Singh, gained distinction for his refusal to form any political alliance with the Mughal Empire and his resistance to Mughal domination. The conflicts between Pratap Singh and Akbar led to the Battle of Haldighati.\\n\\n\\n=== Battle of Haldighati ===\\n\\nThe Siege of Chittorgarh in 1567-1568 had led to the loss of the fertile eastern belt of Mewar to the Mughals. However, the rest of the wooded and hilly kingdom in the Aravalli range was still under the control')),\n",
              " GraphDocument(nodes=[Node(id='Maharana Pratap', type='Person'), Node(id='Mughal Emperor Akbar', type='Person'), Node(id='Raja Man Singh I', type='Person'), Node(id='Haldighati', type='Location'), Node(id='Gogunda', type='Location'), Node(id='Rajsamand', type='Location'), Node(id='Gujarat', type='Location'), Node(id='Mewar', type='Location'), Node(id='Amer', type='Location'), Node(id='Shahbaz Khan Kamboh', type='Person')], relationships=[Relationship(source=Node(id='Maharana Pratap', type='Person'), target=Node(id='Mughal Emperor Akbar', type='Person'), type='CONFLICT'), Relationship(source=Node(id='Maharana Pratap', type='Person'), target=Node(id='Raja Man Singh I', type='Person'), type='DIPLOMATIC_RELATION'), Relationship(source=Node(id='Maharana Pratap', type='Person'), target=Node(id='Haldighati', type='Location'), type='BATTLE'), Relationship(source=Node(id='Raja Man Singh I', type='Person'), target=Node(id='Amer', type='Location'), type='BELONGING'), Relationship(source=Node(id='Haldighati', type='Location'), target=Node(id='Gogunda', type='Location'), type='BATTLE_LOCATION'), Relationship(source=Node(id='Gogunda', type='Location'), target=Node(id='Rajsamand', type='Location'), type='NEARBY_LOCATION'), Relationship(source=Node(id='Mughal Emperor Akbar', type='Person'), target=Node(id='Gujarat', type='Location'), type='ROUTE_DESTINATION'), Relationship(source=Node(id='Mewar', type='Location'), target=Node(id='Shahbaz Khan Kamboh', type='Person'), type='INVASION')], source=Document(metadata={'title': 'Maharana Pratap', 'summary': 'Pratap Singh I (c. 9 May 1540 – 19 January 1597), popularly known as Maharana Pratap (IPA: [məɦaːˈɾaːɳaː pɾəˈtaːp] ), was a king of Kingdom of Mewar, in north-western India in the present-day state of Rajasthan. He is notable for leading the Rajput resistance against the expansionist policy of the Mughal Emperor Akbar including the Battle of Haldighati.', 'source': 'https://en.wikipedia.org/wiki/Maharana_Pratap'}, page_content=\" rest of the wooded and hilly kingdom in the Aravalli range was still under the control of Maharana Pratap. Mughal Emperor Akbar was intent on securing a stable route to Gujarat through Mewar; when Pratap Singh was crowned king (Maharana) in 1572, Akbar sent a number of envoys, including one by Raja Man Singh I of Amer, entreating him to become a vassal like many other rulers in Rajputana. When Pratap refused to personally submit to Akbar and several attempts to diplomatically settle the issue failed, war became inevitable.\\nThe forces of Pratap Singh and Mughal and Rajput general Man Singh met on 18 June 1576 beyond a narrow mountain pass at Haldighati near Gogunda, modern day Rajsamand in Rajasthan. This came to be known as the Battle of Haldighati. Pratap Singh fielded a force of around 3000 cavalry and 400 Bhil archers. Man Singh commanded an army numbering around 10,000 men.  After a fierce battle lasting more than three hours, Pratap found himself wounded and the day lost. He managed to retreat to the hills and lived to fight another day. The Mughals were victorious and inflicted significant casualties among the forces of Mewar but failed to capture Maharana Pratap.\\nHaldighati was a futile victory for the Mughals, as they were unable to kill or capture Pratap, or any of his close family members in Udaipur. While the sources also claim that Pratap was able to make a successful escape, Man Singh managed to conquer Gogunda within a week after Haldighati then ended his campaign. Subsequently, Akbar himself led a sustained campaign against the Rana in September 1576, and soon, Gogunda, Udaipur, and Kumbhalgarh were all under Mughal control.\\n\\n\\n=== Post-Haldighati Mughal invasions ===\\n\\nShahbaz Khan Kamboh led multiple invasions that resulted in the subjugation of key areas in Mewar, such as Kumbhalgarh, Mandalgarh, Gogunda, and Central Mewar, bringing them permanently under Mughal rule. The Mughal Empire established its supremacy in Mewar after Shahbaz Khan's invasions. This ultimately led to a significant weakening of Pratap's power, forcing\")),\n",
              " GraphDocument(nodes=[Node(id='Khan', type='Person'), Node(id='Pratap', type='Person')], relationships=[Relationship(source=Node(id='Khan', type='Person'), target=Node(id='Pratap', type='Person'), type='INVADER')], source=Document(metadata={'title': 'Maharana Pratap', 'summary': 'Pratap Singh I (c. 9 May 1540 – 19 January 1597), popularly known as Maharana Pratap (IPA: [məɦaːˈɾaːɳaː pɾəˈtaːp] ), was a king of Kingdom of Mewar, in north-western India in the present-day state of Rajasthan. He is notable for leading the Rajput resistance against the expansionist policy of the Mughal Emperor Akbar including the Battle of Haldighati.', 'source': 'https://en.wikipedia.org/wiki/Maharana_Pratap'}, page_content=\" Khan's invasions. This ultimately led to a significant weakening of Pratap's power, forcing him to retreat to his hilly abode.\\n\\n\\n== Patronage of art ==\\nMaharana Pratap's court at Chavand had given shelter to many poets, artists, writers and artisans. The\")),\n",
              " GraphDocument(nodes=[Node(id='Maharana Pratap Airport', type='Airport'), Node(id='Udaipur', type='City'), Node(id='Rajasthan', type='State'), Node(id='India', type='Country'), Node(id='Dabok', type='Location'), Node(id='Maharana Pratap', type='Person'), Node(id='Mewar', type='Region'), Node(id='Piper Super Cub', type='Aircraft'), Node(id='Boeing 737', type='Aircraft'), Node(id='Airbus A320', type='Aircraft'), Node(id='Executive Aircraft', type='Aircraft'), Node(id='Private Aircraft', type='Aircraft'), Node(id='Distance Measuring Equipment', type='Navigation equipment'), Node(id='Dvor', type='Navigation equipment'), Node(id='Non-Directional Beacon', type='Navigation equipment'), Node(id='Cat-I Instrument Landing System', type='Navigation equipment')], relationships=[Relationship(source=Node(id='Maharana Pratap Airport', type='Airport'), target=Node(id='Udaipur', type='City'), type='SERVES'), Relationship(source=Node(id='Maharana Pratap Airport', type='Airport'), target=Node(id='Rajasthan', type='State'), type='LOCATED_IN'), Relationship(source=Node(id='Maharana Pratap Airport', type='Airport'), target=Node(id='India', type='Country'), type='LOCATED_IN'), Relationship(source=Node(id='Maharana Pratap Airport', type='Airport'), target=Node(id='Dabok', type='Location'), type='LOCATED_AT'), Relationship(source=Node(id='Maharana Pratap', type='Person'), target=Node(id='Maharana Pratap Airport', type='Airport'), type='NAMED_AFTER'), Relationship(source=Node(id='Maharana Pratap', type='Person'), target=Node(id='Mewar', type='Region'), type='BELONGS_TO'), Relationship(source=Node(id='Piper Super Cub', type='Aircraft'), target=Node(id='Maharana Pratap Airport', type='Airport'), type='LANDED_AT'), Relationship(source=Node(id='Boeing 737', type='Aircraft'), target=Node(id='Maharana Pratap Airport', type='Airport'), type='PARKED_AT'), Relationship(source=Node(id='Airbus A320', type='Aircraft'), target=Node(id='Maharana Pratap Airport', type='Airport'), type='PARKED_AT'), Relationship(source=Node(id='Executive Aircraft', type='Aircraft'), target=Node(id='Maharana Pratap Airport', type='Airport'), type='PARKED_AT'), Relationship(source=Node(id='Private Aircraft', type='Aircraft'), target=Node(id='Maharana Pratap Airport', type='Airport'), type='PARKED_AT'), Relationship(source=Node(id='Maharana Pratap Airport', type='Airport'), target=Node(id='Distance Measuring Equipment', type='Navigation equipment'), type='EQUIPPED_WITH'), Relationship(source=Node(id='Maharana Pratap Airport', type='Airport'), target=Node(id='Dvor', type='Navigation equipment'), type='EQUIPPED_WITH'), Relationship(source=Node(id='Maharana Pratap Airport', type='Airport'), target=Node(id='Non-Directional Beacon', type='Navigation equipment'), type='EQUIPPED_WITH'), Relationship(source=Node(id='Maharana Pratap Airport', type='Airport'), target=Node(id='Cat-I Instrument Landing System', type='Navigation equipment'), type='EQUIPPED_WITH')], source=Document(metadata={'title': 'Maharana Pratap Airport', 'summary': \"Maharana Pratap Airport (IATA: UDR, ICAO: VAUD) is a domestic airport serving Udaipur, Rajasthan, India. It is situated at Dabok, located 22 km (14 mi) east of Udaipur. The airport is named after Maharana Pratap who was a Maharana (ruler) of the princely state of Mewar, in north-western India.\\nThe airstrip was used for the first time when a 4-seater Piper Super Cub landed in the airport on 16 November 1957. The airport's new passenger terminal commenced operations in February 2008.\", 'source': 'https://en.wikipedia.org/wiki/Maharana_Pratap_Airport'}, page_content=\"Maharana Pratap Airport (IATA: UDR, ICAO: VAUD) is a domestic airport serving Udaipur, Rajasthan, India. It is situated at Dabok, located 22 km (14 mi) east of Udaipur. The airport is named after Maharana Pratap who was a Maharana (ruler) of the princely state of Mewar, in north-western India.\\nThe airstrip was used for the first time when a 4-seater Piper Super Cub landed in the airport on 16 November 1957. The airport's new passenger terminal commenced operations in February 2008.\\n\\n\\n== Structure ==\\n\\nThe airport is spread over 504 acres. It has one 2,743 metre long runway. Its 250 by 150-metre apron provides parking space for five Boeing 737 and Airbus A320 type aircraft at a time. A new apron is also constructed on the left side of the existing apron for executive and private aircraft. The new terminal building, measuring 12,000 sq.m., was constructed at a cost of ₹80 crore. The terminal has two aerobridges, 4 check-in counters and can handle 600 passengers during peak hours. The airport is equipped with modern navigational and landing aids like Distance Measuring Equipment (DME), DVOR, and Non-Directional Beacon (NDB) and is equipped with a CAT-I Instrument Landing System (ILS).\\n\\n\\n== Airlines and destinations ==\\n\\n\\n== Statistics ==\\n\\n\\n== See also ==\\nAirports in India\\nUdaipur\\nUdaipur City Bus Depot\\nUdaipur City railway station\\n\\n\\n== References ==\\n\\n\\n== External links ==\\n Media related to Maharana Pratap Airport at Wikimedia Commons\\n\\nMaharana Pratap Airport at Airports Authority of India\")),\n",
              " GraphDocument(nodes=[Node(id='Maharana Pratap', type='Person'), Node(id='Sharad Malhotra', type='Person'), Node(id='Rachana Parulkar', type='Person'), Node(id='Faisal Khan', type='Person'), Node(id='Roshni Walia', type='Person'), Node(id='Amitabh Bachchan', type='Person'), Node(id='Jalal-Ud-Din Muhammad Akbar', type='Person'), Node(id='Shakti Anand', type='Person'), Node(id='Rajshree Thakur', type='Person'), Node(id='Heena Parmar', type='Person'), Node(id='Jannat Zubair Rahmani', type='Person'), Node(id='Aashka Goradia', type='Person')], relationships=[Relationship(source=Node(id='Maharana Pratap', type='Person'), target=Node(id='Sharad Malhotra', type='Person'), type='ACTOR'), Relationship(source=Node(id='Maharana Pratap', type='Person'), target=Node(id='Rachana Parulkar', type='Person'), type='ACTOR'), Relationship(source=Node(id='Maharana Pratap', type='Person'), target=Node(id='Faisal Khan', type='Person'), type='ACTOR'), Relationship(source=Node(id='Maharana Pratap', type='Person'), target=Node(id='Roshni Walia', type='Person'), type='ACTOR'), Relationship(source=Node(id='Amitabh Bachchan', type='Person'), target=Node(id='Maharana Pratap', type='Person'), type='NARRATOR'), Relationship(source=Node(id='Jalal-Ud-Din Muhammad Akbar', type='Person'), target=Node(id='Krip Suri', type='Person'), type='ACTOR'), Relationship(source=Node(id='Jalal-Ud-Din Muhammad Akbar', type='Person'), target=Node(id='Avinesh Rekhi', type='Person'), type='ACTOR'), Relationship(source=Node(id='Jalal-Ud-Din Muhammad Akbar', type='Person'), target=Node(id='Sahil Deshmukh Khan', type='Person'), type='ACTOR'), Relationship(source=Node(id='Jalal-Ud-Din Muhammad Akbar', type='Person'), target=Node(id='Arish Bhiwandiwala', type='Person'), type='ACTOR'), Relationship(source=Node(id='Jalal-Ud-Din Muhammad Akbar', type='Person'), target=Node(id='Vishal Jethwa', type='Person'), type='ACTOR'), Relationship(source=Node(id='Shakti Anand', type='Person'), target=Node(id='Maharana Udai Singh Ii', type='Person'), type='ACTOR'), Relationship(source=Node(id='Rajshree Thakur', type='Person'), target=Node(id='Maharani Jaiwanta Bai Songara', type='Person'), type='ACTOR'), Relationship(source=Node(id='Heena Parmar', type='Person'), target=Node(id='Rani Phool Bai Rathore', type='Person'), type='ACTOR'), Relationship(source=Node(id='Jannat Zubair Rahmani', type='Person'), target=Node(id='Phool Bai Rathore', type='Person'), type='ACTOR'), Relationship(source=Node(id='Aashka Goradia', type='Person'), target=Node(id='Rani Dheer Bai Bhatiyani', type='Person'), type='ACTOR')], source=Document(metadata={'title': 'Bharat Ka Veer Putra – Maharana Pratap', 'summary': 'Bharat Ka Veer Putra – Maharana Pratap (transl.\\u2009 Brave Son of India – Maharana Pratap) is an Indian historical fiction series produced by Contiloe Entertainment. It is based on the life of Maharana Pratap, a sixteenth century ruler of Mewar kingdom. It starred Sharad Malhotra, Rachana Parulkar, Faisal Khan and Roshni Walia.\\nThe series premiered on 27 May 2013. Amitabh Bachchan narrated the introductory part of the series in first episode tracing the background of Mewar family and their resistance to Foreign Invasions.\\nThe series received positive reviews and won numerous awards and nominations. The final episode of the series aired on 10 December 2015.', 'source': 'https://en.wikipedia.org/wiki/Bharat_Ka_Veer_Putra_%E2%80%93_Maharana_Pratap'}, page_content=\"Bharat Ka Veer Putra – Maharana Pratap (transl.\\u2009 Brave Son of India – Maharana Pratap) is an Indian historical fiction series produced by Contiloe Entertainment. It is based on the life of Maharana Pratap, a sixteenth century ruler of Mewar kingdom. It starred Sharad Malhotra, Rachana Parulkar, Faisal Khan and Roshni Walia.\\nThe series premiered on 27 May 2013. Amitabh Bachchan narrated the introductory part of the series in first episode tracing the background of Mewar family and their resistance to Foreign Invasions.\\nThe series received positive reviews and won numerous awards and nominations. The final episode of the series aired on 10 December 2015.\\n\\n\\n== Cast ==\\n\\n\\n=== Main ===\\nSharad Malhotra as Maharana Pratap - Udai Singh and Jaiwanta Bai's son; Ajabde Punwar and Phool Bai's husband; Amar Singh's father\\nFaisal Khan as young Maharana Pratap\\nRachana Parulkar as Maharani Ajabde Punwar - Rao Mamrakh Punwar and Hansa Bai's daughter; Pratap's first wife and chief consort; Amar Singh's mother\\nRoshni Walia as young Ajabde Punwar\\nKrip Suri/Avinesh Rekhi as Jalal-ud-din Muhammad Akbar - Mughal emperor; Ruqaiya Sultan, Salima Sultan and Harka Bai's husband\\nSahil Deshmukh Khan / Arish Bhiwandiwala / Vishal Jethwa as young Akbar\\nShakti Anand as Maharana Udai Singh II - Jaiwanta Bai, Dheer Bai, Sajja Bai and Veer Bai's husband; Pratap, Shakti, Vikram, Jagmal, Chand and Maan's father\\nRajshree Thakur as Maharani Jaiwanta Bai Songara - Udai Singh's first wife and chief consort; Pratap's mother; Amar Singh's grandmother\\nHeena Parmar as Rani Phool Bai Rathore - Ramchandra Rathore's daughter; Pratap's fifth wife; Amar Singh's step-mother\\nJannat Zubair Rahmani as young Phool Bai Rathore\\nAashka Goradia as Rani Dheer Bai Bhatiyani - Ud\")),\n",
              " GraphDocument(nodes=[Node(id='Aashka Goradia', type='Person'), Node(id='Jineet Rath', type='Person'), Node(id='Khuram Khan', type='Person'), Node(id='Divyaalakshmi', type='Person'), Node(id='Vineet Kumar', type='Person'), Node(id='Dhruv Sangwan', type='Person'), Node(id='Sarika Dhillon', type='Person'), Node(id='Triyug Mantri', type='Person'), Node(id='Yash Karia', type='Person'), Node(id='Yash Mistry', type='Person'), Node(id='Vaishali Takkar', type='Person'), Node(id='Vinita Mahesh', type='Person'), Node(id='Deeksha K Sonalkar', type='Person'), Node(id='Tunisha Sharma', type='Person'), Node(id='Bakul Thakkar', type='Person'), Node(id='Anjali Rana', type='Person'), Node(id='Rajeev Bharadwaj', type='Person'), Node(id='Shaize Kazmi', type='Person')], relationships=[Relationship(source=Node(id='Aashka Goradia', type='Person'), target=Node(id='Udai Singh', type='Person'), type='WIFE'), Relationship(source=Node(id='Aashka Goradia', type='Person'), target=Node(id='Jagmal', type='Person'), type='MOTHER'), Relationship(source=Node(id='Aashka Goradia', type='Person'), target=Node(id='Chand', type='Person'), type='MOTHER'), Relationship(source=Node(id='Aashka Goradia', type='Person'), target=Node(id='Maan', type='Person'), type='MOTHER'), Relationship(source=Node(id='Jineet Rath', type='Person'), target=Node(id='Pratap', type='Person'), type='SON'), Relationship(source=Node(id='Jineet Rath', type='Person'), target=Node(id='Ajabde', type='Person'), type='SON'), Relationship(source=Node(id='Jineet Rath', type='Person'), target=Node(id='Udai Singh', type='Person'), type='GRANDSON'), Relationship(source=Node(id='Jineet Rath', type='Person'), target=Node(id='Jaivanta Bai', type='Person'), type='GRANDSON'), Relationship(source=Node(id='Jineet Rath', type='Person'), target=Node(id='Mewar', type='Person'), type='MAHARANA'), Relationship(source=Node(id='Khuram Khan', type='Person'), target=Node(id='Udai Singh', type='Person'), type='SON'), Relationship(source=Node(id='Khuram Khan', type='Person'), target=Node(id='Dheer Bai', type='Person'), type='SON'), Relationship(source=Node(id='Khuram Khan', type='Person'), target=Node(id='Pratap', type='Person'), type='BROTHER'), Relationship(source=Node(id='Divyaalakshmi', type='Person'), target=Node(id='Udai Singh', type='Person'), type='WIFE'), Relationship(source=Node(id='Divyaalakshmi', type='Person'), target=Node(id='Shakti Singh', type='Person'), type='MOTHER'), Relationship(source=Node(id='Divyaalakshmi', type='Person'), target=Node(id='Vikramdev', type='Person'), type='MOTHER'), Relationship(source=Node(id='Divyaalakshmi', type='Person'), target=Node(id='Pratap', type='Person'), type='MOTHER'), Relationship(source=Node(id='Vineet Kumar', type='Person'), target=Node(id='Udai Singh', type='Person'), type='SON'), Relationship(source=Node(id='Vineet Kumar', type='Person'), target=Node(id='Sajjabai', type='Person'), type='SON'), Relationship(source=Node(id='Vineet Kumar', type='Person'), target=Node(id='Vikramdev', type='Person'), type='BROTHER'), Relationship(source=Node(id='Vineet Kumar', type='Person'), target=Node(id='Pratap', type='Person'), type='BROTHER'), Relationship(source=Node(id='Sarika Dhillon', type='Person'), target=Node(id='Udai Singh', type='Person'), type='WIFE'), Relationship(source=Node(id='Sarika Dhillon', type='Person'), target=Node(id='Pratap', type='Person'), type='MOTHER'), Relationship(source=Node(id='Triyug Mantri', type='Person'), target=Node(id='Pratap', type='Person'), type='FRIEND'), Relationship(source=Node(id='Triyug Mantri', type='Person'), target=Node(id='Saubhagyavati', type='Person'), type='FRIEND'), Relationship(source=Node(id='Triyug Mantri', type='Person'), target=Node(id='Husband', type='Person'), type='FRIEND'), Relationship(source=Node(id='Yash Karia', type='Person'), target=Node(id='Pandit Chakrapani Mishra', type='Person'), type='YOUNG'), Relationship(source=Node(id='Yash Mistry', type='Person'), target=Node(id='Udai Singh', type='Person'), type='SON'), Relationship(source=Node(id='Yash Mistry', type='Person'), target=Node(id='Sajjabai', type='Person'), type='SON'), Relationship(source=Node(id='Yash Mistry', type='Person'), target=Node(id='Shakti Singh', type='Person'), type='BROTHER'), Relationship(source=Node(id='Yash Mistry', type='Person'), target=Node(id='Pratap', type='Person'), type='BROTHER'), Relationship(source=Node(id='Vaishali Takkar', type='Person'), target=Node(id='Udai Singh', type='Person'), type='DAUGHTER'), Relationship(source=Node(id='Vaishali Takkar', type='Person'), target=Node(id='Pratap', type='Person'), type='SISTER'), Relationship(source=Node(id='Deeksha K Sonalkar', type='Person'), target=Node(id='Udai Singh', type='Person'), type='DAUGHTER'), Relationship(source=Node(id='Deeksha K Sonalkar', type='Person'), target=Node(id='Pratap', type='Person'), type='SISTER'), Relationship(source=Node(id='Tunisha Sharma', type='Person'), target=Node(id='Udai Singh', type='Person'), type='DAUGHTER'), Relationship(source=Node(id='Tunisha Sharma', type='Person'), target=Node(id='Pratap', type='Person'), type='SISTER'), Relationship(source=Node(id='Bakul Thakkar', type='Person'), target=Node(id='Bijolia', type='Person'), type='GOVERNOR'), Relationship(source=Node(id='Bakul Thakkar', type='Person'), target=Node(id='Rani Hansa Bai', type='Person'), type='HUSBAND'), Relationship(source=Node(id='Bakul Thakkar', type='Person'), target=Node(id='Maharani Ajabde', type='Person'), type='FATHER'), Relationship(source=Node(id='Anjali Rana', type='Person'), target=Node(id='Rao Mamrakh Punwar', type='Person'), type='WIFE'), Relationship(source=Node(id='Anjali Rana', type='Person'), target=Node(id='Maharani Ajabde', type='Person'), type='MOTHER'), Relationship(source=Node(id='Rajeev Bharadwaj', type='Person'), target=Node(id='Udai Singh', type='Person'), type='CHIEF'), Relationship(source=Node(id='Rajeev Bharadwaj', type='Person'), target=Node(id='Salumber', type='Person'), type='GOVERNOR')], source=Document(metadata={'title': 'Bharat Ka Veer Putra – Maharana Pratap', 'summary': 'Bharat Ka Veer Putra – Maharana Pratap (transl.\\u2009 Brave Son of India – Maharana Pratap) is an Indian historical fiction series produced by Contiloe Entertainment. It is based on the life of Maharana Pratap, a sixteenth century ruler of Mewar kingdom. It starred Sharad Malhotra, Rachana Parulkar, Faisal Khan and Roshni Walia.\\nThe series premiered on 27 May 2013. Amitabh Bachchan narrated the introductory part of the series in first episode tracing the background of Mewar family and their resistance to Foreign Invasions.\\nThe series received positive reviews and won numerous awards and nominations. The final episode of the series aired on 10 December 2015.', 'source': 'https://en.wikipedia.org/wiki/Bharat_Ka_Veer_Putra_%E2%80%93_Maharana_Pratap'}, page_content=\"ore\\nAashka Goradia as Rani Dheer Bai Bhatiyani - Udai Singh's third and favourite wife; Jagmal, Chand and Maan's mother\\nJineet Rath  as Maharana Amar Singh I - Pratap and Ajabde's son; Udai Singh and Jaivanta Bai's grandson; 14th Maharana of Mewar\\n\\n\\n=== Recurring ===\\nKhuram Khan as Jagmal Singh - Udai Singh and Dheer Bai's son; Pratap's step-brother\\nDivyaalakshmi as Rani Sajja Bai Solankini - Uday Singh's second wife; Shakti Singh and Vikramdev's mother; Pratap's Step mother\\nVineet Kumar as Shakti Singh - Udai Singh and Sajjabai's son; Vikramdev's brother; Pratap's step-brother\\nDhruv Sangwan as Young Shakti Singh\\nSarika Dhillon as Rani Veer Bai Jhala - Udai Singh's fourth wife; Pratap's step-mother\\nTriyug Mantri as Pandit Chakrapani Mishra - Pratap's childhood friend and his Darbari-Pandit in the court; Saubhagyavati's husband\\nYash Karia as young Pandit Chakrapani Mishra\\nYash Mistry as Vikramdev Singh - Udai Singh and Sajjabai's son; Shakti's brother; Pratap's step-brother\\nVaishali Takkar / Vinita Mahesh as Rajkumari Maan Kanwar - Udai Singh and Dheer Bai's daughter; Pratap's step-sister\\nDeeksha K Sonalkar as Rajkumari Chaand Kanwar - Udai Singh and Dheer Bai's daughter; Pratap's step-sister\\nTunisha Sharma as young Chaand Kanwar\\nBakul Thakkar as Rao Mamrakh Punwar - Governor of Bijolia; Rani Hansa Bai's husband; Maharani Ajabde's father\\nAnjali Rana as Rani Hansa Bai - Rao Mamrakh Punwar's wife; Maharani Ajabde's mother\\nRajeev Bharadwaj as Rawat Sai Das Chundawat - Udai Singh and Mewar's chief, Governor of Salumber\\nShaize Kazmi as\")),\n",
              " GraphDocument(nodes=[Node(id='Udai Singh', type='Person'), Node(id=\"Mewar'S Chief\", type='Person'), Node(id='Governor Of Salumber', type='Person'), Node(id='Shaize Kazmi', type='Person'), Node(id='Rawat Krishna Das Chundawat', type='Person'), Node(id='Nephew Of Rawat Sai Das Chundawat', type='Person'), Node(id='Ankur Nayyar', type='Person'), Node(id='Acharya Raghvendra', type='Person'), Node(id='Nirbhay Wadhwa', type='Person'), Node(id='Hakim Khan Sur', type='Person'), Node(id=\"Pratap'S Army Commander\", type='Person'), Node(id='Battle Of Haldighati', type='Event'), Node(id='Rushiraj Pawar', type='Person'), Node(id='Patta Chundawat', type='Person'), Node(id=\"Ajabde'S Sworn Brother\", type='Person'), Node(id='Governor Of Kelwa', type='Person'), Node(id='Anand Goradia', type='Person'), Node(id='Rao Surtan Singh', type='Person'), Node(id='Governor Of Bundi', type='Person'), Node(id='Ved Thapar', type='Person'), Node(id='Jaimal Rathore', type='Person'), Node(id='Tasha Kapoor', type='Person'), Node(id='Harka Bai / Heer Bai', type='Person'), Node(id='Princess Of Amer', type='Person'), Node(id=\"Akbar'S Wife\", type='Person'), Node(id='Third Empress Consort', type='Person'), Node(id='Falaq Naaz', type='Person'), Node(id='Ruqaiya Sultan Begum', type='Person'), Node(id='Princess Of Mughal Empire', type='Person'), Node(id=\"Akbar'S Cousin\", type='Person'), Node(id='First Wife And Chief Consort', type='Person'), Node(id='Riya Deepsi', type='Person'), Node(id='Salima Sultan Begum', type='Person')], relationships=[Relationship(source=Node(id='Shaize Kazmi', type='Person'), target=Node(id='Rawat Krishna Das Chundawat', type='Person'), type='NEPHEW'), Relationship(source=Node(id='Ankur Nayyar', type='Person'), target=Node(id=\"Mewar'S Guru\", type='Person'), type='GURU'), Relationship(source=Node(id='Nirbhay Wadhwa', type='Person'), target=Node(id='Hakim Khan Sur', type='Person'), type='ARMY_COMMANDER'), Relationship(source=Node(id='Rushiraj Pawar', type='Person'), target=Node(id='Patta Chundawat', type='Person'), type='SWORN_BROTHER'), Relationship(source=Node(id='Rushiraj Pawar', type='Person'), target=Node(id='Governor Of Kelwa', type='Person'), type='ARMY_COMMANDER'), Relationship(source=Node(id='Anand Goradia', type='Person'), target=Node(id='Rao Surtan Singh', type='Person'), type='GOVERNOR'), Relationship(source=Node(id='Ved Thapar', type='Person'), target=Node(id='Jaimal Rathore', type='Person'), type='ARMY_COMMANDER'), Relationship(source=Node(id='Tasha Kapoor', type='Person'), target=Node(id='Harka Bai / Heer Bai', type='Person'), type='PRINCESS'), Relationship(source=Node(id='Tasha Kapoor', type='Person'), target=Node(id=\"Akbar'S Wife\", type='Person'), type='WIFE'), Relationship(source=Node(id='Tasha Kapoor', type='Person'), target=Node(id='Third Empress Consort', type='Person'), type='EMPRESS_CONSORT'), Relationship(source=Node(id='Falaq Naaz', type='Person'), target=Node(id='Ruqaiya Sultan Begum', type='Person'), type='PRINCESS'), Relationship(source=Node(id='Falaq Naaz', type='Person'), target=Node(id=\"Akbar'S Cousin\", type='Person'), type='COUSIN'), Relationship(source=Node(id='Falaq Naaz', type='Person'), target=Node(id='First Wife And Chief Consort', type='Person'), type='CHIEF_CONSORT'), Relationship(source=Node(id='Riya Deepsi', type='Person'), target=Node(id='Salima Sultan Begum', type='Person'), type='PRINCESS')], source=Document(metadata={'title': 'Bharat Ka Veer Putra – Maharana Pratap', 'summary': 'Bharat Ka Veer Putra – Maharana Pratap (transl.\\u2009 Brave Son of India – Maharana Pratap) is an Indian historical fiction series produced by Contiloe Entertainment. It is based on the life of Maharana Pratap, a sixteenth century ruler of Mewar kingdom. It starred Sharad Malhotra, Rachana Parulkar, Faisal Khan and Roshni Walia.\\nThe series premiered on 27 May 2013. Amitabh Bachchan narrated the introductory part of the series in first episode tracing the background of Mewar family and their resistance to Foreign Invasions.\\nThe series received positive reviews and won numerous awards and nominations. The final episode of the series aired on 10 December 2015.', 'source': 'https://en.wikipedia.org/wiki/Bharat_Ka_Veer_Putra_%E2%80%93_Maharana_Pratap'}, page_content=\" Udai Singh and Mewar's chief, Governor of Salumber\\nShaize Kazmi as Rawat Krishna Das Chundawat - Udai Singh and Mewar's chief, Nephew of Rawat Sai Das Chundawat, Governor of Salumber\\nAnkur Nayyar as Acharya Raghvendra; Mewar's Guru\\nNirbhay Wadhwa as Hakim Khan Sur - Pratap's army commander  in Battle of Haldighati\\nRushiraj Pawar as Patta Chundawat - Ajabde's sworn brother; Mewar's army commander, governor of Kelwa\\nAnand Goradia as Rao Surtan Singh - Governor of Bundi\\nVed Thapar  as Jaimal Rathore - Mewar's army commander\\nTasha Kapoor as Harka Bai / Heer Bai - Princess of Amer. Akbar's wife and third empress consort\\nFalaq Naaz as Ruqaiya Sultan Begum - Princess of Munghal empire. Akbar's cousin and first wife and chief consort.\\nRiya Deepsi as Salima Sultan Begum - Princess of Mughal Empire. Akbar's cousin\"))]"
            ]
          },
          "metadata": {},
          "execution_count": 27
        }
      ]
    },
    {
      "cell_type": "code",
      "source": [
        "graph.add_graph_documents(\n",
        "    graph_documents,\n",
        "    baseEntityLabel=True,\n",
        "    include_source=True\n",
        ")\n"
      ],
      "metadata": {
        "id": "yM1-7y8fNI8-"
      },
      "execution_count": 28,
      "outputs": []
    },
    {
      "cell_type": "code",
      "source": [
        "default_cypher = \"MATCH (s)-[r:!MENTIONS]->(t) RETURN s,r,t LIMIT 50\"\n"
      ],
      "metadata": {
        "id": "lz_Dn0RFNNIO"
      },
      "execution_count": 29,
      "outputs": []
    },
    {
      "cell_type": "code",
      "source": [
        "from yfiles_jupyter_graphs import GraphWidget\n",
        "from neo4j import GraphDatabase\n"
      ],
      "metadata": {
        "id": "gzPW4tZSR0XE"
      },
      "execution_count": 30,
      "outputs": []
    },
    {
      "cell_type": "code",
      "source": [
        "try:\n",
        "  import google.colab\n",
        "  from google.colab import output\n",
        "  output.enable_custom_widget_manager()\n",
        "except:\n",
        "  pass"
      ],
      "metadata": {
        "id": "RjLAum4oR22Y"
      },
      "execution_count": 31,
      "outputs": []
    },
    {
      "cell_type": "code",
      "source": [
        "def showGraph(cypher: str = default_cypher):\n",
        "    # create a neo4j session to run queries\n",
        "    driver = GraphDatabase.driver(\n",
        "        uri = os.environ[\"NEO4J_URI\"],\n",
        "        auth = (os.environ[\"NEO4J_USERNAME\"],\n",
        "                os.environ[\"NEO4J_PASSWORD\"]))\n",
        "    session = driver.session()\n",
        "    widget = GraphWidget(graph = session.run(cypher).graph())\n",
        "    widget.node_label_mapping = 'id'\n",
        "    display(widget)\n",
        "    return widget\n"
      ],
      "metadata": {
        "id": "G41jzaeNR8kX"
      },
      "execution_count": 32,
      "outputs": []
    },
    {
      "cell_type": "code",
      "source": [
        "showGraph()"
      ],
      "metadata": {
        "colab": {
          "base_uri": "https://localhost:8080/",
          "height": 1000,
          "referenced_widgets": [
            "6548507f4b0b476b9fd62935c7b383d5",
            "48dcd0537f7e4972afca65ac9474b17f"
          ]
        },
        "id": "Lssty92jSAyQ",
        "outputId": "5ec16ff5-f845-4e4a-def4-bc67ce7e1e9b"
      },
      "execution_count": 33,
      "outputs": [
        {
          "output_type": "display_data",
          "data": {
            "text/plain": [
              "GraphWidget(layout=Layout(height='800px', width='100%'))"
            ],
            "application/vnd.jupyter.widget-view+json": {
              "version_major": 2,
              "version_minor": 0,
              "model_id": "6548507f4b0b476b9fd62935c7b383d5"
            }
          },
          "metadata": {
            "application/vnd.jupyter.widget-view+json": {
              "colab": {
                "custom_widget_manager": {
                  "url": "https://ssl.gstatic.com/colaboratory-static/widgets/colab-cdn-widget-manager/2b70e893a8ba7c0f/manager.min.js"
                }
              }
            }
          }
        },
        {
          "output_type": "display_data",
          "data": {
            "text/plain": [
              "GraphWidget(layout=Layout(height='800px', width='100%'))"
            ],
            "application/vnd.jupyter.widget-view+json": {
              "version_major": 2,
              "version_minor": 0,
              "model_id": "6548507f4b0b476b9fd62935c7b383d5"
            }
          },
          "metadata": {
            "application/vnd.jupyter.widget-view+json": {
              "colab": {
                "custom_widget_manager": {
                  "url": "https://ssl.gstatic.com/colaboratory-static/widgets/colab-cdn-widget-manager/2b70e893a8ba7c0f/manager.min.js"
                }
              }
            }
          }
        }
      ]
    },
    {
      "cell_type": "code",
      "source": [
        "from typing import Tuple, List, Optional\n"
      ],
      "metadata": {
        "id": "DszgG20NSEY1"
      },
      "execution_count": 34,
      "outputs": []
    },
    {
      "cell_type": "code",
      "source": [
        "from langchain_community.vectorstores import Neo4jVector\n"
      ],
      "metadata": {
        "id": "KXxQPmuncQv2"
      },
      "execution_count": 37,
      "outputs": []
    },
    {
      "cell_type": "code",
      "source": [
        "from langchain_openai import OpenAIEmbeddings\n",
        "vector_index = Neo4jVector.from_existing_graph(\n",
        "    OpenAIEmbeddings(),\n",
        "    search_type=\"hybrid\",\n",
        "    node_label=\"Document\",\n",
        "    text_node_properties=[\"text\"],\n",
        "    embedding_node_property=\"embedding\"\n",
        ")"
      ],
      "metadata": {
        "colab": {
          "base_uri": "https://localhost:8080/",
          "height": 493
        },
        "id": "Ay1YvGXucTFi",
        "outputId": "1a49282f-1a2b-4ad4-d77d-a0823e670585"
      },
      "execution_count": 38,
      "outputs": [
        {
          "output_type": "error",
          "ename": "ValueError",
          "evalue": "Index with name vector already exists.The provided embedding function and vector index dimensions do not match.\nEmbedding function dimension: 1536\nVector index dimension: 384",
          "traceback": [
            "\u001b[0;31m---------------------------------------------------------------------------\u001b[0m",
            "\u001b[0;31mValueError\u001b[0m                                Traceback (most recent call last)",
            "\u001b[0;32m<ipython-input-38-3740ba178677>\u001b[0m in \u001b[0;36m<cell line: 2>\u001b[0;34m()\u001b[0m\n\u001b[1;32m      1\u001b[0m \u001b[0;32mfrom\u001b[0m \u001b[0mlangchain_openai\u001b[0m \u001b[0;32mimport\u001b[0m \u001b[0mOpenAIEmbeddings\u001b[0m\u001b[0;34m\u001b[0m\u001b[0;34m\u001b[0m\u001b[0m\n\u001b[0;32m----> 2\u001b[0;31m vector_index = Neo4jVector.from_existing_graph(\n\u001b[0m\u001b[1;32m      3\u001b[0m     \u001b[0mOpenAIEmbeddings\u001b[0m\u001b[0;34m(\u001b[0m\u001b[0;34m)\u001b[0m\u001b[0;34m,\u001b[0m\u001b[0;34m\u001b[0m\u001b[0;34m\u001b[0m\u001b[0m\n\u001b[1;32m      4\u001b[0m     \u001b[0msearch_type\u001b[0m\u001b[0;34m=\u001b[0m\u001b[0;34m\"hybrid\"\u001b[0m\u001b[0;34m,\u001b[0m\u001b[0;34m\u001b[0m\u001b[0;34m\u001b[0m\u001b[0m\n\u001b[1;32m      5\u001b[0m     \u001b[0mnode_label\u001b[0m\u001b[0;34m=\u001b[0m\u001b[0;34m\"Document\"\u001b[0m\u001b[0;34m,\u001b[0m\u001b[0;34m\u001b[0m\u001b[0;34m\u001b[0m\u001b[0m\n",
            "\u001b[0;32m/usr/local/lib/python3.10/dist-packages/langchain_community/vectorstores/neo4j_vector.py\u001b[0m in \u001b[0;36mfrom_existing_graph\u001b[0;34m(cls, embedding, node_label, embedding_node_property, text_node_properties, keyword_index_name, index_name, search_type, retrieval_query, **kwargs)\u001b[0m\n\u001b[1;32m   1399\u001b[0m         \u001b[0;31m# If the index already exists, check if embedding dimensions match\u001b[0m\u001b[0;34m\u001b[0m\u001b[0;34m\u001b[0m\u001b[0m\n\u001b[1;32m   1400\u001b[0m         \u001b[0;32melif\u001b[0m \u001b[0;32mnot\u001b[0m \u001b[0mstore\u001b[0m\u001b[0;34m.\u001b[0m\u001b[0membedding_dimension\u001b[0m \u001b[0;34m==\u001b[0m \u001b[0membedding_dimension\u001b[0m\u001b[0;34m:\u001b[0m\u001b[0;34m\u001b[0m\u001b[0;34m\u001b[0m\u001b[0m\n\u001b[0;32m-> 1401\u001b[0;31m             raise ValueError(\n\u001b[0m\u001b[1;32m   1402\u001b[0m                 \u001b[0;34mf\"Index with name {store.index_name} already exists.\"\u001b[0m\u001b[0;34m\u001b[0m\u001b[0;34m\u001b[0m\u001b[0m\n\u001b[1;32m   1403\u001b[0m                 \u001b[0;34m\"The provided embedding function and vector index \"\u001b[0m\u001b[0;34m\u001b[0m\u001b[0;34m\u001b[0m\u001b[0m\n",
            "\u001b[0;31mValueError\u001b[0m: Index with name vector already exists.The provided embedding function and vector index dimensions do not match.\nEmbedding function dimension: 1536\nVector index dimension: 384"
          ]
        }
      ]
    },
    {
      "cell_type": "code",
      "source": [
        "from langchain_openai import OpenAIEmbeddings\n",
        "vector_index = Neo4jVector.from_existing_graph(\n",
        "    OpenAIEmbeddings(),\n",
        "    search_type=\"hybrid\",\n",
        "    node_label=\"Document\",\n",
        "    text_node_properties=[\"text\"],\n",
        "    embedding_node_property=\"embedding\",\n",
        "    index_name=\"new_vector_index\"  # Use a different index name\n",
        ")"
      ],
      "metadata": {
        "colab": {
          "base_uri": "https://localhost:8080/"
        },
        "id": "UUT1ZYdTcWHp",
        "outputId": "625f76de-0cf6-4734-b78a-9af786c7b587"
      },
      "execution_count": 39,
      "outputs": [
        {
          "output_type": "stream",
          "name": "stderr",
          "text": [
            "WARNING:neo4j.notifications:Received notification from DBMS server: {severity: WARNING} {code: Neo.ClientNotification.Statement.FeatureDeprecationWarning} {category: DEPRECATION} {title: This feature is deprecated and will be removed in future versions.} {description: The query used a deprecated procedure. ('db.create.setVectorProperty' has been replaced by 'db.create.setNodeVectorProperty')} {position: line: 1, column: 70, offset: 69} for query: \"UNWIND $data AS row MATCH (n:`Document`) WHERE elementId(n) = row.id CALL db.create.setVectorProperty(n, 'embedding', row.embedding) YIELD node RETURN count(*)\"\n"
          ]
        }
      ]
    },
    {
      "cell_type": "code",
      "source": [
        "graph.query(\"CREATE FULLTEXT INDEX entity IF NOT EXISTS FOR (e:__Entity__) ON EACH [e.id]\")\n",
        "\n"
      ],
      "metadata": {
        "colab": {
          "base_uri": "https://localhost:8080/"
        },
        "id": "Hni8pBXWd0Ar",
        "outputId": "403a8724-ff0c-4f06-c77b-298cce0b7bf3"
      },
      "execution_count": 40,
      "outputs": [
        {
          "output_type": "execute_result",
          "data": {
            "text/plain": [
              "[]"
            ]
          },
          "metadata": {},
          "execution_count": 40
        }
      ]
    },
    {
      "cell_type": "code",
      "source": [
        "from langchain_core.pydantic_v1 import BaseModel, Field\n",
        "# Extract entities from text\n",
        "class Entities(BaseModel):\n",
        "    \"\"\"Identifying information about entities.\"\"\"\n",
        "\n",
        "    names: List[str] = Field(\n",
        "        ...,\n",
        "        description=\"All the person, organization, or business entities that \"\n",
        "        \"appear in the text\",\n",
        "    )\n"
      ],
      "metadata": {
        "id": "ODUevnL1eC92"
      },
      "execution_count": 41,
      "outputs": []
    },
    {
      "cell_type": "code",
      "source": [
        "from langchain_core.prompts import ChatPromptTemplate\n",
        "from langchain_core.prompts.prompt import PromptTemplate\n",
        ""
      ],
      "metadata": {
        "id": "trzu8qrmhV4K"
      },
      "execution_count": 42,
      "outputs": []
    },
    {
      "cell_type": "code",
      "source": [
        "prompt = ChatPromptTemplate.from_messages(\n",
        "    [\n",
        "        (\n",
        "            \"system\",\n",
        "            \"You are extracting organization and person entities from the text.\",\n",
        "        ),\n",
        "        (\n",
        "            \"human\",\n",
        "            \"Use the given format to extract information from the following \"\n",
        "            \"input: {question}\",\n",
        "        ),\n",
        "    ]\n",
        ")\n",
        ""
      ],
      "metadata": {
        "id": "5o89x66ahYhd"
      },
      "execution_count": 43,
      "outputs": []
    },
    {
      "cell_type": "code",
      "source": [
        "entity_chain = prompt | llm.with_structured_output(Entities)\n"
      ],
      "metadata": {
        "id": "mfAZNcdkhb6u"
      },
      "execution_count": 44,
      "outputs": []
    },
    {
      "cell_type": "code",
      "source": [
        "entity_chain.invoke({\"question\": \"Where was Maharana Pratap born?\"}).names"
      ],
      "metadata": {
        "colab": {
          "base_uri": "https://localhost:8080/"
        },
        "id": "oUYSkWochp04",
        "outputId": "233a8bfa-f35a-4b8f-afdf-9c912b0da27f"
      },
      "execution_count": 45,
      "outputs": [
        {
          "output_type": "execute_result",
          "data": {
            "text/plain": [
              "['Maharana Pratap']"
            ]
          },
          "metadata": {},
          "execution_count": 45
        }
      ]
    },
    {
      "cell_type": "code",
      "source": [
        "from langchain_community.vectorstores.neo4j_vector import remove_lucene_chars"
      ],
      "metadata": {
        "id": "7829t_p5h7E4"
      },
      "execution_count": 46,
      "outputs": []
    },
    {
      "cell_type": "code",
      "source": [
        "def generate_full_text_query(input: str) -> str:\n",
        "    full_text_query = \"\"\n",
        "    words = [el for el in remove_lucene_chars(input).split() if el]\n",
        "    for word in words[:-1]:\n",
        "        full_text_query += f\" {word}~2 AND\"\n",
        "    full_text_query += f\" {words[-1]}~2\"\n",
        "    return full_text_query.strip()\n",
        "\n",
        ""
      ],
      "metadata": {
        "id": "CZf_o3otiRIt"
      },
      "execution_count": 47,
      "outputs": []
    },
    {
      "cell_type": "code",
      "source": [
        "def structured_retriever(question: str) -> str:\n",
        "    result = \"\"\n",
        "    entities = entity_chain.invoke({\"question\": question})\n",
        "    for entity in entities.names:\n",
        "        response = graph.query(\n",
        "            \"\"\"CALL db.index.fulltext.queryNodes('entity', $query, {limit:2})\n",
        "            YIELD node,score\n",
        "            CALL {\n",
        "              WITH node\n",
        "              MATCH (node)-[r:!MENTIONS]->(neighbor)\n",
        "              RETURN node.id + ' - ' + type(r) + ' -> ' + neighbor.id AS output\n",
        "              UNION ALL\n",
        "              WITH node\n",
        "              MATCH (node)<-[r:!MENTIONS]-(neighbor)\n",
        "              RETURN neighbor.id + ' - ' + type(r) + ' -> ' +  node.id AS output\n",
        "            }\n",
        "            RETURN output LIMIT 50\n",
        "            \"\"\",\n",
        "            {\"query\": generate_full_text_query(entity)},\n",
        "        )\n",
        "        result += \"\\n\".join([el['output'] for el in response])\n",
        "    return result\n",
        ""
      ],
      "metadata": {
        "id": "32SMDzJuiUTI"
      },
      "execution_count": 48,
      "outputs": []
    },
    {
      "cell_type": "code",
      "source": [
        "print(structured_retriever(\"Who is Maharana Pratap?\"))"
      ],
      "metadata": {
        "colab": {
          "base_uri": "https://localhost:8080/"
        },
        "id": "FmaxFYhtiYLC",
        "outputId": "4aa898d3-d341-4003-de1e-4f90ed24824c"
      },
      "execution_count": 50,
      "outputs": [
        {
          "output_type": "stream",
          "name": "stdout",
          "text": [
            "Maharana Pratap - CONFLICT -> Mughal Emperor Akbar\n",
            "Maharana Pratap - DIPLOMATIC_RELATION -> Raja Man Singh I\n",
            "Maharana Pratap - BATTLE -> Haldighati\n",
            "Maharana Pratap - NAMED_AFTER -> Maharana Pratap Airport\n",
            "Maharana Pratap - BELONGS_TO -> Mewar\n",
            "Maharana Pratap - ACTOR -> Sharad Malhotra\n",
            "Maharana Pratap - ACTOR -> Rachana Parulkar\n",
            "Maharana Pratap - ACTOR -> Faisal Khan\n",
            "Maharana Pratap - ACTOR -> Roshni Walia\n",
            "Maharana Pratap - HAD -> Military Career\n",
            "Pratap Singh - ALIAS -> Maharana Pratap\n",
            "Pratap Singh - SUCCESSOR -> Maharana Pratap\n",
            "Amitabh Bachchan - NARRATOR -> Maharana Pratap\n",
            "Pratap Singh I - KNOWN_AS -> Maharana Pratap\n",
            "921e76b2a3a4f23f8cd3742312691883ad93143f - HAS_ENTITY -> Maharana Pratap\n",
            "f2ab23063ab6f040ca79d1c241250f66449ad52e - HAS_ENTITY -> Maharana Pratap\n",
            "08e54a230a510802455b4b05a35f3b9b1aa88ca5 - HAS_ENTITY -> Maharana Pratap\n",
            "9c8ae552b200b2bd751d7c52e1f0c0d687bc4b0c - HAS_ENTITY -> Maharana Pratap\n",
            "Maharana Pratap Airport - SERVES -> Udaipur\n",
            "Maharana Pratap Airport - LOCATED_IN -> Rajasthan\n",
            "Maharana Pratap Airport - LOCATED_IN -> India\n",
            "Maharana Pratap Airport - LOCATED_AT -> Dabok\n",
            "Maharana Pratap Airport - EQUIPPED_WITH -> Distance Measuring Equipment\n",
            "Maharana Pratap Airport - EQUIPPED_WITH -> Dvor\n",
            "Maharana Pratap Airport - EQUIPPED_WITH -> Non-Directional Beacon\n",
            "Maharana Pratap Airport - EQUIPPED_WITH -> Cat-I Instrument Landing System\n",
            "Maharana Pratap - NAMED_AFTER -> Maharana Pratap Airport\n",
            "Piper Super Cub - LANDED_AT -> Maharana Pratap Airport\n",
            "Boeing 737 - PARKED_AT -> Maharana Pratap Airport\n",
            "Airbus A320 - PARKED_AT -> Maharana Pratap Airport\n",
            "Executive Aircraft - PARKED_AT -> Maharana Pratap Airport\n",
            "Private Aircraft - PARKED_AT -> Maharana Pratap Airport\n"
          ]
        }
      ]
    },
    {
      "cell_type": "code",
      "source": [
        "def retriever(question: str):\n",
        "    print(f\"Search query: {question}\")\n",
        "    structured_data = structured_retriever(question)\n",
        "    unstructured_data = [el.page_content for el in vector_index.similarity_search(question)]\n",
        "    final_data = f\"\"\"Structured data:\n",
        "{structured_data}\n",
        "Unstructured data:\n",
        "{\"#Document \". join(unstructured_data)}\n",
        "    \"\"\"\n",
        "    return final_data\n",
        "\n"
      ],
      "metadata": {
        "id": "2JWFAYiCid1H"
      },
      "execution_count": 51,
      "outputs": []
    },
    {
      "cell_type": "code",
      "source": [
        "_template = \"\"\"Given the following conversation and a follow up question, rephrase the follow up question to be a standalone question,\n",
        "in its original language.\n",
        "Chat History:\n",
        "{chat_history}\n",
        "Follow Up Input: {question}\n",
        "Standalone question:\"\"\""
      ],
      "metadata": {
        "id": "katpqSjHiwzr"
      },
      "execution_count": 52,
      "outputs": []
    },
    {
      "cell_type": "code",
      "source": [
        "CONDENSE_QUESTION_PROMPT = PromptTemplate.from_template(_template)\n"
      ],
      "metadata": {
        "id": "F3EsH03jizJq"
      },
      "execution_count": 53,
      "outputs": []
    },
    {
      "cell_type": "code",
      "source": [
        "def _format_chat_history(chat_history: List[Tuple[str, str]]) -> List:\n",
        "    buffer = []\n",
        "    for human, ai in chat_history:\n",
        "        buffer.append(HumanMessage(content=human))\n",
        "        buffer.append(AIMessage(content=ai))\n",
        "    return buffer"
      ],
      "metadata": {
        "id": "ft5kG2pMi1Pv"
      },
      "execution_count": 54,
      "outputs": []
    },
    {
      "cell_type": "code",
      "source": [
        "from langchain_core.runnables import (\n",
        "    RunnableBranch,\n",
        "    RunnableLambda,\n",
        "    RunnableParallel,\n",
        "    RunnablePassthrough,\n",
        ")\n",
        "from langchain_core.messages import AIMessage, HumanMessage\n",
        "from langchain_core.output_parsers import StrOutputParser\n",
        ""
      ],
      "metadata": {
        "id": "6COc8peJjNx3"
      },
      "execution_count": 59,
      "outputs": []
    },
    {
      "cell_type": "code",
      "source": [
        "_search_query = RunnableBranch(\n",
        "    # If input includes chat_history, we condense it with the follow-up question\n",
        "    (\n",
        "        RunnableLambda(lambda x: bool(x.get(\"chat_history\"))).with_config(\n",
        "            run_name=\"HasChatHistoryCheck\"\n",
        "        ),  # Condense follow-up question and chat into a standalone_question\n",
        "        RunnablePassthrough.assign(\n",
        "            chat_history=lambda x: _format_chat_history(x[\"chat_history\"])\n",
        "        )\n",
        "        | CONDENSE_QUESTION_PROMPT\n",
        "        | ChatOpenAI(temperature=0)\n",
        "        | StrOutputParser(),\n",
        "    ),\n",
        "    # Else, we have no chat history, so just pass through the question\n",
        "    RunnableLambda(lambda x : x[\"question\"]),\n",
        ")"
      ],
      "metadata": {
        "id": "cTL-RyYbi24A"
      },
      "execution_count": 60,
      "outputs": []
    },
    {
      "cell_type": "code",
      "source": [
        "template = \"\"\"Answer the question based only on the following context:\n",
        "{context}\n",
        "\n",
        "Question: {question}\n",
        "Use natural language and be concise.\n",
        "Answer:\"\"\"\n",
        "prompt = ChatPromptTemplate.from_template(template)"
      ],
      "metadata": {
        "id": "9vLxN9HSkTLy"
      },
      "execution_count": 63,
      "outputs": []
    },
    {
      "cell_type": "code",
      "source": [
        "chain = (\n",
        "    RunnableParallel(\n",
        "        {\n",
        "            \"context\": _search_query | retriever,\n",
        "            \"question\": RunnablePassthrough(),\n",
        "        }\n",
        "    )\n",
        "    | prompt\n",
        "    | llm\n",
        "    | StrOutputParser()\n",
        ")\n",
        ""
      ],
      "metadata": {
        "id": "9sF2MMWskUsc"
      },
      "execution_count": 64,
      "outputs": []
    },
    {
      "cell_type": "code",
      "source": [
        "\n",
        "chain.invoke({\"question\": \"From Which Kingdom Do Maharana Pratap Belong to the?\"})"
      ],
      "metadata": {
        "colab": {
          "base_uri": "https://localhost:8080/",
          "height": 54
        },
        "id": "-jIOWMRJi5ri",
        "outputId": "a9961897-964b-40ce-f180-3bfc66fa6ee5"
      },
      "execution_count": 65,
      "outputs": [
        {
          "output_type": "stream",
          "name": "stdout",
          "text": [
            "Search query: From Which Kingdom Do Maharana Pratap Belong to the?\n"
          ]
        },
        {
          "output_type": "execute_result",
          "data": {
            "text/plain": [
              "'Maharana Pratap belongs to the Kingdom of Mewar.'"
            ],
            "application/vnd.google.colaboratory.intrinsic+json": {
              "type": "string"
            }
          },
          "metadata": {},
          "execution_count": 65
        }
      ]
    },
    {
      "cell_type": "code",
      "source": [
        "chain.invoke({\"question\": \"Who was the his father?\"})"
      ],
      "metadata": {
        "colab": {
          "base_uri": "https://localhost:8080/",
          "height": 54
        },
        "id": "GfldKE1HkL75",
        "outputId": "6fd81056-05f1-4708-cc95-f8ac8b3b7785"
      },
      "execution_count": 66,
      "outputs": [
        {
          "output_type": "stream",
          "name": "stdout",
          "text": [
            "Search query: Who was the his father?\n"
          ]
        },
        {
          "output_type": "execute_result",
          "data": {
            "text/plain": [
              "'Udai Singh II.'"
            ],
            "application/vnd.google.colaboratory.intrinsic+json": {
              "type": "string"
            }
          },
          "metadata": {},
          "execution_count": 66
        }
      ]
    },
    {
      "cell_type": "code",
      "source": [],
      "metadata": {
        "id": "VxBht62Ykt7r"
      },
      "execution_count": null,
      "outputs": []
    }
  ]
}